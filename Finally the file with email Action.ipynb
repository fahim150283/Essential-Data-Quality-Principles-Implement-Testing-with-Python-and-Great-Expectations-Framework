{
 "cells": [
  {
   "metadata": {
    "ExecuteTime": {
     "end_time": "2025-06-23T05:11:44.739545Z",
     "start_time": "2025-06-23T05:11:42.918069Z"
    }
   },
   "cell_type": "code",
   "source": "pip install great_expectations",
   "id": "839f3a44d67105b4",
   "outputs": [
    {
     "name": "stdout",
     "output_type": "stream",
     "text": [
      "Defaulting to user installation because normal site-packages is not writeable\n",
      "Requirement already satisfied: great_expectations in c:\\users\\techteam-08\\appdata\\roaming\\python\\python312\\site-packages (1.5.1)\n",
      "Requirement already satisfied: altair<5.0.0,>=4.2.1 in c:\\users\\techteam-08\\appdata\\roaming\\python\\python312\\site-packages (from great_expectations) (4.2.2)\n",
      "Requirement already satisfied: cryptography>=3.2 in c:\\programdata\\anaconda3\\lib\\site-packages (from great_expectations) (43.0.0)\n",
      "Requirement already satisfied: jinja2>=3 in c:\\programdata\\anaconda3\\lib\\site-packages (from great_expectations) (3.1.4)\n",
      "Requirement already satisfied: jsonschema>=2.5.1 in c:\\programdata\\anaconda3\\lib\\site-packages (from great_expectations) (4.23.0)\n",
      "Requirement already satisfied: marshmallow<4.0.0,>=3.7.1 in c:\\users\\techteam-08\\appdata\\roaming\\python\\python312\\site-packages (from great_expectations) (3.26.1)\n",
      "Requirement already satisfied: mistune>=0.8.4 in c:\\programdata\\anaconda3\\lib\\site-packages (from great_expectations) (2.0.4)\n",
      "Requirement already satisfied: packaging in c:\\programdata\\anaconda3\\lib\\site-packages (from great_expectations) (24.1)\n",
      "Requirement already satisfied: posthog<4,>3 in c:\\users\\techteam-08\\appdata\\roaming\\python\\python312\\site-packages (from great_expectations) (3.25.0)\n",
      "Requirement already satisfied: pydantic>=1.10.7 in c:\\programdata\\anaconda3\\lib\\site-packages (from great_expectations) (2.8.2)\n",
      "Requirement already satisfied: pyparsing>=2.4 in c:\\programdata\\anaconda3\\lib\\site-packages (from great_expectations) (3.1.2)\n",
      "Requirement already satisfied: python-dateutil>=2.8.1 in c:\\programdata\\anaconda3\\lib\\site-packages (from great_expectations) (2.9.0.post0)\n",
      "Requirement already satisfied: requests>=2.20 in c:\\programdata\\anaconda3\\lib\\site-packages (from great_expectations) (2.32.3)\n",
      "Requirement already satisfied: ruamel.yaml>=0.16 in c:\\programdata\\anaconda3\\lib\\site-packages (from great_expectations) (0.18.6)\n",
      "Requirement already satisfied: scipy>=1.6.0 in c:\\programdata\\anaconda3\\lib\\site-packages (from great_expectations) (1.13.1)\n",
      "Requirement already satisfied: tqdm>=4.59.0 in c:\\programdata\\anaconda3\\lib\\site-packages (from great_expectations) (4.66.5)\n",
      "Requirement already satisfied: typing-extensions>=4.1.0 in c:\\programdata\\anaconda3\\lib\\site-packages (from great_expectations) (4.11.0)\n",
      "Requirement already satisfied: tzlocal>=1.2 in c:\\users\\techteam-08\\appdata\\roaming\\python\\python312\\site-packages (from great_expectations) (5.3.1)\n",
      "Requirement already satisfied: numpy>=1.22.4 in c:\\programdata\\anaconda3\\lib\\site-packages (from great_expectations) (1.26.4)\n",
      "Requirement already satisfied: pandas<2.2,>=1.3.0 in c:\\users\\techteam-08\\appdata\\roaming\\python\\python312\\site-packages (from great_expectations) (2.1.4)\n",
      "Requirement already satisfied: entrypoints in c:\\users\\techteam-08\\appdata\\roaming\\python\\python312\\site-packages (from altair<5.0.0,>=4.2.1->great_expectations) (0.4)\n",
      "Requirement already satisfied: toolz in c:\\programdata\\anaconda3\\lib\\site-packages (from altair<5.0.0,>=4.2.1->great_expectations) (0.12.0)\n",
      "Requirement already satisfied: cffi>=1.12 in c:\\programdata\\anaconda3\\lib\\site-packages (from cryptography>=3.2->great_expectations) (1.17.1)\n",
      "Requirement already satisfied: MarkupSafe>=2.0 in c:\\programdata\\anaconda3\\lib\\site-packages (from jinja2>=3->great_expectations) (2.1.3)\n",
      "Requirement already satisfied: attrs>=22.2.0 in c:\\programdata\\anaconda3\\lib\\site-packages (from jsonschema>=2.5.1->great_expectations) (23.1.0)\n",
      "Requirement already satisfied: jsonschema-specifications>=2023.03.6 in c:\\programdata\\anaconda3\\lib\\site-packages (from jsonschema>=2.5.1->great_expectations) (2023.7.1)\n",
      "Requirement already satisfied: referencing>=0.28.4 in c:\\programdata\\anaconda3\\lib\\site-packages (from jsonschema>=2.5.1->great_expectations) (0.30.2)\n",
      "Requirement already satisfied: rpds-py>=0.7.1 in c:\\programdata\\anaconda3\\lib\\site-packages (from jsonschema>=2.5.1->great_expectations) (0.10.6)\n",
      "Requirement already satisfied: pytz>=2020.1 in c:\\programdata\\anaconda3\\lib\\site-packages (from pandas<2.2,>=1.3.0->great_expectations) (2024.1)\n",
      "Requirement already satisfied: tzdata>=2022.1 in c:\\programdata\\anaconda3\\lib\\site-packages (from pandas<2.2,>=1.3.0->great_expectations) (2023.3)\n",
      "Requirement already satisfied: six>=1.5 in c:\\programdata\\anaconda3\\lib\\site-packages (from posthog<4,>3->great_expectations) (1.16.0)\n",
      "Requirement already satisfied: monotonic>=1.5 in c:\\users\\techteam-08\\appdata\\roaming\\python\\python312\\site-packages (from posthog<4,>3->great_expectations) (1.6)\n",
      "Requirement already satisfied: backoff>=1.10.0 in c:\\users\\techteam-08\\appdata\\roaming\\python\\python312\\site-packages (from posthog<4,>3->great_expectations) (2.2.1)\n",
      "Requirement already satisfied: distro>=1.5.0 in c:\\programdata\\anaconda3\\lib\\site-packages (from posthog<4,>3->great_expectations) (1.9.0)\n",
      "Requirement already satisfied: annotated-types>=0.4.0 in c:\\programdata\\anaconda3\\lib\\site-packages (from pydantic>=1.10.7->great_expectations) (0.6.0)\n",
      "Requirement already satisfied: pydantic-core==2.20.1 in c:\\programdata\\anaconda3\\lib\\site-packages (from pydantic>=1.10.7->great_expectations) (2.20.1)\n",
      "Requirement already satisfied: charset-normalizer<4,>=2 in c:\\programdata\\anaconda3\\lib\\site-packages (from requests>=2.20->great_expectations) (3.3.2)\n",
      "Requirement already satisfied: idna<4,>=2.5 in c:\\programdata\\anaconda3\\lib\\site-packages (from requests>=2.20->great_expectations) (3.7)\n",
      "Requirement already satisfied: urllib3<3,>=1.21.1 in c:\\programdata\\anaconda3\\lib\\site-packages (from requests>=2.20->great_expectations) (2.2.3)\n",
      "Requirement already satisfied: certifi>=2017.4.17 in c:\\programdata\\anaconda3\\lib\\site-packages (from requests>=2.20->great_expectations) (2024.8.30)\n",
      "Requirement already satisfied: ruamel.yaml.clib>=0.2.7 in c:\\programdata\\anaconda3\\lib\\site-packages (from ruamel.yaml>=0.16->great_expectations) (0.2.8)\n",
      "Requirement already satisfied: colorama in c:\\programdata\\anaconda3\\lib\\site-packages (from tqdm>=4.59.0->great_expectations) (0.4.6)\n",
      "Requirement already satisfied: pycparser in c:\\programdata\\anaconda3\\lib\\site-packages (from cffi>=1.12->cryptography>=3.2->great_expectations) (2.21)\n",
      "Note: you may need to restart the kernel to use updated packages.\n"
     ]
    }
   ],
   "execution_count": 1
  },
  {
   "metadata": {
    "ExecuteTime": {
     "end_time": "2025-06-23T05:11:46.683090Z",
     "start_time": "2025-06-23T05:11:44.748875Z"
    }
   },
   "cell_type": "code",
   "source": "pip install pandas",
   "id": "2f298eee0b24fec1",
   "outputs": [
    {
     "name": "stdout",
     "output_type": "stream",
     "text": [
      "Defaulting to user installation because normal site-packages is not writeable\n",
      "Requirement already satisfied: pandas in c:\\users\\techteam-08\\appdata\\roaming\\python\\python312\\site-packages (2.1.4)\n",
      "Requirement already satisfied: numpy<2,>=1.26.0 in c:\\programdata\\anaconda3\\lib\\site-packages (from pandas) (1.26.4)\n",
      "Requirement already satisfied: python-dateutil>=2.8.2 in c:\\programdata\\anaconda3\\lib\\site-packages (from pandas) (2.9.0.post0)\n",
      "Requirement already satisfied: pytz>=2020.1 in c:\\programdata\\anaconda3\\lib\\site-packages (from pandas) (2024.1)\n",
      "Requirement already satisfied: tzdata>=2022.1 in c:\\programdata\\anaconda3\\lib\\site-packages (from pandas) (2023.3)\n",
      "Requirement already satisfied: six>=1.5 in c:\\programdata\\anaconda3\\lib\\site-packages (from python-dateutil>=2.8.2->pandas) (1.16.0)\n",
      "Note: you may need to restart the kernel to use updated packages.\n"
     ]
    }
   ],
   "execution_count": 2
  },
  {
   "metadata": {},
   "cell_type": "markdown",
   "source": "### Import Libraries",
   "id": "d50842acca2dea5c"
  },
  {
   "metadata": {
    "ExecuteTime": {
     "end_time": "2025-06-23T05:11:49.591885Z",
     "start_time": "2025-06-23T05:11:46.763480Z"
    }
   },
   "cell_type": "code",
   "source": [
    "from lib2to3.fixes.fix_input import context\n",
    "\n",
    "import pandas as pd\n",
    "import json\n",
    "import great_expectations as gx\n",
    "import sys\n",
    "import re\n",
    "import os\n",
    "import smtplib\n",
    "\n",
    "from dask.graph_manipulation import checkpoint\n",
    "from great_expectations.checkpoint.actions import EmailAction\n",
    "from great_expectations.expectations.expectation import ColumnMapExpectation\n",
    "from great_expectations.execution_engine.pandas_execution_engine import PandasExecutionEngine\n",
    "from great_expectations.execution_engine.sqlalchemy_execution_engine import SqlAlchemyExecutionEngine\n",
    "from great_expectations.expectations.metrics import ColumnMapMetricProvider\n",
    "from great_expectations.expectations.metrics.map_metric_provider import (column_map_metric_provider,\n",
    "                                                                         column_condition_partial)\n",
    "\n",
    "\n",
    "print(gx.__version__)\n",
    "print(pd.__version__)\n",
    "print(sys.version)"
   ],
   "id": "2e52bd03393f6d94",
   "outputs": [
    {
     "name": "stderr",
     "output_type": "stream",
     "text": [
      "C:\\Users\\TechTeam-08\\AppData\\Local\\Temp\\ipykernel_5200\\492115948.py:1: DeprecationWarning: lib2to3 package is deprecated and may not be able to parse Python 3.10+\n",
      "  from lib2to3.fixes.fix_input import context\n"
     ]
    },
    {
     "name": "stdout",
     "output_type": "stream",
     "text": [
      "1.5.1\n",
      "2.1.4\n",
      "3.12.7 | packaged by Anaconda, Inc. | (main, Oct  4 2024, 13:17:27) [MSC v.1929 64 bit (AMD64)]\n"
     ]
    }
   ],
   "execution_count": 3
  },
  {
   "metadata": {},
   "cell_type": "markdown",
   "source": "### Creating GX Context",
   "id": "d86a4ed17d1451e6"
  },
  {
   "metadata": {
    "ExecuteTime": {
     "end_time": "2025-06-23T05:11:49.651761Z",
     "start_time": "2025-06-23T05:11:49.611555Z"
    }
   },
   "cell_type": "code",
   "source": "context = gx.get_context(mode=\"ephemeral\")",
   "id": "c7d23321d0fb0520",
   "outputs": [],
   "execution_count": 4
  },
  {
   "metadata": {},
   "cell_type": "markdown",
   "source": "### Creating Datasource",
   "id": "b266b3d8271079f3"
  },
  {
   "metadata": {
    "ExecuteTime": {
     "end_time": "2025-06-23T05:11:49.676423Z",
     "start_time": "2025-06-23T05:11:49.663934Z"
    }
   },
   "cell_type": "code",
   "source": [
    "data_source_name ='temperature_data'\n",
    "data_source = context.data_sources.add_pandas(name=data_source_name)"
   ],
   "id": "77f06f2468867b3d",
   "outputs": [],
   "execution_count": 5
  },
  {
   "metadata": {},
   "cell_type": "markdown",
   "source": "### Creating DataAsset",
   "id": "607aaddd988ce320"
  },
  {
   "metadata": {
    "ExecuteTime": {
     "end_time": "2025-06-23T05:11:49.702392Z",
     "start_time": "2025-06-23T05:11:49.693697Z"
    }
   },
   "cell_type": "code",
   "source": [
    "data_asset_name = \"emp_asset\"\n",
    "data_asset = data_source.add_dataframe_asset(name=data_asset_name)"
   ],
   "id": "d3dbe15814ea0575",
   "outputs": [],
   "execution_count": 6
  },
  {
   "metadata": {},
   "cell_type": "markdown",
   "source": "### Creating Batch Definition",
   "id": "415bd5203d450f6d"
  },
  {
   "metadata": {
    "ExecuteTime": {
     "end_time": "2025-06-23T05:11:49.735483Z",
     "start_time": "2025-06-23T05:11:49.725529Z"
    }
   },
   "cell_type": "code",
   "source": [
    "batch_definition_name = \"emp_batch\"\n",
    "batch_definition = data_asset.add_batch_definition_whole_dataframe(batch_definition_name)"
   ],
   "id": "af20d1797a96742c",
   "outputs": [],
   "execution_count": 7
  },
  {
   "metadata": {},
   "cell_type": "markdown",
   "source": "### Creating Metric for PAN Validation",
   "id": "e3033ca883d98577"
  },
  {
   "metadata": {
    "ExecuteTime": {
     "end_time": "2025-06-23T05:11:49.754559Z",
     "start_time": "2025-06-23T05:11:49.750153Z"
    }
   },
   "cell_type": "code",
   "source": [
    "class ColumnValuesToMatchPanFormat(ColumnMapMetricProvider):\n",
    "    condition_metric_name = \"column_values.match_pan_format\"\n",
    "\n",
    "    @column_condition_partial(engine=PandasExecutionEngine)\n",
    "    def _pandas(cls, column, **kwargs):\n",
    "        pan_regex = r\"^[A-Z]{5}[0-9]{4}[A-Z]{1}$\"\n",
    "        return column.apply(lambda x: bool(re.match(pan_regex, str(x))))\n",
    "\n",
    "    @column_condition_partial(engine=SqlAlchemyExecutionEngine)\n",
    "    def _sqlalchemy(cls, column, **kwargs):\n",
    "        pan_regex = r\"^[A-Z]{5}[0-9]{4}[A-Z]{1}$\"\n",
    "        return column.like(f'[A-Z]{5}[0-9]{4}[A-Z]{1}')"
   ],
   "id": "70dcf34b96e87a52",
   "outputs": [],
   "execution_count": 8
  },
  {
   "metadata": {},
   "cell_type": "markdown",
   "source": "### Create Custom Expectation",
   "id": "43d9ebb623decfe7"
  },
  {
   "metadata": {
    "ExecuteTime": {
     "end_time": "2025-06-23T05:11:49.783319Z",
     "start_time": "2025-06-23T05:11:49.774530Z"
    }
   },
   "cell_type": "code",
   "source": [
    "class ExpectColumnValuesToMatchPanFormat(ColumnMapExpectation):\n",
    "    map_metric = \"column_values.match_pan_format\"\n",
    "    success_keys = (\"mostly\",)\n",
    "    default_kwarg_values = {\n",
    "        \"mostly\": 1.0,\n",
    "        \"result_format\": \"BASIC\",\n",
    "        \"include_config\": True\n",
    "    }"
   ],
   "id": "2038f69824fa43d",
   "outputs": [],
   "execution_count": 9
  },
  {
   "metadata": {},
   "cell_type": "markdown",
   "source": "### Creating Expectation",
   "id": "235ec860a7b6e678"
  },
  {
   "metadata": {
    "ExecuteTime": {
     "end_time": "2025-06-23T05:11:49.800017Z",
     "start_time": "2025-06-23T05:11:49.796086Z"
    }
   },
   "cell_type": "code",
   "source": "expectation_pan = ExpectColumnValuesToMatchPanFormat(column=\"pan\")",
   "id": "f08503896353dca8",
   "outputs": [],
   "execution_count": 10
  },
  {
   "metadata": {},
   "cell_type": "markdown",
   "source": "### Creating ExpectationSuite and Adding Expectations",
   "id": "99893e847fa265b2"
  },
  {
   "metadata": {
    "ExecuteTime": {
     "end_time": "2025-06-23T05:11:49.849383Z",
     "start_time": "2025-06-23T05:11:49.820979Z"
    }
   },
   "cell_type": "code",
   "source": [
    "expectation_suite_name = \"emp_suite\"\n",
    "expectation_suite_ref = gx.ExpectationSuite(name=expectation_suite_name)\n",
    "expectation_suite = context.suites.add(expectation_suite_ref)"
   ],
   "id": "9a93e5cfb5895fe8",
   "outputs": [],
   "execution_count": 11
  },
  {
   "metadata": {
    "ExecuteTime": {
     "end_time": "2025-06-23T05:11:49.897393Z",
     "start_time": "2025-06-23T05:11:49.862567Z"
    }
   },
   "cell_type": "code",
   "source": "expectation_suite.add_expectation(expectation_pan)",
   "id": "15ed4ea65b57e684",
   "outputs": [
    {
     "data": {
      "text/plain": [
       "ExpectColumnValuesToMatchPanFormat(id='038b6a9b-e639-40ab-b9c0-8d5fa694d5c8', meta=None, notes=None, result_format=<ResultFormat.BASIC: 'BASIC'>, description=None, catch_exceptions=True, rendered_content=None, windows=None, batch_id=None, column='pan', mostly=1, row_condition=None, condition_parser=None, default_kwarg_values={'mostly': 1.0, 'result_format': 'BASIC', 'include_config': True})"
      ]
     },
     "execution_count": 12,
     "metadata": {},
     "output_type": "execute_result"
    }
   ],
   "execution_count": 12
  },
  {
   "metadata": {},
   "cell_type": "markdown",
   "source": "### Creating Validation Definition",
   "id": "1d12c2149dc2b606"
  },
  {
   "metadata": {
    "ExecuteTime": {
     "end_time": "2025-06-23T05:11:49.909817Z",
     "start_time": "2025-06-23T05:11:49.905572Z"
    }
   },
   "cell_type": "code",
   "source": [
    "validation_def_name = \"emp_data_validation\"\n",
    "validation_definition_ref = gx.ValidationDefinition(data=batch_definition,\n",
    "                                                    suite=expectation_suite,\n",
    "                                                    name=validation_def_name)"
   ],
   "id": "d3c368b371208854",
   "outputs": [],
   "execution_count": 13
  },
  {
   "metadata": {
    "ExecuteTime": {
     "end_time": "2025-06-23T05:11:49.967028Z",
     "start_time": "2025-06-23T05:11:49.937326Z"
    }
   },
   "cell_type": "code",
   "source": "validation_definition = context.validation_definitions.add(validation_definition_ref)",
   "id": "978be02a224124da",
   "outputs": [],
   "execution_count": 14
  },
  {
   "metadata": {},
   "cell_type": "markdown",
   "source": "### Creating Send Email Action",
   "id": "c5de5d675e92ab59"
  },
  {
   "metadata": {
    "ExecuteTime": {
     "end_time": "2025-06-23T05:11:51.820940Z",
     "start_time": "2025-06-23T05:11:49.980155Z"
    }
   },
   "cell_type": "code",
   "source": [
    "# Load email credentials from JSON\n",
    "with open('Email Credentials.json') as f:\n",
    "    data = json.load(f)\n",
    "\n",
    "mailserveraddr = data['email']['mailServer']\n",
    "fromaddr = data['email']['from']\n",
    "password = data['email']['password']\n",
    "to = data['email']['to']\n",
    "port = data['email']['port']\n",
    "\n",
    "# Convert the list of recipient emails to a comma-separated string\n",
    "receiver_emails = \",\".join(to)\n",
    "\n",
    "# Test email connection\n",
    "try:\n",
    "    with smtplib.SMTP(mailserveraddr, port) as server:\n",
    "        server.starttls()\n",
    "        server.login(fromaddr, password)\n",
    "        print(\"Email connection successful!\")\n",
    "except Exception as e:\n",
    "    print(\"Email connection failed:\", str(e))\n",
    "\n",
    "# Define the email action with corrected configuration\n",
    "email_action = {\n",
    "    \"name\": \"send_email_notification\",  # Added required name field\n",
    "    \"type\": \"email\",  # Specifies the action type\n",
    "    \"notify_on\": \"all\",\n",
    "    \"smtp_address\": mailserveraddr,\n",
    "    \"smtp_port\": port,\n",
    "    \"sender_login\": fromaddr,\n",
    "    \"sender_password\": password,\n",
    "    \"receiver_emails\": receiver_emails,  # Use comma-separated string\n",
    "    \"use_tls\": True\n",
    "}"
   ],
   "id": "4c3937c7b5c5185c",
   "outputs": [
    {
     "name": "stdout",
     "output_type": "stream",
     "text": [
      "Email connection successful!\n"
     ]
    }
   ],
   "execution_count": 15
  },
  {
   "metadata": {},
   "cell_type": "markdown",
   "source": "### Creating Checkpoint",
   "id": "3a97a8fa62a39f68"
  },
  {
   "metadata": {
    "ExecuteTime": {
     "end_time": "2025-06-23T05:11:51.875810Z",
     "start_time": "2025-06-23T05:11:51.837160Z"
    }
   },
   "cell_type": "code",
   "source": [
    "checkpoint_name = \"emp_run_checkpoint\"\n",
    "checkpoint_to_add = gx.Checkpoint(\n",
    "    name=checkpoint_name,\n",
    "    validation_definitions=[validation_definition],\n",
    "    actions=[email_action],  # Now with the correct action config\n",
    "    result_format=\"COMPLETE\"\n",
    ")\n",
    "\n",
    "checkpoint = context.checkpoints.add(checkpoint_to_add)"
   ],
   "id": "af7db24abf1acd65",
   "outputs": [],
   "execution_count": 16
  },
  {
   "metadata": {},
   "cell_type": "markdown",
   "source": "### Reading Data in Pandas DataFrame",
   "id": "8982d40343234a79"
  },
  {
   "metadata": {
    "ExecuteTime": {
     "end_time": "2025-06-23T05:11:51.924843Z",
     "start_time": "2025-06-23T05:11:51.893848Z"
    }
   },
   "cell_type": "code",
   "source": [
    "data_df = pd.read_csv('temperature.csv')\n",
    "data_df.head()"
   ],
   "id": "ec47a40f9e6be7d9",
   "outputs": [
    {
     "data": {
      "text/plain": [
       "       Date    City  Temperature\n",
       "0  8/1/2024  Mumbai           28\n",
       "1  8/2/2024  Mumbai           30\n",
       "2  8/3/2024  Mumbai           32\n",
       "3  8/4/2024  Mumbai           31\n",
       "4  8/5/2024  Mumbai           33"
      ],
      "text/html": [
       "<div>\n",
       "<style scoped>\n",
       "    .dataframe tbody tr th:only-of-type {\n",
       "        vertical-align: middle;\n",
       "    }\n",
       "\n",
       "    .dataframe tbody tr th {\n",
       "        vertical-align: top;\n",
       "    }\n",
       "\n",
       "    .dataframe thead th {\n",
       "        text-align: right;\n",
       "    }\n",
       "</style>\n",
       "<table border=\"1\" class=\"dataframe\">\n",
       "  <thead>\n",
       "    <tr style=\"text-align: right;\">\n",
       "      <th></th>\n",
       "      <th>Date</th>\n",
       "      <th>City</th>\n",
       "      <th>Temperature</th>\n",
       "    </tr>\n",
       "  </thead>\n",
       "  <tbody>\n",
       "    <tr>\n",
       "      <th>0</th>\n",
       "      <td>8/1/2024</td>\n",
       "      <td>Mumbai</td>\n",
       "      <td>28</td>\n",
       "    </tr>\n",
       "    <tr>\n",
       "      <th>1</th>\n",
       "      <td>8/2/2024</td>\n",
       "      <td>Mumbai</td>\n",
       "      <td>30</td>\n",
       "    </tr>\n",
       "    <tr>\n",
       "      <th>2</th>\n",
       "      <td>8/3/2024</td>\n",
       "      <td>Mumbai</td>\n",
       "      <td>32</td>\n",
       "    </tr>\n",
       "    <tr>\n",
       "      <th>3</th>\n",
       "      <td>8/4/2024</td>\n",
       "      <td>Mumbai</td>\n",
       "      <td>31</td>\n",
       "    </tr>\n",
       "    <tr>\n",
       "      <th>4</th>\n",
       "      <td>8/5/2024</td>\n",
       "      <td>Mumbai</td>\n",
       "      <td>33</td>\n",
       "    </tr>\n",
       "  </tbody>\n",
       "</table>\n",
       "</div>"
      ]
     },
     "execution_count": 17,
     "metadata": {},
     "output_type": "execute_result"
    }
   ],
   "execution_count": 17
  },
  {
   "metadata": {},
   "cell_type": "markdown",
   "source": "### Creating BatchParameter",
   "id": "102131c9a5dc46f"
  },
  {
   "metadata": {
    "ExecuteTime": {
     "end_time": "2025-06-23T05:11:51.964424Z",
     "start_time": "2025-06-23T05:11:51.959855Z"
    }
   },
   "cell_type": "code",
   "source": "batch_parameters = {\"dataframe\": data_df}",
   "id": "1c2e421067994e14",
   "outputs": [],
   "execution_count": 18
  },
  {
   "metadata": {
    "ExecuteTime": {
     "end_time": "2025-06-23T05:11:56.353796Z",
     "start_time": "2025-06-23T05:11:52.017385Z"
    }
   },
   "cell_type": "code",
   "source": "validation_results = checkpoint.run(batch_parameters=batch_parameters)\n",
   "id": "967afd4bff902e78",
   "outputs": [
    {
     "data": {
      "text/plain": [
       "Calculating Metrics:   0%|          | 0/10 [00:00<?, ?it/s]"
      ],
      "application/vnd.jupyter.widget-view+json": {
       "version_major": 2,
       "version_minor": 0,
       "model_id": "cbf2245442c44caa8eaf2d7c71adf9a6"
      }
     },
     "metadata": {},
     "output_type": "display_data"
    }
   ],
   "execution_count": 19
  },
  {
   "metadata": {},
   "cell_type": "markdown",
   "source": "### Displaying validation results",
   "id": "7c1402bc222c31ed"
  },
  {
   "metadata": {
    "ExecuteTime": {
     "end_time": "2025-06-23T05:11:56.403128Z",
     "start_time": "2025-06-23T05:11:56.395506Z"
    }
   },
   "cell_type": "code",
   "source": "print(validation_results)",
   "id": "4a73770e1f2774fa",
   "outputs": [
    {
     "name": "stdout",
     "output_type": "stream",
     "text": [
      "run_id={\"run_name\": null, \"run_time\": \"2025-06-23T11:11:52.024126+06:00\"} run_results={ValidationResultIdentifier::emp_suite/__none__/20250623T051152.024126Z/temperature_data-emp_asset: {\n",
      "  \"success\": false,\n",
      "  \"results\": [\n",
      "    {\n",
      "      \"success\": false,\n",
      "      \"expectation_config\": {\n",
      "        \"type\": \"expect_column_values_to_match_pan_format\",\n",
      "        \"kwargs\": {\n",
      "          \"column\": \"pan\",\n",
      "          \"batch_id\": \"temperature_data-emp_asset\"\n",
      "        },\n",
      "        \"meta\": {},\n",
      "        \"id\": \"038b6a9b-e639-40ab-b9c0-8d5fa694d5c8\"\n",
      "      },\n",
      "      \"result\": {},\n",
      "      \"meta\": {},\n",
      "      \"exception_info\": {\n",
      "        \"MetricConfigurationID(metric_name='column_values.match_pan_format.condition', metric_domain_kwargs_id='469e4ac907b9958859ff1e91601921fa', metric_value_kwargs_id=())\": {\n",
      "          \"exception_traceback\": \"Traceback (most recent call last):\\n  File \\\"C:\\\\Users\\\\TechTeam-08\\\\AppData\\\\Roaming\\\\Python\\\\Python312\\\\site-packages\\\\great_expectations\\\\execution_engine\\\\execution_engine.py\\\", line 534, in _process_direct_and_bundled_metric_computation_configurations\\n    metric_computation_configuration.metric_fn(  # type: ignore[misc] # F not callable\\n  File \\\"C:\\\\Users\\\\TechTeam-08\\\\AppData\\\\Roaming\\\\Python\\\\Python312\\\\site-packages\\\\great_expectations\\\\expectations\\\\metrics\\\\metric_provider.py\\\", line 99, in inner_func\\n    return metric_fn(*args, **kwargs)\\n           ^^^^^^^^^^^^^^^^^^^^^^^^^^\\n  File \\\"C:\\\\Users\\\\TechTeam-08\\\\AppData\\\\Roaming\\\\Python\\\\Python312\\\\site-packages\\\\great_expectations\\\\expectations\\\\metrics\\\\map_metric_provider\\\\column_condition_partial.py\\\", line 92, in inner_func\\n    metric_domain_kwargs = get_dbms_compatible_metric_domain_kwargs(\\n                           ^^^^^^^^^^^^^^^^^^^^^^^^^^^^^^^^^^^^^^^^^\\n  File \\\"C:\\\\Users\\\\TechTeam-08\\\\AppData\\\\Roaming\\\\Python\\\\Python312\\\\site-packages\\\\great_expectations\\\\expectations\\\\metrics\\\\util.py\\\", line 693, in get_dbms_compatible_metric_domain_kwargs\\n    column_name: str | sqlalchemy.quoted_name = get_dbms_compatible_column_names(\\n                                                ^^^^^^^^^^^^^^^^^^^^^^^^^^^^^^^^^\\n  File \\\"C:\\\\Users\\\\TechTeam-08\\\\AppData\\\\Roaming\\\\Python\\\\Python312\\\\site-packages\\\\great_expectations\\\\expectations\\\\metrics\\\\util.py\\\", line 763, in get_dbms_compatible_column_names\\n    _verify_column_names_exist_and_get_normalized_typed_column_names_map(\\n  File \\\"C:\\\\Users\\\\TechTeam-08\\\\AppData\\\\Roaming\\\\Python\\\\Python312\\\\site-packages\\\\great_expectations\\\\expectations\\\\metrics\\\\util.py\\\", line 848, in _verify_column_names_exist_and_get_normalized_typed_column_names_map\\n    raise gx_exceptions.InvalidMetricAccessorDomainKwargsKeyError(\\ngreat_expectations.exceptions.exceptions.InvalidMetricAccessorDomainKwargsKeyError: Error: The column \\\"pan\\\" in BatchData does not exist.\\n\\nThe above exception was the direct cause of the following exception:\\n\\nTraceback (most recent call last):\\n  File \\\"C:\\\\Users\\\\TechTeam-08\\\\AppData\\\\Roaming\\\\Python\\\\Python312\\\\site-packages\\\\great_expectations\\\\validator\\\\validation_graph.py\\\", line 286, in _resolve\\n    self._execution_engine.resolve_metrics(\\n  File \\\"C:\\\\Users\\\\TechTeam-08\\\\AppData\\\\Roaming\\\\Python\\\\Python312\\\\site-packages\\\\great_expectations\\\\execution_engine\\\\execution_engine.py\\\", line 280, in resolve_metrics\\n    return self._process_direct_and_bundled_metric_computation_configurations(\\n           ^^^^^^^^^^^^^^^^^^^^^^^^^^^^^^^^^^^^^^^^^^^^^^^^^^^^^^^^^^^^^^^^^^^\\n  File \\\"C:\\\\Users\\\\TechTeam-08\\\\AppData\\\\Roaming\\\\Python\\\\Python312\\\\site-packages\\\\great_expectations\\\\execution_engine\\\\execution_engine.py\\\", line 539, in _process_direct_and_bundled_metric_computation_configurations\\n    raise gx_exceptions.MetricResolutionError(\\ngreat_expectations.exceptions.exceptions.MetricResolutionError: Error: The column \\\"pan\\\" in BatchData does not exist.\\n\",\n",
      "          \"exception_message\": \"Error: The column \\\"pan\\\" in BatchData does not exist.\",\n",
      "          \"raised_exception\": true\n",
      "        },\n",
      "        \"MetricConfigurationID(metric_name='column_values.nonnull.condition', metric_domain_kwargs_id='469e4ac907b9958859ff1e91601921fa', metric_value_kwargs_id=())\": {\n",
      "          \"exception_traceback\": \"Traceback (most recent call last):\\n  File \\\"C:\\\\Users\\\\TechTeam-08\\\\AppData\\\\Roaming\\\\Python\\\\Python312\\\\site-packages\\\\great_expectations\\\\execution_engine\\\\execution_engine.py\\\", line 534, in _process_direct_and_bundled_metric_computation_configurations\\n    metric_computation_configuration.metric_fn(  # type: ignore[misc] # F not callable\\n  File \\\"C:\\\\Users\\\\TechTeam-08\\\\AppData\\\\Roaming\\\\Python\\\\Python312\\\\site-packages\\\\great_expectations\\\\expectations\\\\metrics\\\\metric_provider.py\\\", line 99, in inner_func\\n    return metric_fn(*args, **kwargs)\\n           ^^^^^^^^^^^^^^^^^^^^^^^^^^\\n  File \\\"C:\\\\Users\\\\TechTeam-08\\\\AppData\\\\Roaming\\\\Python\\\\Python312\\\\site-packages\\\\great_expectations\\\\expectations\\\\metrics\\\\map_metric_provider\\\\column_condition_partial.py\\\", line 92, in inner_func\\n    metric_domain_kwargs = get_dbms_compatible_metric_domain_kwargs(\\n                           ^^^^^^^^^^^^^^^^^^^^^^^^^^^^^^^^^^^^^^^^^\\n  File \\\"C:\\\\Users\\\\TechTeam-08\\\\AppData\\\\Roaming\\\\Python\\\\Python312\\\\site-packages\\\\great_expectations\\\\expectations\\\\metrics\\\\util.py\\\", line 693, in get_dbms_compatible_metric_domain_kwargs\\n    column_name: str | sqlalchemy.quoted_name = get_dbms_compatible_column_names(\\n                                                ^^^^^^^^^^^^^^^^^^^^^^^^^^^^^^^^^\\n  File \\\"C:\\\\Users\\\\TechTeam-08\\\\AppData\\\\Roaming\\\\Python\\\\Python312\\\\site-packages\\\\great_expectations\\\\expectations\\\\metrics\\\\util.py\\\", line 763, in get_dbms_compatible_column_names\\n    _verify_column_names_exist_and_get_normalized_typed_column_names_map(\\n  File \\\"C:\\\\Users\\\\TechTeam-08\\\\AppData\\\\Roaming\\\\Python\\\\Python312\\\\site-packages\\\\great_expectations\\\\expectations\\\\metrics\\\\util.py\\\", line 848, in _verify_column_names_exist_and_get_normalized_typed_column_names_map\\n    raise gx_exceptions.InvalidMetricAccessorDomainKwargsKeyError(\\ngreat_expectations.exceptions.exceptions.InvalidMetricAccessorDomainKwargsKeyError: Error: The column \\\"pan\\\" in BatchData does not exist.\\n\\nThe above exception was the direct cause of the following exception:\\n\\nTraceback (most recent call last):\\n  File \\\"C:\\\\Users\\\\TechTeam-08\\\\AppData\\\\Roaming\\\\Python\\\\Python312\\\\site-packages\\\\great_expectations\\\\validator\\\\validation_graph.py\\\", line 286, in _resolve\\n    self._execution_engine.resolve_metrics(\\n  File \\\"C:\\\\Users\\\\TechTeam-08\\\\AppData\\\\Roaming\\\\Python\\\\Python312\\\\site-packages\\\\great_expectations\\\\execution_engine\\\\execution_engine.py\\\", line 280, in resolve_metrics\\n    return self._process_direct_and_bundled_metric_computation_configurations(\\n           ^^^^^^^^^^^^^^^^^^^^^^^^^^^^^^^^^^^^^^^^^^^^^^^^^^^^^^^^^^^^^^^^^^^\\n  File \\\"C:\\\\Users\\\\TechTeam-08\\\\AppData\\\\Roaming\\\\Python\\\\Python312\\\\site-packages\\\\great_expectations\\\\execution_engine\\\\execution_engine.py\\\", line 539, in _process_direct_and_bundled_metric_computation_configurations\\n    raise gx_exceptions.MetricResolutionError(\\ngreat_expectations.exceptions.exceptions.MetricResolutionError: Error: The column \\\"pan\\\" in BatchData does not exist.\\n\",\n",
      "          \"exception_message\": \"Error: The column \\\"pan\\\" in BatchData does not exist.\",\n",
      "          \"raised_exception\": true\n",
      "        }\n",
      "      }\n",
      "    }\n",
      "  ],\n",
      "  \"suite_name\": \"emp_suite\",\n",
      "  \"suite_parameters\": {},\n",
      "  \"statistics\": {\n",
      "    \"evaluated_expectations\": 1,\n",
      "    \"successful_expectations\": 0,\n",
      "    \"unsuccessful_expectations\": 1,\n",
      "    \"success_percent\": 0.0\n",
      "  },\n",
      "  \"meta\": {\n",
      "    \"great_expectations_version\": \"1.5.1\",\n",
      "    \"batch_spec\": {\n",
      "      \"batch_data\": \"PandasDataFrame\"\n",
      "    },\n",
      "    \"batch_markers\": {\n",
      "      \"ge_load_time\": \"20250623T051152.025135Z\",\n",
      "      \"pandas_data_fingerprint\": \"630c38d4b2ba632bf4cae25fb0a47f6c\"\n",
      "    },\n",
      "    \"active_batch_definition\": {\n",
      "      \"datasource_name\": \"temperature_data\",\n",
      "      \"data_connector_name\": \"fluent\",\n",
      "      \"data_asset_name\": \"emp_asset\",\n",
      "      \"batch_identifiers\": {\n",
      "        \"dataframe\": \"<DATAFRAME>\"\n",
      "      }\n",
      "    },\n",
      "    \"validation_id\": \"00a26b41-2837-44c7-b571-7fe9dad6d8f4\",\n",
      "    \"checkpoint_id\": \"9bcf5086-2039-4dec-91d5-00f32f09d028\",\n",
      "    \"run_id\": {\n",
      "      \"run_name\": null,\n",
      "      \"run_time\": \"2025-06-23T11:11:52.024126+06:00\"\n",
      "    },\n",
      "    \"validation_time\": \"2025-06-23T05:11:52.024126+00:00\",\n",
      "    \"batch_parameters\": {\n",
      "      \"dataframe\": \"<DATAFRAME>\"\n",
      "    }\n",
      "  },\n",
      "  \"id\": null\n",
      "}} checkpoint_config=Checkpoint(name='emp_run_checkpoint', validation_definitions=[ValidationDefinition(name='emp_data_validation', data=BatchDefinition(id=UUID('287e5739-4a30-44ba-bf56-4fa70378adba'), name='emp_batch', partitioner=None), suite={\n",
      "  \"name\": \"emp_suite\",\n",
      "  \"id\": \"5bfe592b-763b-4203-b3a2-b3747d95b865\",\n",
      "  \"expectations\": [\n",
      "    {\n",
      "      \"type\": \"expect_column_values_to_match_pan_format\",\n",
      "      \"kwargs\": {\n",
      "        \"column\": \"pan\"\n",
      "      },\n",
      "      \"meta\": {},\n",
      "      \"id\": \"038b6a9b-e639-40ab-b9c0-8d5fa694d5c8\"\n",
      "    }\n",
      "  ],\n",
      "  \"meta\": {\n",
      "    \"great_expectations_version\": \"1.5.1\"\n",
      "  },\n",
      "  \"notes\": null\n",
      "}, id='00a26b41-2837-44c7-b571-7fe9dad6d8f4')], actions=[EmailAction(type='email', name='send_email_notification', smtp_address='smtp.gmail.com', smtp_port='587', receiver_emails='fahim150283@yahoo.com,fahim150283@gmail.com,emtiaz.gb@gmail.com', sender_login='ahchowdhury.off@gmail.com', sender_password='pumisiskddaexjcc', sender_alias='ahchowdhury.off@gmail.com', use_tls=True, use_ssl=None, notify_on='all', notify_with=None, renderer=<great_expectations.render.renderer.email_renderer.EmailRenderer object at 0x0000015FF032F0E0>)], result_format=<ResultFormat.COMPLETE: 'COMPLETE'>, id='9bcf5086-2039-4dec-91d5-00f32f09d028') success=False\n"
     ]
    }
   ],
   "execution_count": 20
  }
 ],
 "metadata": {
  "kernelspec": {
   "display_name": "Python 3",
   "language": "python",
   "name": "python3"
  },
  "language_info": {
   "codemirror_mode": {
    "name": "ipython",
    "version": 2
   },
   "file_extension": ".py",
   "mimetype": "text/x-python",
   "name": "python",
   "nbconvert_exporter": "python",
   "pygments_lexer": "ipython2",
   "version": "2.7.6"
  }
 },
 "nbformat": 4,
 "nbformat_minor": 5
}
