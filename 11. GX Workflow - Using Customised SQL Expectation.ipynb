{
 "cells": [
  {
   "cell_type": "markdown",
   "id": "f07b46c9",
   "metadata": {},
   "source": [
    "### GX Core Workflow - Using Customised SQL Expectation\n",
    "\n",
    "- Import Required Libraries\n",
    "- Create GX Context (Ephemeral)\n",
    "- Create DataSource (Sqlite DB)\n",
    "- Create Data Asset (Sqlite Table)\n",
    "- Create Batch Definition \n",
    "- Define Custom SQL Expectations\n",
    "- Create SQL Expectation\n",
    "- Create Expectations Suite and Add expectations\n",
    "- Create Validation Definition (Expectation Suite, Batch Definition)\n",
    "- Create Checkpoint (Validation Definition)\n",
    "- Define Runtime Expectation parameters\n",
    "- Run Checkpoint(Expectations parameters)\n",
    "- Print Result"
   ]
  },
  {
   "cell_type": "markdown",
   "id": "dbc03712",
   "metadata": {},
   "source": [
    "### Import Libraries"
   ]
  },
  {
   "cell_type": "code",
   "id": "f191bf95",
   "metadata": {
    "ExecuteTime": {
     "end_time": "2025-06-23T11:46:24.756155Z",
     "start_time": "2025-06-23T11:46:21.825690Z"
    }
   },
   "source": [
    "import great_expectations as gx\n"
   ],
   "outputs": [],
   "execution_count": 1
  },
  {
   "cell_type": "markdown",
   "id": "359c3938",
   "metadata": {},
   "source": [
    "### Creating GX Context"
   ]
  },
  {
   "cell_type": "code",
   "id": "227df62f",
   "metadata": {
    "ExecuteTime": {
     "end_time": "2025-06-23T11:46:24.870093Z",
     "start_time": "2025-06-23T11:46:24.821985Z"
    }
   },
   "source": [
    "context = gx.get_context(mode=\"ephemeral\")\n"
   ],
   "outputs": [],
   "execution_count": 2
  },
  {
   "cell_type": "markdown",
   "id": "67909cb4",
   "metadata": {},
   "source": [
    "### Creating Datasource "
   ]
  },
  {
   "cell_type": "code",
   "id": "e2189d7d",
   "metadata": {
    "ExecuteTime": {
     "end_time": "2025-06-23T11:46:24.900666Z",
     "start_time": "2025-06-23T11:46:24.890725Z"
    }
   },
   "source": [
    "datasource_name = \"sqlite_datasource\"\n",
    "data_source = context.data_sources.add_sqlite(\n",
    "    name=datasource_name,\n",
    "    connection_string=\"sqlite:///temperature.db\"\n",
    ")\n"
   ],
   "outputs": [],
   "execution_count": 3
  },
  {
   "cell_type": "markdown",
   "id": "a92b7371",
   "metadata": {},
   "source": [
    "### Creating Data Asset"
   ]
  },
  {
   "cell_type": "code",
   "id": "9e097d1d",
   "metadata": {
    "ExecuteTime": {
     "end_time": "2025-06-23T11:46:24.931874Z",
     "start_time": "2025-06-23T11:46:24.918190Z"
    }
   },
   "source": [
    "data_asset_name = 'temperature_reading'\n",
    "data_asset = data_source.add_table_asset(name = data_asset_name, table_name ='temperature_reading')\n"
   ],
   "outputs": [],
   "execution_count": 4
  },
  {
   "cell_type": "markdown",
   "id": "c3d39216",
   "metadata": {},
   "source": [
    "### Creating Batch Definition"
   ]
  },
  {
   "cell_type": "code",
   "id": "8b1a1888",
   "metadata": {
    "ExecuteTime": {
     "end_time": "2025-06-23T11:46:24.956817Z",
     "start_time": "2025-06-23T11:46:24.950401Z"
    }
   },
   "source": [
    "batch_definition_name ='full_batch'\n",
    "batch_definition = data_asset.add_batch_definition_whole_table(batch_definition_name)\n"
   ],
   "outputs": [],
   "execution_count": 5
  },
  {
   "cell_type": "markdown",
   "id": "9fe4b9dd",
   "metadata": {},
   "source": [
    "### Define Customised Expectation class"
   ]
  },
  {
   "cell_type": "code",
   "id": "dfc0359e",
   "metadata": {
    "ExecuteTime": {
     "end_time": "2025-06-23T11:46:25.089015Z",
     "start_time": "2025-06-23T11:46:24.974399Z"
    }
   },
   "source": [
    "from pydantic import Field\n",
    "class ExpectValidTemperatureRange(gx.expectations.UnexpectedRowsExpectation):  \n",
    "    unexpected_rows_query: str = Field(None, description=\"Query to find rows with unexpected values\")\n",
    "    column: str = Field(None, description=\"Column name\")\n",
    "    min_value: str = Field(None, description=\"Min value\")\n",
    "    max_value: str = Field(None, description=\"Max value\")\n",
    "    description = \"Temperature values are within the specified normal range.\"\n",
    "    def __init__(self, column, min_value, max_value, *args, **kwargs):\n",
    "        super().__init__(*args, **kwargs)\n",
    "        self.column = column\n",
    "        self.min_value = min_value\n",
    "        self.max_value = max_value\n",
    "        self.unexpected_rows_query = (\n",
    "            f\"SELECT * FROM {{batch}} WHERE {self.column} < {self.min_value} OR {self.column} > {self.max_value}\"\n",
    "        )\n"
   ],
   "outputs": [],
   "execution_count": 6
  },
  {
   "cell_type": "code",
   "id": "5b90c4cf",
   "metadata": {
    "ExecuteTime": {
     "end_time": "2025-06-23T11:46:25.111990Z",
     "start_time": "2025-06-23T11:46:25.105871Z"
    }
   },
   "source": [
    "expectation_temp = ExpectValidTemperatureRange(column=\"temperature\", min_value=30, max_value=45)\n"
   ],
   "outputs": [],
   "execution_count": 7
  },
  {
   "cell_type": "markdown",
   "id": "918ccff5",
   "metadata": {},
   "source": [
    "### Creating Expectation Suite and Adding expectations"
   ]
  },
  {
   "cell_type": "code",
   "id": "a662a81d",
   "metadata": {
    "ExecuteTime": {
     "end_time": "2025-06-23T11:46:25.164164Z",
     "start_time": "2025-06-23T11:46:25.132757Z"
    }
   },
   "source": [
    "expectation_suite_name = \"temperature_data_suite\"\n",
    "expectation_suite_ref = gx.ExpectationSuite(name=expectation_suite_name)\n",
    "expectation_suite = context.suites.add(expectation_suite_ref)\n"
   ],
   "outputs": [],
   "execution_count": 8
  },
  {
   "cell_type": "code",
   "id": "24627667",
   "metadata": {
    "ExecuteTime": {
     "end_time": "2025-06-23T11:46:25.208919Z",
     "start_time": "2025-06-23T11:46:25.177594Z"
    }
   },
   "source": [
    "expectation_suite.add_expectation(expectation_temp)\n"
   ],
   "outputs": [
    {
     "data": {
      "text/plain": [
       "ExpectValidTemperatureRange(id='2766dd78-36c5-4e8b-939d-be4983faad69', meta=None, notes=None, result_format=<ResultFormat.BASIC: 'BASIC'>, description='Temperature values are within the specified normal range.', catch_exceptions=False, rendered_content=None, windows=None, batch_id=None, unexpected_rows_query='SELECT * FROM {batch} WHERE temperature < 30 OR temperature > 45', column='temperature', min_value=30, max_value=45)"
      ]
     },
     "execution_count": 9,
     "metadata": {},
     "output_type": "execute_result"
    }
   ],
   "execution_count": 9
  },
  {
   "cell_type": "markdown",
   "id": "c0008223",
   "metadata": {},
   "source": [
    "### Creating Validation Defintions"
   ]
  },
  {
   "cell_type": "code",
   "id": "d4f121e4",
   "metadata": {
    "ExecuteTime": {
     "end_time": "2025-06-23T11:46:25.250Z",
     "start_time": "2025-06-23T11:46:25.245251Z"
    }
   },
   "source": [
    "validation_def_name = \"temperature_data_validation\"\n",
    "validation_definition_ref = gx.ValidationDefinition( data=batch_definition,\n",
    "                                             suite=expectation_suite,\n",
    "                                             name=validation_def_name)\n"
   ],
   "outputs": [],
   "execution_count": 10
  },
  {
   "cell_type": "code",
   "id": "83dbf20a",
   "metadata": {
    "ExecuteTime": {
     "end_time": "2025-06-23T11:46:25.318139Z",
     "start_time": "2025-06-23T11:46:25.282560Z"
    }
   },
   "source": [
    "validation_definition = context.validation_definitions.add(validation_definition_ref)\n"
   ],
   "outputs": [],
   "execution_count": 11
  },
  {
   "cell_type": "markdown",
   "id": "88dfaab8",
   "metadata": {},
   "source": [
    "### Creating Checkpoint "
   ]
  },
  {
   "cell_type": "code",
   "id": "c3fb5103",
   "metadata": {
    "ExecuteTime": {
     "end_time": "2025-06-23T11:46:25.346831Z",
     "start_time": "2025-06-23T11:46:25.340379Z"
    }
   },
   "source": [
    "checkpoint_name = \"temperature_run_checkpoint\"\n",
    "checkpoint_to_add = gx.Checkpoint(name=checkpoint_name,                                 \n",
    "                                  validation_definitions=[validation_definition],\n",
    "                                  actions=[],\n",
    "                                  result_format=\"BASIC\"\n",
    ")\n"
   ],
   "outputs": [],
   "execution_count": 12
  },
  {
   "cell_type": "code",
   "id": "ae83611c",
   "metadata": {
    "ExecuteTime": {
     "end_time": "2025-06-23T11:46:25.403269Z",
     "start_time": "2025-06-23T11:46:25.370026Z"
    }
   },
   "source": [
    "checkpoint = context.checkpoints.add(checkpoint_to_add)\n"
   ],
   "outputs": [],
   "execution_count": 13
  },
  {
   "cell_type": "markdown",
   "id": "179d78fa",
   "metadata": {},
   "source": [
    "### Running Checkpoint "
   ]
  },
  {
   "cell_type": "code",
   "id": "3ccde491",
   "metadata": {
    "ExecuteTime": {
     "end_time": "2025-06-23T11:46:25.531546Z",
     "start_time": "2025-06-23T11:46:25.423452Z"
    }
   },
   "source": [
    "validation_results = checkpoint.run()\n"
   ],
   "outputs": [
    {
     "data": {
      "text/plain": [
       "Calculating Metrics:   0%|          | 0/2 [00:00<?, ?it/s]"
      ],
      "application/vnd.jupyter.widget-view+json": {
       "version_major": 2,
       "version_minor": 0,
       "model_id": "6dd79d6e609a4bbfabb78d565ef73e92"
      }
     },
     "metadata": {},
     "output_type": "display_data"
    }
   ],
   "execution_count": 14
  },
  {
   "cell_type": "markdown",
   "id": "cca07955",
   "metadata": {},
   "source": [
    "### Printing Result"
   ]
  },
  {
   "cell_type": "code",
   "id": "efc3f444",
   "metadata": {
    "scrolled": false,
    "ExecuteTime": {
     "end_time": "2025-06-23T11:46:25.566654Z",
     "start_time": "2025-06-23T11:46:25.557979Z"
    }
   },
   "source": [
    "print(validation_results)\n"
   ],
   "outputs": [
    {
     "name": "stdout",
     "output_type": "stream",
     "text": [
      "run_id={\"run_name\": null, \"run_time\": \"2025-06-23T17:46:25.432289+06:00\"} run_results={ValidationResultIdentifier::temperature_data_suite/__none__/20250623T114625.432289Z/sqlite_datasource-temperature_reading: {\n",
      "  \"success\": false,\n",
      "  \"results\": [\n",
      "    {\n",
      "      \"success\": false,\n",
      "      \"expectation_config\": {\n",
      "        \"type\": \"expect_valid_temperature_range\",\n",
      "        \"kwargs\": {\n",
      "          \"batch_id\": \"sqlite_datasource-temperature_reading\",\n",
      "          \"unexpected_rows_query\": \"SELECT * FROM {batch} WHERE temperature < 30 OR temperature > 45\",\n",
      "          \"column\": \"temperature\",\n",
      "          \"min_value\": 30,\n",
      "          \"max_value\": 45\n",
      "        },\n",
      "        \"meta\": {},\n",
      "        \"id\": \"2766dd78-36c5-4e8b-939d-be4983faad69\"\n",
      "      },\n",
      "      \"result\": {\n",
      "        \"observed_value\": 7,\n",
      "        \"details\": {\n",
      "          \"unexpected_rows\": [\n",
      "            {\n",
      "              \"reading_date\": \"2024-08-01\",\n",
      "              \"city\": \"Mumbai\",\n",
      "              \"temperature\": 28\n",
      "            },\n",
      "            {\n",
      "              \"reading_date\": \"2024-08-07\",\n",
      "              \"city\": \"Mumbai\",\n",
      "              \"temperature\": 29\n",
      "            },\n",
      "            {\n",
      "              \"reading_date\": \"2024-08-11\",\n",
      "              \"city\": \"Mumbai\",\n",
      "              \"temperature\": 29\n",
      "            },\n",
      "            {\n",
      "              \"reading_date\": \"2024-08-16\",\n",
      "              \"city\": \"Mumbai\",\n",
      "              \"temperature\": 28\n",
      "            },\n",
      "            {\n",
      "              \"reading_date\": \"2024-08-22\",\n",
      "              \"city\": \"Mumbai\",\n",
      "              \"temperature\": 29\n",
      "            },\n",
      "            {\n",
      "              \"reading_date\": \"2024-08-26\",\n",
      "              \"city\": \"Mumbai\",\n",
      "              \"temperature\": 29\n",
      "            },\n",
      "            {\n",
      "              \"reading_date\": \"2024-08-31\",\n",
      "              \"city\": \"Mumbai\",\n",
      "              \"temperature\": 28\n",
      "            }\n",
      "          ]\n",
      "        }\n",
      "      },\n",
      "      \"meta\": {},\n",
      "      \"exception_info\": {\n",
      "        \"raised_exception\": false,\n",
      "        \"exception_traceback\": null,\n",
      "        \"exception_message\": null\n",
      "      }\n",
      "    }\n",
      "  ],\n",
      "  \"suite_name\": \"temperature_data_suite\",\n",
      "  \"suite_parameters\": {},\n",
      "  \"statistics\": {\n",
      "    \"evaluated_expectations\": 1,\n",
      "    \"successful_expectations\": 0,\n",
      "    \"unsuccessful_expectations\": 1,\n",
      "    \"success_percent\": 0.0\n",
      "  },\n",
      "  \"meta\": {\n",
      "    \"great_expectations_version\": \"1.5.1\",\n",
      "    \"batch_spec\": {\n",
      "      \"type\": \"table\",\n",
      "      \"data_asset_name\": \"temperature_reading\",\n",
      "      \"table_name\": \"temperature_reading\",\n",
      "      \"schema_name\": null,\n",
      "      \"batch_identifiers\": {}\n",
      "    },\n",
      "    \"batch_markers\": {\n",
      "      \"ge_load_time\": \"20250623T114625.436334Z\"\n",
      "    },\n",
      "    \"active_batch_definition\": {\n",
      "      \"datasource_name\": \"sqlite_datasource\",\n",
      "      \"data_connector_name\": \"fluent\",\n",
      "      \"data_asset_name\": \"temperature_reading\",\n",
      "      \"batch_identifiers\": {}\n",
      "    },\n",
      "    \"validation_id\": \"4dd691b6-6de5-4dd5-931f-e72233c1b645\",\n",
      "    \"checkpoint_id\": \"f6adcb96-8b54-4539-bdd0-b9a124cd6a90\",\n",
      "    \"run_id\": {\n",
      "      \"run_name\": null,\n",
      "      \"run_time\": \"2025-06-23T17:46:25.432289+06:00\"\n",
      "    },\n",
      "    \"validation_time\": \"2025-06-23T11:46:25.432289+00:00\",\n",
      "    \"batch_parameters\": null\n",
      "  },\n",
      "  \"id\": null\n",
      "}} checkpoint_config=Checkpoint(name='temperature_run_checkpoint', validation_definitions=[ValidationDefinition(name='temperature_data_validation', data=BatchDefinition(id=UUID('a7a48c11-c989-4ad3-9ee6-974e40f61f4e'), name='full_batch', partitioner=None), suite={\n",
      "  \"name\": \"temperature_data_suite\",\n",
      "  \"id\": \"45eb1f3a-3dd0-48d3-a17d-10ff2a5797de\",\n",
      "  \"expectations\": [\n",
      "    {\n",
      "      \"type\": \"expect_valid_temperature_range\",\n",
      "      \"kwargs\": {\n",
      "        \"unexpected_rows_query\": \"SELECT * FROM {batch} WHERE temperature < 30 OR temperature > 45\",\n",
      "        \"column\": \"temperature\",\n",
      "        \"min_value\": 30,\n",
      "        \"max_value\": 45\n",
      "      },\n",
      "      \"meta\": {},\n",
      "      \"id\": \"2766dd78-36c5-4e8b-939d-be4983faad69\"\n",
      "    }\n",
      "  ],\n",
      "  \"meta\": {\n",
      "    \"great_expectations_version\": \"1.5.1\"\n",
      "  },\n",
      "  \"notes\": null\n",
      "}, id='4dd691b6-6de5-4dd5-931f-e72233c1b645')], actions=[], result_format=<ResultFormat.BASIC: 'BASIC'>, id='f6adcb96-8b54-4539-bdd0-b9a124cd6a90') success=False\n"
     ]
    }
   ],
   "execution_count": 15
  },
  {
   "cell_type": "code",
   "id": "762db163",
   "metadata": {
    "ExecuteTime": {
     "end_time": "2025-06-23T11:46:25.593496Z",
     "start_time": "2025-06-23T11:46:25.589685Z"
    }
   },
   "source": [],
   "outputs": [],
   "execution_count": null
  },
  {
   "cell_type": "code",
   "id": "7396e14f",
   "metadata": {
    "ExecuteTime": {
     "end_time": "2025-06-23T11:46:25.622763Z",
     "start_time": "2025-06-23T11:46:25.619091Z"
    }
   },
   "source": [],
   "outputs": [],
   "execution_count": null
  },
  {
   "cell_type": "code",
   "id": "52848669",
   "metadata": {
    "ExecuteTime": {
     "end_time": "2025-06-23T11:46:25.664361Z",
     "start_time": "2025-06-23T11:46:25.660997Z"
    }
   },
   "source": [],
   "outputs": [],
   "execution_count": null
  },
  {
   "cell_type": "code",
   "id": "c8930c43",
   "metadata": {
    "ExecuteTime": {
     "end_time": "2025-06-23T11:46:25.687952Z",
     "start_time": "2025-06-23T11:46:25.685674Z"
    }
   },
   "source": [],
   "outputs": [],
   "execution_count": null
  },
  {
   "cell_type": "code",
   "id": "47791cfe",
   "metadata": {
    "ExecuteTime": {
     "end_time": "2025-06-23T11:46:25.717701Z",
     "start_time": "2025-06-23T11:46:25.713674Z"
    }
   },
   "source": [],
   "outputs": [],
   "execution_count": null
  },
  {
   "cell_type": "code",
   "id": "ab0e93b0",
   "metadata": {
    "ExecuteTime": {
     "end_time": "2025-06-23T11:46:25.752445Z",
     "start_time": "2025-06-23T11:46:25.749056Z"
    }
   },
   "source": [],
   "outputs": [],
   "execution_count": null
  }
 ],
 "metadata": {
  "kernelspec": {
   "display_name": "Python 3",
   "language": "python",
   "name": "python3"
  },
  "language_info": {
   "codemirror_mode": {
    "name": "ipython",
    "version": 3
   },
   "file_extension": ".py",
   "mimetype": "text/x-python",
   "name": "python",
   "nbconvert_exporter": "python",
   "pygments_lexer": "ipython3",
   "version": "3.8.8"
  }
 },
 "nbformat": 4,
 "nbformat_minor": 5
}
