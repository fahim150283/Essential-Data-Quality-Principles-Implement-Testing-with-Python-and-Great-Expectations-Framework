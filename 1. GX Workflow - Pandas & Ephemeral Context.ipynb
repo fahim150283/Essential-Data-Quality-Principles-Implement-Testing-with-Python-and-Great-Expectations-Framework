{
 "cells": [
  {
   "cell_type": "markdown",
   "id": "d6f79347",
   "metadata": {},
   "source": [
    "### GX Core Workflow - Pandas and Ephemeral Data Context\n",
    "<img src=\"demo1 hierarchy.png\"  width=\"400\" height=\"400\" style=\"align:right; margin-left:10px;\" />\n",
    "\n",
    "- Import Required Libraries\n",
    "- Create GX Context (Ephemeral)\n",
    "- Create DataSource for Pandas DataFrame\n",
    "- Create Data Asset \n",
    "- Create Batch Definition \n",
    "- Create Expectations\n",
    "- Create Expectations Suite and Add expectations\n",
    "- Create Validation Definition (Expectation Suite, Batch Definition)\n",
    "- Load Dataset in Pandas Dataframe\n",
    "- Define Batch Parameters\n",
    "- Run Validation Definition (Batch Parameters)\n",
    "- Print Result"
   ]
  },
  {
   "cell_type": "markdown",
   "id": "1955b08a",
   "metadata": {},
   "source": [
    "### Import Libraries"
   ]
  },
  {
   "metadata": {
    "ExecuteTime": {
     "end_time": "2025-06-17T11:36:06.111475Z",
     "start_time": "2025-06-17T11:36:03.953933Z"
    }
   },
   "cell_type": "code",
   "source": "pip install pandas",
   "id": "735dcfb35127893d",
   "outputs": [
    {
     "name": "stdout",
     "output_type": "stream",
     "text": [
      "Defaulting to user installation because normal site-packages is not writeableNote: you may need to restart the kernel to use updated packages.\n",
      "\n",
      "Requirement already satisfied: pandas in c:\\users\\techteam-08\\appdata\\roaming\\python\\python312\\site-packages (2.1.4)\n",
      "Requirement already satisfied: numpy<2,>=1.26.0 in c:\\programdata\\anaconda3\\lib\\site-packages (from pandas) (1.26.4)\n",
      "Requirement already satisfied: python-dateutil>=2.8.2 in c:\\programdata\\anaconda3\\lib\\site-packages (from pandas) (2.9.0.post0)\n",
      "Requirement already satisfied: pytz>=2020.1 in c:\\programdata\\anaconda3\\lib\\site-packages (from pandas) (2024.1)\n",
      "Requirement already satisfied: tzdata>=2022.1 in c:\\programdata\\anaconda3\\lib\\site-packages (from pandas) (2023.3)\n",
      "Requirement already satisfied: six>=1.5 in c:\\programdata\\anaconda3\\lib\\site-packages (from python-dateutil>=2.8.2->pandas) (1.16.0)\n"
     ]
    }
   ],
   "execution_count": 1
  },
  {
   "metadata": {
    "ExecuteTime": {
     "end_time": "2025-06-17T11:36:08.497860Z",
     "start_time": "2025-06-17T11:36:06.468011Z"
    }
   },
   "cell_type": "code",
   "source": "pip install great_expectations",
   "id": "43dadc6054c9fad9",
   "outputs": [
    {
     "name": "stdout",
     "output_type": "stream",
     "text": [
      "Defaulting to user installation because normal site-packages is not writeable\n",
      "Requirement already satisfied: great_expectations in c:\\users\\techteam-08\\appdata\\roaming\\python\\python312\\site-packages (1.5.1)\n",
      "Requirement already satisfied: altair<5.0.0,>=4.2.1 in c:\\users\\techteam-08\\appdata\\roaming\\python\\python312\\site-packages (from great_expectations) (4.2.2)\n",
      "Requirement already satisfied: cryptography>=3.2 in c:\\programdata\\anaconda3\\lib\\site-packages (from great_expectations) (43.0.0)\n",
      "Requirement already satisfied: jinja2>=3 in c:\\programdata\\anaconda3\\lib\\site-packages (from great_expectations) (3.1.4)\n",
      "Requirement already satisfied: jsonschema>=2.5.1 in c:\\programdata\\anaconda3\\lib\\site-packages (from great_expectations) (4.23.0)\n",
      "Requirement already satisfied: marshmallow<4.0.0,>=3.7.1 in c:\\users\\techteam-08\\appdata\\roaming\\python\\python312\\site-packages (from great_expectations) (3.26.1)\n",
      "Requirement already satisfied: mistune>=0.8.4 in c:\\programdata\\anaconda3\\lib\\site-packages (from great_expectations) (2.0.4)\n",
      "Requirement already satisfied: packaging in c:\\programdata\\anaconda3\\lib\\site-packages (from great_expectations) (24.1)\n",
      "Requirement already satisfied: posthog<4,>3 in c:\\users\\techteam-08\\appdata\\roaming\\python\\python312\\site-packages (from great_expectations) (3.25.0)\n",
      "Requirement already satisfied: pydantic>=1.10.7 in c:\\programdata\\anaconda3\\lib\\site-packages (from great_expectations) (2.8.2)\n",
      "Requirement already satisfied: pyparsing>=2.4 in c:\\programdata\\anaconda3\\lib\\site-packages (from great_expectations) (3.1.2)\n",
      "Requirement already satisfied: python-dateutil>=2.8.1 in c:\\programdata\\anaconda3\\lib\\site-packages (from great_expectations) (2.9.0.post0)\n",
      "Requirement already satisfied: requests>=2.20 in c:\\programdata\\anaconda3\\lib\\site-packages (from great_expectations) (2.32.3)\n",
      "Requirement already satisfied: ruamel.yaml>=0.16 in c:\\programdata\\anaconda3\\lib\\site-packages (from great_expectations) (0.18.6)\n",
      "Requirement already satisfied: scipy>=1.6.0 in c:\\programdata\\anaconda3\\lib\\site-packages (from great_expectations) (1.13.1)\n",
      "Requirement already satisfied: tqdm>=4.59.0 in c:\\programdata\\anaconda3\\lib\\site-packages (from great_expectations) (4.66.5)\n",
      "Requirement already satisfied: typing-extensions>=4.1.0 in c:\\programdata\\anaconda3\\lib\\site-packages (from great_expectations) (4.11.0)\n",
      "Requirement already satisfied: tzlocal>=1.2 in c:\\users\\techteam-08\\appdata\\roaming\\python\\python312\\site-packages (from great_expectations) (5.3.1)\n",
      "Requirement already satisfied: numpy>=1.22.4 in c:\\programdata\\anaconda3\\lib\\site-packages (from great_expectations) (1.26.4)\n",
      "Requirement already satisfied: pandas<2.2,>=1.3.0 in c:\\users\\techteam-08\\appdata\\roaming\\python\\python312\\site-packages (from great_expectations) (2.1.4)\n",
      "Requirement already satisfied: entrypoints in c:\\users\\techteam-08\\appdata\\roaming\\python\\python312\\site-packages (from altair<5.0.0,>=4.2.1->great_expectations) (0.4)\n",
      "Requirement already satisfied: toolz in c:\\programdata\\anaconda3\\lib\\site-packages (from altair<5.0.0,>=4.2.1->great_expectations) (0.12.0)\n",
      "Requirement already satisfied: cffi>=1.12 in c:\\programdata\\anaconda3\\lib\\site-packages (from cryptography>=3.2->great_expectations) (1.17.1)\n",
      "Requirement already satisfied: MarkupSafe>=2.0 in c:\\programdata\\anaconda3\\lib\\site-packages (from jinja2>=3->great_expectations) (2.1.3)\n",
      "Requirement already satisfied: attrs>=22.2.0 in c:\\programdata\\anaconda3\\lib\\site-packages (from jsonschema>=2.5.1->great_expectations) (23.1.0)\n",
      "Requirement already satisfied: jsonschema-specifications>=2023.03.6 in c:\\programdata\\anaconda3\\lib\\site-packages (from jsonschema>=2.5.1->great_expectations) (2023.7.1)\n",
      "Requirement already satisfied: referencing>=0.28.4 in c:\\programdata\\anaconda3\\lib\\site-packages (from jsonschema>=2.5.1->great_expectations) (0.30.2)\n",
      "Requirement already satisfied: rpds-py>=0.7.1 in c:\\programdata\\anaconda3\\lib\\site-packages (from jsonschema>=2.5.1->great_expectations) (0.10.6)\n",
      "Requirement already satisfied: pytz>=2020.1 in c:\\programdata\\anaconda3\\lib\\site-packages (from pandas<2.2,>=1.3.0->great_expectations) (2024.1)\n",
      "Requirement already satisfied: tzdata>=2022.1 in c:\\programdata\\anaconda3\\lib\\site-packages (from pandas<2.2,>=1.3.0->great_expectations) (2023.3)\n",
      "Requirement already satisfied: six>=1.5 in c:\\programdata\\anaconda3\\lib\\site-packages (from posthog<4,>3->great_expectations) (1.16.0)\n",
      "Requirement already satisfied: monotonic>=1.5 in c:\\users\\techteam-08\\appdata\\roaming\\python\\python312\\site-packages (from posthog<4,>3->great_expectations) (1.6)\n",
      "Requirement already satisfied: backoff>=1.10.0 in c:\\users\\techteam-08\\appdata\\roaming\\python\\python312\\site-packages (from posthog<4,>3->great_expectations) (2.2.1)\n",
      "Requirement already satisfied: distro>=1.5.0 in c:\\programdata\\anaconda3\\lib\\site-packages (from posthog<4,>3->great_expectations) (1.9.0)\n",
      "Requirement already satisfied: annotated-types>=0.4.0 in c:\\programdata\\anaconda3\\lib\\site-packages (from pydantic>=1.10.7->great_expectations) (0.6.0)\n",
      "Requirement already satisfied: pydantic-core==2.20.1 in c:\\programdata\\anaconda3\\lib\\site-packages (from pydantic>=1.10.7->great_expectations) (2.20.1)\n",
      "Requirement already satisfied: charset-normalizer<4,>=2 in c:\\programdata\\anaconda3\\lib\\site-packages (from requests>=2.20->great_expectations) (3.3.2)\n",
      "Requirement already satisfied: idna<4,>=2.5 in c:\\programdata\\anaconda3\\lib\\site-packages (from requests>=2.20->great_expectations) (3.7)\n",
      "Requirement already satisfied: urllib3<3,>=1.21.1 in c:\\programdata\\anaconda3\\lib\\site-packages (from requests>=2.20->great_expectations) (2.2.3)\n",
      "Requirement already satisfied: certifi>=2017.4.17 in c:\\programdata\\anaconda3\\lib\\site-packages (from requests>=2.20->great_expectations) (2024.8.30)\n",
      "Requirement already satisfied: ruamel.yaml.clib>=0.2.7 in c:\\programdata\\anaconda3\\lib\\site-packages (from ruamel.yaml>=0.16->great_expectations) (0.2.8)\n",
      "Requirement already satisfied: colorama in c:\\programdata\\anaconda3\\lib\\site-packages (from tqdm>=4.59.0->great_expectations) (0.4.6)\n",
      "Requirement already satisfied: pycparser in c:\\programdata\\anaconda3\\lib\\site-packages (from cffi>=1.12->cryptography>=3.2->great_expectations) (2.21)\n",
      "Note: you may need to restart the kernel to use updated packages.\n"
     ]
    }
   ],
   "execution_count": 2
  },
  {
   "cell_type": "code",
   "id": "d75dc4e6",
   "metadata": {
    "ExecuteTime": {
     "end_time": "2025-06-17T11:36:11.630996Z",
     "start_time": "2025-06-17T11:36:08.511434Z"
    }
   },
   "source": [
    "import sys\n",
    "import great_expectations as gx\n",
    "import pandas as pd\n",
    "\n",
    "# only works on python 3.9-3.12\n",
    "print(\"System Version -\",sys.version)\n",
    "print(gx.__version__)\n",
    "print(\"Panda Version -\",pd.__version__)"
   ],
   "outputs": [
    {
     "name": "stdout",
     "output_type": "stream",
     "text": [
      "System Version - 3.12.7 | packaged by Anaconda, Inc. | (main, Oct  4 2024, 13:17:27) [MSC v.1929 64 bit (AMD64)]\n",
      "1.5.1\n",
      "Panda Version - 2.1.4\n"
     ]
    }
   ],
   "execution_count": 3
  },
  {
   "cell_type": "markdown",
   "id": "b9cc9d9e",
   "metadata": {},
   "source": [
    "### Creating GX Context "
   ]
  },
  {
   "cell_type": "code",
   "id": "4dbcb441",
   "metadata": {
    "ExecuteTime": {
     "end_time": "2025-06-17T11:36:11.708725Z",
     "start_time": "2025-06-17T11:36:11.664953Z"
    }
   },
   "source": [
    "context = gx.get_context(mode=\"ephemeral\")\n"
   ],
   "outputs": [],
   "execution_count": 4
  },
  {
   "cell_type": "markdown",
   "id": "2da328f2",
   "metadata": {},
   "source": [
    "### Creating DataSource"
   ]
  },
  {
   "cell_type": "code",
   "id": "6d6eba27",
   "metadata": {
    "ExecuteTime": {
     "end_time": "2025-06-17T11:36:11.729162Z",
     "start_time": "2025-06-17T11:36:11.721858Z"
    }
   },
   "source": [
    "data_source_name ='temperature_data'\n",
    "data_source = context.data_sources.add_pandas(name=data_source_name)\n"
   ],
   "outputs": [],
   "execution_count": 5
  },
  {
   "cell_type": "markdown",
   "id": "56f4b24a",
   "metadata": {},
   "source": [
    "### Creating DataAsset\n"
   ]
  },
  {
   "cell_type": "code",
   "id": "a0649c66",
   "metadata": {
    "ExecuteTime": {
     "end_time": "2025-06-17T11:36:11.749792Z",
     "start_time": "2025-06-17T11:36:11.740329Z"
    }
   },
   "source": [
    "data_asset_name = 'temperature_entity_asset'\n",
    "data_asset = data_source.add_dataframe_asset(name = data_asset_name)\n"
   ],
   "outputs": [],
   "execution_count": 6
  },
  {
   "cell_type": "markdown",
   "id": "e4b185fd",
   "metadata": {},
   "source": [
    "### Creating BatchDefinition"
   ]
  },
  {
   "cell_type": "code",
   "id": "0468f815",
   "metadata": {
    "ExecuteTime": {
     "end_time": "2025-06-17T11:36:11.773989Z",
     "start_time": "2025-06-17T11:36:11.762788Z"
    }
   },
   "source": [
    "batch_definition_name ='full_batch'\n",
    "batch_definition = data_asset.add_batch_definition_whole_dataframe(batch_definition_name)\n"
   ],
   "outputs": [],
   "execution_count": 7
  },
  {
   "cell_type": "markdown",
   "id": "c284d330",
   "metadata": {},
   "source": [
    "### Creating Expectations"
   ]
  },
  {
   "cell_type": "code",
   "id": "5200599b",
   "metadata": {
    "ExecuteTime": {
     "end_time": "2025-06-17T11:36:11.791151Z",
     "start_time": "2025-06-17T11:36:11.786909Z"
    }
   },
   "source": [
    "expectation_temp = gx.expectations.ExpectColumnValuesToBeBetween(column=\"Temperature\", \n",
    "                                                            max_value=45, min_value=10)\n"
   ],
   "outputs": [],
   "execution_count": 8
  },
  {
   "cell_type": "code",
   "id": "5cfd53ca",
   "metadata": {
    "ExecuteTime": {
     "end_time": "2025-06-17T11:36:11.809708Z",
     "start_time": "2025-06-17T11:36:11.805360Z"
    }
   },
   "source": [
    "expectation_city = gx.expectations.ExpectColumnDistinctValuesToBeInSet(column=\"City\", \n",
    "                                                            value_set=[\"Mumbai\", \"Delhi\"])\n"
   ],
   "outputs": [],
   "execution_count": 9
  },
  {
   "cell_type": "markdown",
   "id": "81da612a",
   "metadata": {},
   "source": [
    "### Creating ExpectationSuite and adding Expectations"
   ]
  },
  {
   "cell_type": "code",
   "id": "d8fe1ebd",
   "metadata": {
    "ExecuteTime": {
     "end_time": "2025-06-17T11:36:11.845175Z",
     "start_time": "2025-06-17T11:36:11.818331Z"
    }
   },
   "source": [
    "expectation_suite_name = \"temperature_data_suite\"\n",
    "expectation_suite_ref = gx.ExpectationSuite(name=expectation_suite_name)\n",
    "expectation_suite = context.suites.add(expectation_suite_ref)\n"
   ],
   "outputs": [],
   "execution_count": 10
  },
  {
   "cell_type": "code",
   "id": "6bb45f11",
   "metadata": {
    "ExecuteTime": {
     "end_time": "2025-06-17T11:36:11.924135Z",
     "start_time": "2025-06-17T11:36:11.869488Z"
    }
   },
   "source": [
    "#Adding Expectation to ExpectationSuite    \n",
    "expectation_suite.add_expectation(expectation_temp)\n",
    "expectation_suite.add_expectation(expectation_city)\n"
   ],
   "outputs": [
    {
     "data": {
      "text/plain": [
       "ExpectColumnDistinctValuesToBeInSet(id='07f04538-cd43-4faf-b46d-0c45dd9076ca', meta=None, notes=None, result_format=<ResultFormat.BASIC: 'BASIC'>, description=None, catch_exceptions=False, rendered_content=None, windows=None, batch_id=None, column='City', row_condition=None, condition_parser=None, value_set=['Mumbai', 'Delhi'])"
      ]
     },
     "execution_count": 11,
     "metadata": {},
     "output_type": "execute_result"
    }
   ],
   "execution_count": 11
  },
  {
   "cell_type": "markdown",
   "id": "b23d22b5",
   "metadata": {
    "scrolled": false
   },
   "source": [
    "### Creating Validation Definition"
   ]
  },
  {
   "cell_type": "code",
   "id": "33061e49",
   "metadata": {
    "ExecuteTime": {
     "end_time": "2025-06-17T11:36:11.953875Z",
     "start_time": "2025-06-17T11:36:11.948694Z"
    }
   },
   "source": [
    "validation_def_name = \"temperature_data_validation\"\n",
    "validation_definition_ref = gx.ValidationDefinition( data=batch_definition,\n",
    "                                             suite=expectation_suite,\n",
    "                                             name=validation_def_name)\n"
   ],
   "outputs": [],
   "execution_count": 12
  },
  {
   "cell_type": "code",
   "id": "becbc511",
   "metadata": {
    "ExecuteTime": {
     "end_time": "2025-06-17T11:36:12.000126Z",
     "start_time": "2025-06-17T11:36:11.970925Z"
    }
   },
   "source": [
    "validation_definition = context.validation_definitions.add(validation_definition_ref)\n"
   ],
   "outputs": [],
   "execution_count": 13
  },
  {
   "cell_type": "markdown",
   "id": "7f837c59",
   "metadata": {},
   "source": [
    "### Reading Data in Pandas DataFrame"
   ]
  },
  {
   "cell_type": "code",
   "id": "f1a3915b",
   "metadata": {
    "ExecuteTime": {
     "end_time": "2025-06-17T11:36:12.030360Z",
     "start_time": "2025-06-17T11:36:12.015978Z"
    }
   },
   "source": [
    "data_df = pd.read_csv('temperature.csv')\n",
    "data_df.head()\n"
   ],
   "outputs": [
    {
     "data": {
      "text/plain": [
       "       Date    City  Temperature\n",
       "0  8/1/2024  Mumbai           28\n",
       "1  8/2/2024  Mumbai           30\n",
       "2  8/3/2024  Mumbai           32\n",
       "3  8/4/2024  Mumbai           31\n",
       "4  8/5/2024  Mumbai           33"
      ],
      "text/html": [
       "<div>\n",
       "<style scoped>\n",
       "    .dataframe tbody tr th:only-of-type {\n",
       "        vertical-align: middle;\n",
       "    }\n",
       "\n",
       "    .dataframe tbody tr th {\n",
       "        vertical-align: top;\n",
       "    }\n",
       "\n",
       "    .dataframe thead th {\n",
       "        text-align: right;\n",
       "    }\n",
       "</style>\n",
       "<table border=\"1\" class=\"dataframe\">\n",
       "  <thead>\n",
       "    <tr style=\"text-align: right;\">\n",
       "      <th></th>\n",
       "      <th>Date</th>\n",
       "      <th>City</th>\n",
       "      <th>Temperature</th>\n",
       "    </tr>\n",
       "  </thead>\n",
       "  <tbody>\n",
       "    <tr>\n",
       "      <th>0</th>\n",
       "      <td>8/1/2024</td>\n",
       "      <td>Mumbai</td>\n",
       "      <td>28</td>\n",
       "    </tr>\n",
       "    <tr>\n",
       "      <th>1</th>\n",
       "      <td>8/2/2024</td>\n",
       "      <td>Mumbai</td>\n",
       "      <td>30</td>\n",
       "    </tr>\n",
       "    <tr>\n",
       "      <th>2</th>\n",
       "      <td>8/3/2024</td>\n",
       "      <td>Mumbai</td>\n",
       "      <td>32</td>\n",
       "    </tr>\n",
       "    <tr>\n",
       "      <th>3</th>\n",
       "      <td>8/4/2024</td>\n",
       "      <td>Mumbai</td>\n",
       "      <td>31</td>\n",
       "    </tr>\n",
       "    <tr>\n",
       "      <th>4</th>\n",
       "      <td>8/5/2024</td>\n",
       "      <td>Mumbai</td>\n",
       "      <td>33</td>\n",
       "    </tr>\n",
       "  </tbody>\n",
       "</table>\n",
       "</div>"
      ]
     },
     "execution_count": 14,
     "metadata": {},
     "output_type": "execute_result"
    }
   ],
   "execution_count": 14
  },
  {
   "cell_type": "markdown",
   "id": "dee74746",
   "metadata": {},
   "source": [
    "### Creating BatchParameter and running Validation"
   ]
  },
  {
   "cell_type": "code",
   "id": "f069132d",
   "metadata": {
    "ExecuteTime": {
     "end_time": "2025-06-17T11:36:12.064770Z",
     "start_time": "2025-06-17T11:36:12.060254Z"
    }
   },
   "source": [
    "batch_parameters = {\"dataframe\": data_df}\n"
   ],
   "outputs": [],
   "execution_count": 15
  },
  {
   "cell_type": "code",
   "id": "e6e0afd4",
   "metadata": {
    "ExecuteTime": {
     "end_time": "2025-06-17T11:36:12.231045Z",
     "start_time": "2025-06-17T11:36:12.114875Z"
    }
   },
   "source": [
    "validation_result = validation_definition.run(batch_parameters=batch_parameters)\n"
   ],
   "outputs": [
    {
     "data": {
      "text/plain": [
       "Calculating Metrics:   0%|          | 0/11 [00:00<?, ?it/s]"
      ],
      "application/vnd.jupyter.widget-view+json": {
       "version_major": 2,
       "version_minor": 0,
       "model_id": "70ecf11e4aa64100903d7e8725112d40"
      }
     },
     "metadata": {},
     "output_type": "display_data"
    }
   ],
   "execution_count": 16
  },
  {
   "cell_type": "markdown",
   "id": "1db27ee7",
   "metadata": {
    "scrolled": false
   },
   "source": [
    "### Displaying Validation Result"
   ]
  },
  {
   "cell_type": "code",
   "id": "14aaa7fd",
   "metadata": {
    "scrolled": false,
    "ExecuteTime": {
     "end_time": "2025-06-17T11:36:12.315176Z",
     "start_time": "2025-06-17T11:36:12.305110Z"
    }
   },
   "source": [
    "print(validation_result)\n"
   ],
   "outputs": [
    {
     "name": "stdout",
     "output_type": "stream",
     "text": [
      "{\n",
      "  \"success\": true,\n",
      "  \"results\": [\n",
      "    {\n",
      "      \"success\": true,\n",
      "      \"expectation_config\": {\n",
      "        \"type\": \"expect_column_values_to_be_between\",\n",
      "        \"kwargs\": {\n",
      "          \"batch_id\": \"temperature_data-temperature_entity_asset\",\n",
      "          \"column\": \"Temperature\",\n",
      "          \"min_value\": 10.0,\n",
      "          \"max_value\": 45.0\n",
      "        },\n",
      "        \"meta\": {},\n",
      "        \"id\": \"895df0a0-46dc-418e-92a2-df60c6f9d1be\"\n",
      "      },\n",
      "      \"result\": {\n",
      "        \"element_count\": 62,\n",
      "        \"unexpected_count\": 0,\n",
      "        \"unexpected_percent\": 0.0,\n",
      "        \"partial_unexpected_list\": [],\n",
      "        \"missing_count\": 0,\n",
      "        \"missing_percent\": 0.0,\n",
      "        \"unexpected_percent_total\": 0.0,\n",
      "        \"unexpected_percent_nonmissing\": 0.0,\n",
      "        \"partial_unexpected_counts\": [],\n",
      "        \"partial_unexpected_index_list\": []\n",
      "      },\n",
      "      \"meta\": {},\n",
      "      \"exception_info\": {\n",
      "        \"raised_exception\": false,\n",
      "        \"exception_traceback\": null,\n",
      "        \"exception_message\": null\n",
      "      }\n",
      "    },\n",
      "    {\n",
      "      \"success\": true,\n",
      "      \"expectation_config\": {\n",
      "        \"type\": \"expect_column_distinct_values_to_be_in_set\",\n",
      "        \"kwargs\": {\n",
      "          \"batch_id\": \"temperature_data-temperature_entity_asset\",\n",
      "          \"column\": \"City\",\n",
      "          \"value_set\": [\n",
      "            \"Mumbai\",\n",
      "            \"Delhi\"\n",
      "          ]\n",
      "        },\n",
      "        \"meta\": {},\n",
      "        \"id\": \"07f04538-cd43-4faf-b46d-0c45dd9076ca\"\n",
      "      },\n",
      "      \"result\": {\n",
      "        \"observed_value\": [\n",
      "          \"Delhi\",\n",
      "          \"Mumbai\"\n",
      "        ],\n",
      "        \"details\": {\n",
      "          \"value_counts\": [\n",
      "            {\n",
      "              \"value\": \"Delhi\",\n",
      "              \"count\": 31\n",
      "            },\n",
      "            {\n",
      "              \"value\": \"Mumbai\",\n",
      "              \"count\": 31\n",
      "            }\n",
      "          ]\n",
      "        }\n",
      "      },\n",
      "      \"meta\": {},\n",
      "      \"exception_info\": {\n",
      "        \"raised_exception\": false,\n",
      "        \"exception_traceback\": null,\n",
      "        \"exception_message\": null\n",
      "      }\n",
      "    }\n",
      "  ],\n",
      "  \"suite_name\": \"temperature_data_suite\",\n",
      "  \"suite_parameters\": {},\n",
      "  \"statistics\": {\n",
      "    \"evaluated_expectations\": 2,\n",
      "    \"successful_expectations\": 2,\n",
      "    \"unsuccessful_expectations\": 0,\n",
      "    \"success_percent\": 100.0\n",
      "  },\n",
      "  \"meta\": {\n",
      "    \"great_expectations_version\": \"1.5.1\",\n",
      "    \"batch_spec\": {\n",
      "      \"batch_data\": \"PandasDataFrame\"\n",
      "    },\n",
      "    \"batch_markers\": {\n",
      "      \"ge_load_time\": \"20250617T113612.119579Z\",\n",
      "      \"pandas_data_fingerprint\": \"630c38d4b2ba632bf4cae25fb0a47f6c\"\n",
      "    },\n",
      "    \"active_batch_definition\": {\n",
      "      \"datasource_name\": \"temperature_data\",\n",
      "      \"data_connector_name\": \"fluent\",\n",
      "      \"data_asset_name\": \"temperature_entity_asset\",\n",
      "      \"batch_identifiers\": {\n",
      "        \"dataframe\": \"<DATAFRAME>\"\n",
      "      }\n",
      "    },\n",
      "    \"validation_id\": \"2a1f8181-05a9-466b-9516-8f567d6523ca\",\n",
      "    \"checkpoint_id\": null,\n",
      "    \"run_id\": {\n",
      "      \"run_name\": null,\n",
      "      \"run_time\": \"2025-06-17T17:36:12.194021+06:00\"\n",
      "    },\n",
      "    \"validation_time\": \"2025-06-17T11:36:12.194021+00:00\",\n",
      "    \"batch_parameters\": {\n",
      "      \"dataframe\": \"<DATAFRAME>\"\n",
      "    }\n",
      "  },\n",
      "  \"id\": null\n",
      "}\n"
     ]
    }
   ],
   "execution_count": 17
  },
  {
   "cell_type": "code",
   "id": "08701506",
   "metadata": {
    "scrolled": false,
    "ExecuteTime": {
     "end_time": "2025-06-17T11:36:12.402927Z",
     "start_time": "2025-06-17T11:36:12.398970Z"
    }
   },
   "source": [],
   "outputs": [],
   "execution_count": null
  }
 ],
 "metadata": {
  "kernelspec": {
   "display_name": "Python 3",
   "language": "python",
   "name": "python3"
  },
  "language_info": {
   "codemirror_mode": {
    "name": "ipython",
    "version": 3
   },
   "file_extension": ".py",
   "mimetype": "text/x-python",
   "name": "python",
   "nbconvert_exporter": "python",
   "pygments_lexer": "ipython3",
   "version": "3.8.8"
  }
 },
 "nbformat": 4,
 "nbformat_minor": 5
}
