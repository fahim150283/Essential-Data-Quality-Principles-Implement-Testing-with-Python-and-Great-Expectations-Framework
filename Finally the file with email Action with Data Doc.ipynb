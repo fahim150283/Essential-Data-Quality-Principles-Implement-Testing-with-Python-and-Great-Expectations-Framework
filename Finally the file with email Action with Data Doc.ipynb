{
 "cells": [
  {
   "metadata": {
    "ExecuteTime": {
     "end_time": "2025-06-23T06:02:32.141764Z",
     "start_time": "2025-06-23T06:02:29.880051Z"
    }
   },
   "cell_type": "code",
   "source": "pip install great_expectations",
   "id": "839f3a44d67105b4",
   "outputs": [
    {
     "name": "stdout",
     "output_type": "stream",
     "text": [
      "Defaulting to user installation because normal site-packages is not writeable\n",
      "Requirement already satisfied: great_expectations in c:\\users\\techteam-08\\appdata\\roaming\\python\\python312\\site-packages (1.5.1)\n",
      "Requirement already satisfied: altair<5.0.0,>=4.2.1 in c:\\users\\techteam-08\\appdata\\roaming\\python\\python312\\site-packages (from great_expectations) (4.2.2)\n",
      "Requirement already satisfied: cryptography>=3.2 in c:\\programdata\\anaconda3\\lib\\site-packages (from great_expectations) (43.0.0)\n",
      "Requirement already satisfied: jinja2>=3 in c:\\programdata\\anaconda3\\lib\\site-packages (from great_expectations) (3.1.4)\n",
      "Requirement already satisfied: jsonschema>=2.5.1 in c:\\programdata\\anaconda3\\lib\\site-packages (from great_expectations) (4.23.0)\n",
      "Requirement already satisfied: marshmallow<4.0.0,>=3.7.1 in c:\\users\\techteam-08\\appdata\\roaming\\python\\python312\\site-packages (from great_expectations) (3.26.1)\n",
      "Requirement already satisfied: mistune>=0.8.4 in c:\\programdata\\anaconda3\\lib\\site-packages (from great_expectations) (2.0.4)\n",
      "Requirement already satisfied: packaging in c:\\programdata\\anaconda3\\lib\\site-packages (from great_expectations) (24.1)\n",
      "Requirement already satisfied: posthog<4,>3 in c:\\users\\techteam-08\\appdata\\roaming\\python\\python312\\site-packages (from great_expectations) (3.25.0)\n",
      "Requirement already satisfied: pydantic>=1.10.7 in c:\\programdata\\anaconda3\\lib\\site-packages (from great_expectations) (2.8.2)\n",
      "Requirement already satisfied: pyparsing>=2.4 in c:\\programdata\\anaconda3\\lib\\site-packages (from great_expectations) (3.1.2)\n",
      "Requirement already satisfied: python-dateutil>=2.8.1 in c:\\programdata\\anaconda3\\lib\\site-packages (from great_expectations) (2.9.0.post0)\n",
      "Requirement already satisfied: requests>=2.20 in c:\\programdata\\anaconda3\\lib\\site-packages (from great_expectations) (2.32.3)\n",
      "Requirement already satisfied: ruamel.yaml>=0.16 in c:\\programdata\\anaconda3\\lib\\site-packages (from great_expectations) (0.18.6)\n",
      "Requirement already satisfied: scipy>=1.6.0 in c:\\programdata\\anaconda3\\lib\\site-packages (from great_expectations) (1.13.1)\n",
      "Requirement already satisfied: tqdm>=4.59.0 in c:\\programdata\\anaconda3\\lib\\site-packages (from great_expectations) (4.66.5)\n",
      "Requirement already satisfied: typing-extensions>=4.1.0 in c:\\programdata\\anaconda3\\lib\\site-packages (from great_expectations) (4.11.0)\n",
      "Requirement already satisfied: tzlocal>=1.2 in c:\\users\\techteam-08\\appdata\\roaming\\python\\python312\\site-packages (from great_expectations) (5.3.1)\n",
      "Requirement already satisfied: numpy>=1.22.4 in c:\\programdata\\anaconda3\\lib\\site-packages (from great_expectations) (1.26.4)\n",
      "Requirement already satisfied: pandas<2.2,>=1.3.0 in c:\\users\\techteam-08\\appdata\\roaming\\python\\python312\\site-packages (from great_expectations) (2.1.4)\n",
      "Requirement already satisfied: entrypoints in c:\\users\\techteam-08\\appdata\\roaming\\python\\python312\\site-packages (from altair<5.0.0,>=4.2.1->great_expectations) (0.4)\n",
      "Requirement already satisfied: toolz in c:\\programdata\\anaconda3\\lib\\site-packages (from altair<5.0.0,>=4.2.1->great_expectations) (0.12.0)\n",
      "Requirement already satisfied: cffi>=1.12 in c:\\programdata\\anaconda3\\lib\\site-packages (from cryptography>=3.2->great_expectations) (1.17.1)\n",
      "Requirement already satisfied: MarkupSafe>=2.0 in c:\\programdata\\anaconda3\\lib\\site-packages (from jinja2>=3->great_expectations) (2.1.3)\n",
      "Requirement already satisfied: attrs>=22.2.0 in c:\\programdata\\anaconda3\\lib\\site-packages (from jsonschema>=2.5.1->great_expectations) (23.1.0)\n",
      "Requirement already satisfied: jsonschema-specifications>=2023.03.6 in c:\\programdata\\anaconda3\\lib\\site-packages (from jsonschema>=2.5.1->great_expectations) (2023.7.1)\n",
      "Requirement already satisfied: referencing>=0.28.4 in c:\\programdata\\anaconda3\\lib\\site-packages (from jsonschema>=2.5.1->great_expectations) (0.30.2)\n",
      "Requirement already satisfied: rpds-py>=0.7.1 in c:\\programdata\\anaconda3\\lib\\site-packages (from jsonschema>=2.5.1->great_expectations) (0.10.6)\n",
      "Requirement already satisfied: pytz>=2020.1 in c:\\programdata\\anaconda3\\lib\\site-packages (from pandas<2.2,>=1.3.0->great_expectations) (2024.1)\n",
      "Requirement already satisfied: tzdata>=2022.1 in c:\\programdata\\anaconda3\\lib\\site-packages (from pandas<2.2,>=1.3.0->great_expectations) (2023.3)\n",
      "Requirement already satisfied: six>=1.5 in c:\\programdata\\anaconda3\\lib\\site-packages (from posthog<4,>3->great_expectations) (1.16.0)\n",
      "Requirement already satisfied: monotonic>=1.5 in c:\\users\\techteam-08\\appdata\\roaming\\python\\python312\\site-packages (from posthog<4,>3->great_expectations) (1.6)\n",
      "Requirement already satisfied: backoff>=1.10.0 in c:\\users\\techteam-08\\appdata\\roaming\\python\\python312\\site-packages (from posthog<4,>3->great_expectations) (2.2.1)\n",
      "Requirement already satisfied: distro>=1.5.0 in c:\\programdata\\anaconda3\\lib\\site-packages (from posthog<4,>3->great_expectations) (1.9.0)\n",
      "Requirement already satisfied: annotated-types>=0.4.0 in c:\\programdata\\anaconda3\\lib\\site-packages (from pydantic>=1.10.7->great_expectations) (0.6.0)\n",
      "Requirement already satisfied: pydantic-core==2.20.1 in c:\\programdata\\anaconda3\\lib\\site-packages (from pydantic>=1.10.7->great_expectations) (2.20.1)\n",
      "Requirement already satisfied: charset-normalizer<4,>=2 in c:\\programdata\\anaconda3\\lib\\site-packages (from requests>=2.20->great_expectations) (3.3.2)\n",
      "Requirement already satisfied: idna<4,>=2.5 in c:\\programdata\\anaconda3\\lib\\site-packages (from requests>=2.20->great_expectations) (3.7)\n",
      "Requirement already satisfied: urllib3<3,>=1.21.1 in c:\\programdata\\anaconda3\\lib\\site-packages (from requests>=2.20->great_expectations) (2.2.3)\n",
      "Requirement already satisfied: certifi>=2017.4.17 in c:\\programdata\\anaconda3\\lib\\site-packages (from requests>=2.20->great_expectations) (2024.8.30)\n",
      "Requirement already satisfied: ruamel.yaml.clib>=0.2.7 in c:\\programdata\\anaconda3\\lib\\site-packages (from ruamel.yaml>=0.16->great_expectations) (0.2.8)\n",
      "Requirement already satisfied: colorama in c:\\programdata\\anaconda3\\lib\\site-packages (from tqdm>=4.59.0->great_expectations) (0.4.6)\n",
      "Requirement already satisfied: pycparser in c:\\programdata\\anaconda3\\lib\\site-packages (from cffi>=1.12->cryptography>=3.2->great_expectations) (2.21)\n",
      "Note: you may need to restart the kernel to use updated packages.\n"
     ]
    }
   ],
   "execution_count": 1
  },
  {
   "metadata": {
    "ExecuteTime": {
     "end_time": "2025-06-23T06:02:34.068628Z",
     "start_time": "2025-06-23T06:02:32.208179Z"
    }
   },
   "cell_type": "code",
   "source": "pip install pandas",
   "id": "2f298eee0b24fec1",
   "outputs": [
    {
     "name": "stdout",
     "output_type": "stream",
     "text": [
      "Defaulting to user installation because normal site-packages is not writeable\n",
      "Requirement already satisfied: pandas in c:\\users\\techteam-08\\appdata\\roaming\\python\\python312\\site-packages (2.1.4)\n",
      "Requirement already satisfied: numpy<2,>=1.26.0 in c:\\programdata\\anaconda3\\lib\\site-packages (from pandas) (1.26.4)\n",
      "Requirement already satisfied: python-dateutil>=2.8.2 in c:\\programdata\\anaconda3\\lib\\site-packages (from pandas) (2.9.0.post0)\n",
      "Requirement already satisfied: pytz>=2020.1 in c:\\programdata\\anaconda3\\lib\\site-packages (from pandas) (2024.1)\n",
      "Requirement already satisfied: tzdata>=2022.1 in c:\\programdata\\anaconda3\\lib\\site-packages (from pandas) (2023.3)\n",
      "Requirement already satisfied: six>=1.5 in c:\\programdata\\anaconda3\\lib\\site-packages (from python-dateutil>=2.8.2->pandas) (1.16.0)\n",
      "Note: you may need to restart the kernel to use updated packages.\n"
     ]
    }
   ],
   "execution_count": 2
  },
  {
   "metadata": {},
   "cell_type": "markdown",
   "source": "### Import Libraries",
   "id": "d50842acca2dea5c"
  },
  {
   "metadata": {
    "ExecuteTime": {
     "end_time": "2025-06-23T06:02:37.116681Z",
     "start_time": "2025-06-23T06:02:34.080467Z"
    }
   },
   "cell_type": "code",
   "source": [
    "from lib2to3.fixes.fix_input import context\n",
    "\n",
    "import pandas as pd\n",
    "import json\n",
    "import great_expectations as gx\n",
    "import sys\n",
    "import re\n",
    "import os\n",
    "import smtplib\n",
    "\n",
    "from dask.graph_manipulation import checkpoint\n",
    "from great_expectations.checkpoint.actions import EmailAction\n",
    "from great_expectations.checkpoint.actions import UpdateDataDocsAction\n",
    "from great_expectations.expectations import ExpectColumnValuesToBeBetween\n",
    "from great_expectations.expectations.expectation import ColumnMapExpectation\n",
    "from great_expectations.execution_engine.pandas_execution_engine import PandasExecutionEngine\n",
    "from great_expectations.execution_engine.sqlalchemy_execution_engine import SqlAlchemyExecutionEngine\n",
    "from great_expectations.expectations.metrics import ColumnMapMetricProvider\n",
    "from great_expectations.expectations.metrics.map_metric_provider import (column_map_metric_provider,\n",
    "                                                                         column_condition_partial)\n",
    "\n",
    "\n",
    "print(gx.__version__)\n",
    "print(pd.__version__)\n",
    "print(sys.version)"
   ],
   "id": "2e52bd03393f6d94",
   "outputs": [
    {
     "name": "stderr",
     "output_type": "stream",
     "text": [
      "C:\\Users\\TechTeam-08\\AppData\\Local\\Temp\\ipykernel_4068\\2210710994.py:1: DeprecationWarning: lib2to3 package is deprecated and may not be able to parse Python 3.10+\n",
      "  from lib2to3.fixes.fix_input import context\n"
     ]
    },
    {
     "name": "stdout",
     "output_type": "stream",
     "text": [
      "1.5.1\n",
      "2.1.4\n",
      "3.12.7 | packaged by Anaconda, Inc. | (main, Oct  4 2024, 13:17:27) [MSC v.1929 64 bit (AMD64)]\n"
     ]
    }
   ],
   "execution_count": 3
  },
  {
   "metadata": {},
   "cell_type": "markdown",
   "source": "### Creating GX Context",
   "id": "d86a4ed17d1451e6"
  },
  {
   "metadata": {
    "ExecuteTime": {
     "end_time": "2025-06-23T06:02:37.186871Z",
     "start_time": "2025-06-23T06:02:37.147303Z"
    }
   },
   "cell_type": "code",
   "source": "context = gx.get_context(mode=\"ephemeral\")",
   "id": "c7d23321d0fb0520",
   "outputs": [],
   "execution_count": 4
  },
  {
   "metadata": {},
   "cell_type": "markdown",
   "source": "### Creating Datasource",
   "id": "b266b3d8271079f3"
  },
  {
   "metadata": {
    "ExecuteTime": {
     "end_time": "2025-06-23T06:02:37.219643Z",
     "start_time": "2025-06-23T06:02:37.207163Z"
    }
   },
   "cell_type": "code",
   "source": [
    "data_source_name ='temperature_data'\n",
    "data_source = context.data_sources.add_pandas(name=data_source_name)"
   ],
   "id": "77f06f2468867b3d",
   "outputs": [],
   "execution_count": 5
  },
  {
   "metadata": {},
   "cell_type": "markdown",
   "source": "### Creating DataAsset",
   "id": "607aaddd988ce320"
  },
  {
   "metadata": {
    "ExecuteTime": {
     "end_time": "2025-06-23T06:02:37.243541Z",
     "start_time": "2025-06-23T06:02:37.236585Z"
    }
   },
   "cell_type": "code",
   "source": [
    "data_asset_name = \"emp_asset\"\n",
    "data_asset = data_source.add_dataframe_asset(name=data_asset_name)"
   ],
   "id": "d3dbe15814ea0575",
   "outputs": [],
   "execution_count": 6
  },
  {
   "metadata": {},
   "cell_type": "markdown",
   "source": "### Creating Batch Definition",
   "id": "415bd5203d450f6d"
  },
  {
   "metadata": {
    "ExecuteTime": {
     "end_time": "2025-06-23T06:02:37.263532Z",
     "start_time": "2025-06-23T06:02:37.255596Z"
    }
   },
   "cell_type": "code",
   "source": [
    "batch_definition_name = \"emp_batch\"\n",
    "batch_definition = data_asset.add_batch_definition_whole_dataframe(batch_definition_name)"
   ],
   "id": "af20d1797a96742c",
   "outputs": [],
   "execution_count": 7
  },
  {
   "metadata": {},
   "cell_type": "markdown",
   "source": "### Creating Metric for PAN Validation",
   "id": "e3033ca883d98577"
  },
  {
   "metadata": {
    "ExecuteTime": {
     "end_time": "2025-06-23T06:02:37.282256Z",
     "start_time": "2025-06-23T06:02:37.276428Z"
    }
   },
   "cell_type": "code",
   "source": [
    "class ColumnValuesToMatchPanFormat(ColumnMapMetricProvider):\n",
    "    condition_metric_name = \"column_values.match_pan_format\"\n",
    "\n",
    "    @column_condition_partial(engine=PandasExecutionEngine)\n",
    "    def _pandas(cls, column, **kwargs):\n",
    "        pan_regex = r\"^[A-Z]{5}[0-9]{4}[A-Z]{1}$\"\n",
    "        return column.apply(lambda x: bool(re.match(pan_regex, str(x))))\n",
    "\n",
    "    @column_condition_partial(engine=SqlAlchemyExecutionEngine)\n",
    "    def _sqlalchemy(cls, column, **kwargs):\n",
    "        pan_regex = r\"^[A-Z]{5}[0-9]{4}[A-Z]{1}$\"\n",
    "        return column.like(f'[A-Z]{5}[0-9]{4}[A-Z]{1}')"
   ],
   "id": "70dcf34b96e87a52",
   "outputs": [],
   "execution_count": 8
  },
  {
   "metadata": {},
   "cell_type": "markdown",
   "source": "### Create Custom Expectation",
   "id": "43d9ebb623decfe7"
  },
  {
   "metadata": {
    "ExecuteTime": {
     "end_time": "2025-06-23T06:02:37.309580Z",
     "start_time": "2025-06-23T06:02:37.300701Z"
    }
   },
   "cell_type": "code",
   "source": [
    "class ExpectColumnValuesToMatchPanFormat(ColumnMapExpectation):\n",
    "    map_metric = \"column_values.match_pan_format\"\n",
    "    success_keys = (\"mostly\",)\n",
    "    default_kwarg_values = {\n",
    "        \"mostly\": 1.0,\n",
    "        \"result_format\": \"BASIC\",\n",
    "        \"include_config\": True\n",
    "    }"
   ],
   "id": "2038f69824fa43d",
   "outputs": [],
   "execution_count": 9
  },
  {
   "metadata": {},
   "cell_type": "markdown",
   "source": "### Creating Expectation",
   "id": "235ec860a7b6e678"
  },
  {
   "metadata": {
    "ExecuteTime": {
     "end_time": "2025-06-23T06:02:37.331456Z",
     "start_time": "2025-06-23T06:02:37.326549Z"
    }
   },
   "cell_type": "code",
   "source": [
    "expectation_date = ExpectColumnValuesToMatchPanFormat(column=\"Date\")\n",
    "expectation_temp = ExpectColumnValuesToBeBetween(column=\"Temperature\",\n",
    "                                                 max_value=45,\n",
    "                                                 min_value=10,)\n",
    "expectation_city = gx.expectations.ExpectColumnDistinctValuesToBeInSet(column=\"City\",\n",
    "                                                                       value_set=[\"Mumbai\", \"Delhi\"])\n",
    "expectation_city_not_null = gx.expectations.ExpectColumnValuesToNotBeNull(column=\"City\")\n",
    "expectation_date_not_null = gx.expectations.ExpectColumnValuesToNotBeNull(column=\"Date\")\n",
    "expectation_temp_not_null = gx.expectations.ExpectColumnValuesToNotBeNull(column=\"Temperature\")"
   ],
   "id": "f08503896353dca8",
   "outputs": [],
   "execution_count": 10
  },
  {
   "metadata": {},
   "cell_type": "markdown",
   "source": "### Creating ExpectationSuite and Adding Expectations",
   "id": "99893e847fa265b2"
  },
  {
   "metadata": {
    "ExecuteTime": {
     "end_time": "2025-06-23T06:02:37.377293Z",
     "start_time": "2025-06-23T06:02:37.350654Z"
    }
   },
   "cell_type": "code",
   "source": [
    "expectation_suite_name = \"emp_suite\"\n",
    "expectation_suite_ref = gx.ExpectationSuite(name=expectation_suite_name)\n",
    "expectation_suite = context.suites.add(expectation_suite_ref)"
   ],
   "id": "9a93e5cfb5895fe8",
   "outputs": [],
   "execution_count": 11
  },
  {
   "metadata": {
    "ExecuteTime": {
     "end_time": "2025-06-23T06:02:37.555059Z",
     "start_time": "2025-06-23T06:02:37.396364Z"
    }
   },
   "cell_type": "code",
   "source": [
    "expectation_suite.add_expectation(expectation_date)\n",
    "expectation_suite.add_expectation(expectation_temp)\n",
    "expectation_suite.add_expectation(expectation_city)\n",
    "expectation_suite.add_expectation(expectation_city_not_null)\n",
    "expectation_suite.add_expectation(expectation_date_not_null)\n",
    "expectation_suite.add_expectation(expectation_temp_not_null)"
   ],
   "id": "15ed4ea65b57e684",
   "outputs": [
    {
     "data": {
      "text/plain": [
       "ExpectColumnValuesToNotBeNull(id='283720af-41af-4cfe-8255-990fdb7189ed', meta=None, notes=None, result_format=<ResultFormat.BASIC: 'BASIC'>, description=None, catch_exceptions=True, rendered_content=None, windows=None, batch_id=None, column='Temperature', mostly=1, row_condition=None, condition_parser=None)"
      ]
     },
     "execution_count": 12,
     "metadata": {},
     "output_type": "execute_result"
    }
   ],
   "execution_count": 12
  },
  {
   "metadata": {},
   "cell_type": "markdown",
   "source": "### Creating Validation Definition",
   "id": "1d12c2149dc2b606"
  },
  {
   "metadata": {
    "ExecuteTime": {
     "end_time": "2025-06-23T06:02:37.580635Z",
     "start_time": "2025-06-23T06:02:37.576191Z"
    }
   },
   "cell_type": "code",
   "source": [
    "validation_def_name = \"emp_data_validation\"\n",
    "validation_definition_ref = gx.ValidationDefinition(data=batch_definition,\n",
    "                                                    suite=expectation_suite,\n",
    "                                                    name=validation_def_name)"
   ],
   "id": "d3c368b371208854",
   "outputs": [],
   "execution_count": 13
  },
  {
   "metadata": {
    "ExecuteTime": {
     "end_time": "2025-06-23T06:02:37.632117Z",
     "start_time": "2025-06-23T06:02:37.601061Z"
    }
   },
   "cell_type": "code",
   "source": "validation_definition = context.validation_definitions.add(validation_definition_ref)",
   "id": "978be02a224124da",
   "outputs": [],
   "execution_count": 14
  },
  {
   "metadata": {},
   "cell_type": "markdown",
   "source": "### Creating Update Data Docs Action",
   "id": "aff1fefb3ed22fcb"
  },
  {
   "metadata": {
    "ExecuteTime": {
     "end_time": "2025-06-23T06:02:37.657115Z",
     "start_time": "2025-06-23T06:02:37.652064Z"
    }
   },
   "cell_type": "code",
   "source": [
    "update_action = {\n",
    "    \"name\": \"my_docs_action\",\n",
    "    \"type\": \"update_data_docs\",\n",
    "    \"site_names\": [\"local_site\"]\n",
    "}"
   ],
   "id": "6dac9abb98a65113",
   "outputs": [],
   "execution_count": 15
  },
  {
   "metadata": {},
   "cell_type": "markdown",
   "source": "### Creating Send Email Action",
   "id": "c5de5d675e92ab59"
  },
  {
   "metadata": {
    "ExecuteTime": {
     "end_time": "2025-06-23T06:02:39.605032Z",
     "start_time": "2025-06-23T06:02:37.685951Z"
    }
   },
   "cell_type": "code",
   "source": [
    "# Load email credentials from JSON\n",
    "with open('Email Credentials.json') as f:\n",
    "    data = json.load(f)\n",
    "\n",
    "mailserveraddr = data['email']['mailServer']\n",
    "fromaddr = data['email']['from']\n",
    "password = data['email']['password']\n",
    "to = data['email']['to']\n",
    "port = data['email']['port']\n",
    "\n",
    "# Convert the list of recipient emails to a comma-separated string\n",
    "receiver_emails = \",\".join(to)\n",
    "\n",
    "# Test email connection\n",
    "try:\n",
    "    with smtplib.SMTP(mailserveraddr, port) as server:\n",
    "        server.starttls()\n",
    "        server.login(fromaddr, password)\n",
    "        print(\"Email connection successful!\")\n",
    "except Exception as e:\n",
    "    print(\"Email connection failed:\", str(e))\n",
    "\n",
    "# Define the email action with corrected configuration\n",
    "email_action = {\n",
    "    \"name\": \"send_email_notification\",  # Added required name field\n",
    "    \"type\": \"email\",  # Specifies the action type\n",
    "    \"notify_on\": \"all\",\n",
    "    \"smtp_address\": mailserveraddr,\n",
    "    \"smtp_port\": port,\n",
    "    \"sender_login\": fromaddr,\n",
    "    \"sender_password\": password,\n",
    "    \"receiver_emails\": receiver_emails,  # Use comma-separated string\n",
    "    \"use_tls\": True\n",
    "}"
   ],
   "id": "4c3937c7b5c5185c",
   "outputs": [
    {
     "name": "stdout",
     "output_type": "stream",
     "text": [
      "Email connection successful!\n"
     ]
    }
   ],
   "execution_count": 16
  },
  {
   "metadata": {},
   "cell_type": "markdown",
   "source": "### Creating Checkpoint",
   "id": "3a97a8fa62a39f68"
  },
  {
   "metadata": {
    "ExecuteTime": {
     "end_time": "2025-06-23T06:02:39.666950Z",
     "start_time": "2025-06-23T06:02:39.626327Z"
    }
   },
   "cell_type": "code",
   "source": [
    "checkpoint_name = \"temp_run_checkpoint\"\n",
    "checkpoint_to_add = gx.Checkpoint(\n",
    "    name=checkpoint_name,\n",
    "    validation_definitions=[validation_definition],\n",
    "    actions=[email_action, update_action],  # Now with the correct action config\n",
    "    result_format=\"COMPLETE\"\n",
    ")\n",
    "\n",
    "checkpoint = context.checkpoints.add(checkpoint_to_add)"
   ],
   "id": "af7db24abf1acd65",
   "outputs": [],
   "execution_count": 17
  },
  {
   "metadata": {},
   "cell_type": "markdown",
   "source": "### Reading Data in Pandas DataFrame",
   "id": "8982d40343234a79"
  },
  {
   "metadata": {
    "ExecuteTime": {
     "end_time": "2025-06-23T06:02:39.705619Z",
     "start_time": "2025-06-23T06:02:39.690766Z"
    }
   },
   "cell_type": "code",
   "source": [
    "data_df = pd.read_csv('temperature.csv')\n",
    "data_df.head()"
   ],
   "id": "ec47a40f9e6be7d9",
   "outputs": [
    {
     "data": {
      "text/plain": [
       "       Date    City  Temperature\n",
       "0  8/1/2024  Mumbai           28\n",
       "1  8/2/2024  Mumbai           30\n",
       "2  8/3/2024  Mumbai           32\n",
       "3  8/4/2024  Mumbai           31\n",
       "4  8/5/2024  Mumbai           33"
      ],
      "text/html": [
       "<div>\n",
       "<style scoped>\n",
       "    .dataframe tbody tr th:only-of-type {\n",
       "        vertical-align: middle;\n",
       "    }\n",
       "\n",
       "    .dataframe tbody tr th {\n",
       "        vertical-align: top;\n",
       "    }\n",
       "\n",
       "    .dataframe thead th {\n",
       "        text-align: right;\n",
       "    }\n",
       "</style>\n",
       "<table border=\"1\" class=\"dataframe\">\n",
       "  <thead>\n",
       "    <tr style=\"text-align: right;\">\n",
       "      <th></th>\n",
       "      <th>Date</th>\n",
       "      <th>City</th>\n",
       "      <th>Temperature</th>\n",
       "    </tr>\n",
       "  </thead>\n",
       "  <tbody>\n",
       "    <tr>\n",
       "      <th>0</th>\n",
       "      <td>8/1/2024</td>\n",
       "      <td>Mumbai</td>\n",
       "      <td>28</td>\n",
       "    </tr>\n",
       "    <tr>\n",
       "      <th>1</th>\n",
       "      <td>8/2/2024</td>\n",
       "      <td>Mumbai</td>\n",
       "      <td>30</td>\n",
       "    </tr>\n",
       "    <tr>\n",
       "      <th>2</th>\n",
       "      <td>8/3/2024</td>\n",
       "      <td>Mumbai</td>\n",
       "      <td>32</td>\n",
       "    </tr>\n",
       "    <tr>\n",
       "      <th>3</th>\n",
       "      <td>8/4/2024</td>\n",
       "      <td>Mumbai</td>\n",
       "      <td>31</td>\n",
       "    </tr>\n",
       "    <tr>\n",
       "      <th>4</th>\n",
       "      <td>8/5/2024</td>\n",
       "      <td>Mumbai</td>\n",
       "      <td>33</td>\n",
       "    </tr>\n",
       "  </tbody>\n",
       "</table>\n",
       "</div>"
      ]
     },
     "execution_count": 18,
     "metadata": {},
     "output_type": "execute_result"
    }
   ],
   "execution_count": 18
  },
  {
   "metadata": {},
   "cell_type": "markdown",
   "source": "### Creating BatchParameter",
   "id": "102131c9a5dc46f"
  },
  {
   "metadata": {
    "ExecuteTime": {
     "end_time": "2025-06-23T06:02:39.768545Z",
     "start_time": "2025-06-23T06:02:39.764213Z"
    }
   },
   "cell_type": "code",
   "source": "batch_parameters = {\"dataframe\": data_df}",
   "id": "1c2e421067994e14",
   "outputs": [],
   "execution_count": 19
  },
  {
   "metadata": {},
   "cell_type": "markdown",
   "source": "### Creating runtime parameter object",
   "id": "79e1633bfe700dcd"
  },
  {
   "metadata": {
    "ExecuteTime": {
     "end_time": "2025-06-23T06:02:39.835739Z",
     "start_time": "2025-06-23T06:02:39.831957Z"
    }
   },
   "cell_type": "code",
   "source": [
    "runtime_parameters = {\n",
    "    \"temp_min_value\": 29,\n",
    "    \"temp_max_value\": 50,\n",
    "    \"city\": [\"Mumbai\", \"Delhi\"]\n",
    "}"
   ],
   "id": "c048dc57d5919fb8",
   "outputs": [],
   "execution_count": 20
  },
  {
   "metadata": {},
   "cell_type": "markdown",
   "source": "### Running Checkpoint",
   "id": "65b552471ad26db0"
  },
  {
   "metadata": {
    "ExecuteTime": {
     "end_time": "2025-06-23T06:02:44.234567Z",
     "start_time": "2025-06-23T06:02:39.886708Z"
    }
   },
   "cell_type": "code",
   "source": [
    "validation_results = checkpoint.run(batch_parameters=batch_parameters,\n",
    "                                    expectation_parameters=runtime_parameters)\n"
   ],
   "id": "967afd4bff902e78",
   "outputs": [
    {
     "data": {
      "text/plain": [
       "Calculating Metrics:   0%|          | 0/29 [00:00<?, ?it/s]"
      ],
      "application/vnd.jupyter.widget-view+json": {
       "version_major": 2,
       "version_minor": 0,
       "model_id": "2cd43fe042804ae3a2bf5618052557c7"
      }
     },
     "metadata": {},
     "output_type": "display_data"
    }
   ],
   "execution_count": 21
  },
  {
   "metadata": {},
   "cell_type": "markdown",
   "source": "### Updating runtime parameter object",
   "id": "759fec61b8610b68"
  },
  {
   "metadata": {
    "ExecuteTime": {
     "end_time": "2025-06-23T08:07:46.386269Z",
     "start_time": "2025-06-23T08:07:46.377024Z"
    }
   },
   "cell_type": "code",
   "source": [
    "runtime_parameters = {\n",
    "    \"temp_min_value\": 19,\n",
    "    \"temp_max_value\": 25,\n",
    "    \"city\": [\"Mumbai\", \"Delhi\"]\n",
    "}"
   ],
   "id": "7bf7c646cccc8b19",
   "outputs": [],
   "execution_count": 26
  },
  {
   "metadata": {},
   "cell_type": "markdown",
   "source": "### Rerunning Checkpoint",
   "id": "6097f892d80f452"
  },
  {
   "metadata": {
    "ExecuteTime": {
     "end_time": "2025-06-23T08:07:53.930730Z",
     "start_time": "2025-06-23T08:07:48.905029Z"
    }
   },
   "cell_type": "code",
   "source": [
    "validation_results = checkpoint.run(batch_parameters=batch_parameters,\n",
    "                                    expectation_parameters=runtime_parameters)"
   ],
   "id": "3f217e197318c0cc",
   "outputs": [
    {
     "data": {
      "text/plain": [
       "Calculating Metrics:   0%|          | 0/29 [00:00<?, ?it/s]"
      ],
      "application/vnd.jupyter.widget-view+json": {
       "version_major": 2,
       "version_minor": 0,
       "model_id": "babade156d484a85869de67d68b20882"
      }
     },
     "metadata": {},
     "output_type": "display_data"
    }
   ],
   "execution_count": 27
  },
  {
   "metadata": {},
   "cell_type": "markdown",
   "source": "### Displaying validation results",
   "id": "7c1402bc222c31ed"
  },
  {
   "metadata": {
    "ExecuteTime": {
     "end_time": "2025-06-23T08:07:56.488353Z",
     "start_time": "2025-06-23T08:07:56.474325Z"
    }
   },
   "cell_type": "code",
   "source": "print(validation_results)",
   "id": "4a73770e1f2774fa",
   "outputs": [
    {
     "name": "stdout",
     "output_type": "stream",
     "text": [
      "run_id={\"run_name\": null, \"run_time\": \"2025-06-23T14:07:48.924329+06:00\"} run_results={ValidationResultIdentifier::emp_suite/__none__/20250623T080748.924329Z/temperature_data-emp_asset: {\n",
      "  \"success\": false,\n",
      "  \"results\": [\n",
      "    {\n",
      "      \"success\": false,\n",
      "      \"expectation_config\": {\n",
      "        \"type\": \"expect_column_values_to_match_pan_format\",\n",
      "        \"kwargs\": {\n",
      "          \"batch_id\": \"temperature_data-emp_asset\",\n",
      "          \"column\": \"Date\"\n",
      "        },\n",
      "        \"meta\": {},\n",
      "        \"id\": \"0421f92b-0e07-48fa-b3e3-9f0a14cb993d\"\n",
      "      },\n",
      "      \"result\": {\n",
      "        \"element_count\": 62,\n",
      "        \"unexpected_count\": 62,\n",
      "        \"unexpected_percent\": 100.0,\n",
      "        \"partial_unexpected_list\": [\n",
      "          \"8/1/2024\",\n",
      "          \"8/2/2024\",\n",
      "          \"8/3/2024\",\n",
      "          \"8/4/2024\",\n",
      "          \"8/5/2024\",\n",
      "          \"8/6/2024\",\n",
      "          \"8/7/2024\",\n",
      "          \"8/8/2024\",\n",
      "          \"8/9/2024\",\n",
      "          \"8/10/2024\",\n",
      "          \"8/11/2024\",\n",
      "          \"8/12/2024\",\n",
      "          \"8/13/2024\",\n",
      "          \"8/14/2024\",\n",
      "          \"8/15/2024\",\n",
      "          \"8/16/2024\",\n",
      "          \"8/17/2024\",\n",
      "          \"8/18/2024\",\n",
      "          \"8/19/2024\",\n",
      "          \"8/20/2024\"\n",
      "        ],\n",
      "        \"missing_count\": 0,\n",
      "        \"missing_percent\": 0.0,\n",
      "        \"unexpected_percent_total\": 100.0,\n",
      "        \"unexpected_percent_nonmissing\": 100.0,\n",
      "        \"partial_unexpected_counts\": [\n",
      "          {\n",
      "            \"value\": \"8/1/2024\",\n",
      "            \"count\": 2\n",
      "          },\n",
      "          {\n",
      "            \"value\": \"8/10/2024\",\n",
      "            \"count\": 2\n",
      "          },\n",
      "          {\n",
      "            \"value\": \"8/11/2024\",\n",
      "            \"count\": 2\n",
      "          },\n",
      "          {\n",
      "            \"value\": \"8/12/2024\",\n",
      "            \"count\": 2\n",
      "          },\n",
      "          {\n",
      "            \"value\": \"8/13/2024\",\n",
      "            \"count\": 2\n",
      "          },\n",
      "          {\n",
      "            \"value\": \"8/14/2024\",\n",
      "            \"count\": 2\n",
      "          },\n",
      "          {\n",
      "            \"value\": \"8/15/2024\",\n",
      "            \"count\": 2\n",
      "          },\n",
      "          {\n",
      "            \"value\": \"8/16/2024\",\n",
      "            \"count\": 2\n",
      "          },\n",
      "          {\n",
      "            \"value\": \"8/17/2024\",\n",
      "            \"count\": 2\n",
      "          },\n",
      "          {\n",
      "            \"value\": \"8/18/2024\",\n",
      "            \"count\": 2\n",
      "          },\n",
      "          {\n",
      "            \"value\": \"8/19/2024\",\n",
      "            \"count\": 2\n",
      "          },\n",
      "          {\n",
      "            \"value\": \"8/2/2024\",\n",
      "            \"count\": 2\n",
      "          },\n",
      "          {\n",
      "            \"value\": \"8/20/2024\",\n",
      "            \"count\": 2\n",
      "          },\n",
      "          {\n",
      "            \"value\": \"8/3/2024\",\n",
      "            \"count\": 2\n",
      "          },\n",
      "          {\n",
      "            \"value\": \"8/4/2024\",\n",
      "            \"count\": 2\n",
      "          },\n",
      "          {\n",
      "            \"value\": \"8/5/2024\",\n",
      "            \"count\": 2\n",
      "          },\n",
      "          {\n",
      "            \"value\": \"8/6/2024\",\n",
      "            \"count\": 2\n",
      "          },\n",
      "          {\n",
      "            \"value\": \"8/7/2024\",\n",
      "            \"count\": 2\n",
      "          },\n",
      "          {\n",
      "            \"value\": \"8/8/2024\",\n",
      "            \"count\": 2\n",
      "          },\n",
      "          {\n",
      "            \"value\": \"8/9/2024\",\n",
      "            \"count\": 2\n",
      "          }\n",
      "        ],\n",
      "        \"partial_unexpected_index_list\": [\n",
      "          0,\n",
      "          1,\n",
      "          2,\n",
      "          3,\n",
      "          4,\n",
      "          5,\n",
      "          6,\n",
      "          7,\n",
      "          8,\n",
      "          9,\n",
      "          10,\n",
      "          11,\n",
      "          12,\n",
      "          13,\n",
      "          14,\n",
      "          15,\n",
      "          16,\n",
      "          17,\n",
      "          18,\n",
      "          19\n",
      "        ],\n",
      "        \"unexpected_list\": [\n",
      "          \"8/1/2024\",\n",
      "          \"8/2/2024\",\n",
      "          \"8/3/2024\",\n",
      "          \"8/4/2024\",\n",
      "          \"8/5/2024\",\n",
      "          \"8/6/2024\",\n",
      "          \"8/7/2024\",\n",
      "          \"8/8/2024\",\n",
      "          \"8/9/2024\",\n",
      "          \"8/10/2024\",\n",
      "          \"8/11/2024\",\n",
      "          \"8/12/2024\",\n",
      "          \"8/13/2024\",\n",
      "          \"8/14/2024\",\n",
      "          \"8/15/2024\",\n",
      "          \"8/16/2024\",\n",
      "          \"8/17/2024\",\n",
      "          \"8/18/2024\",\n",
      "          \"8/19/2024\",\n",
      "          \"8/20/2024\",\n",
      "          \"8/21/2024\",\n",
      "          \"8/22/2024\",\n",
      "          \"8/23/2024\",\n",
      "          \"8/24/2024\",\n",
      "          \"8/25/2024\",\n",
      "          \"8/26/2024\",\n",
      "          \"8/27/2024\",\n",
      "          \"8/28/2024\",\n",
      "          \"8/29/2024\",\n",
      "          \"8/30/2024\",\n",
      "          \"8/31/2024\",\n",
      "          \"8/1/2024\",\n",
      "          \"8/2/2024\",\n",
      "          \"8/3/2024\",\n",
      "          \"8/4/2024\",\n",
      "          \"8/5/2024\",\n",
      "          \"8/6/2024\",\n",
      "          \"8/7/2024\",\n",
      "          \"8/8/2024\",\n",
      "          \"8/9/2024\",\n",
      "          \"8/10/2024\",\n",
      "          \"8/11/2024\",\n",
      "          \"8/12/2024\",\n",
      "          \"8/13/2024\",\n",
      "          \"8/14/2024\",\n",
      "          \"8/15/2024\",\n",
      "          \"8/16/2024\",\n",
      "          \"8/17/2024\",\n",
      "          \"8/18/2024\",\n",
      "          \"8/19/2024\",\n",
      "          \"8/20/2024\",\n",
      "          \"8/21/2024\",\n",
      "          \"8/22/2024\",\n",
      "          \"8/23/2024\",\n",
      "          \"8/24/2024\",\n",
      "          \"8/25/2024\",\n",
      "          \"8/26/2024\",\n",
      "          \"8/27/2024\",\n",
      "          \"8/28/2024\",\n",
      "          \"8/29/2024\",\n",
      "          \"8/30/2024\",\n",
      "          \"8/31/2024\"\n",
      "        ],\n",
      "        \"unexpected_index_list\": [\n",
      "          0,\n",
      "          1,\n",
      "          2,\n",
      "          3,\n",
      "          4,\n",
      "          5,\n",
      "          6,\n",
      "          7,\n",
      "          8,\n",
      "          9,\n",
      "          10,\n",
      "          11,\n",
      "          12,\n",
      "          13,\n",
      "          14,\n",
      "          15,\n",
      "          16,\n",
      "          17,\n",
      "          18,\n",
      "          19,\n",
      "          20,\n",
      "          21,\n",
      "          22,\n",
      "          23,\n",
      "          24,\n",
      "          25,\n",
      "          26,\n",
      "          27,\n",
      "          28,\n",
      "          29,\n",
      "          30,\n",
      "          31,\n",
      "          32,\n",
      "          33,\n",
      "          34,\n",
      "          35,\n",
      "          36,\n",
      "          37,\n",
      "          38,\n",
      "          39,\n",
      "          40,\n",
      "          41,\n",
      "          42,\n",
      "          43,\n",
      "          44,\n",
      "          45,\n",
      "          46,\n",
      "          47,\n",
      "          48,\n",
      "          49,\n",
      "          50,\n",
      "          51,\n",
      "          52,\n",
      "          53,\n",
      "          54,\n",
      "          55,\n",
      "          56,\n",
      "          57,\n",
      "          58,\n",
      "          59,\n",
      "          60,\n",
      "          61\n",
      "        ],\n",
      "        \"unexpected_index_query\": \"df.filter(items=[0, 1, 2, 3, 4, 5, 6, 7, 8, 9, 10, 11, 12, 13, 14, 15, 16, 17, 18, 19, 20, 21, 22, 23, 24, 25, 26, 27, 28, 29, 30, 31, 32, 33, 34, 35, 36, 37, 38, 39, 40, 41, 42, 43, 44, 45, 46, 47, 48, 49, 50, 51, 52, 53, 54, 55, 56, 57, 58, 59, 60, 61], axis=0)\"\n",
      "      },\n",
      "      \"meta\": {},\n",
      "      \"exception_info\": {\n",
      "        \"raised_exception\": false,\n",
      "        \"exception_traceback\": null,\n",
      "        \"exception_message\": null\n",
      "      }\n",
      "    },\n",
      "    {\n",
      "      \"success\": true,\n",
      "      \"expectation_config\": {\n",
      "        \"type\": \"expect_column_values_to_not_be_null\",\n",
      "        \"kwargs\": {\n",
      "          \"batch_id\": \"temperature_data-emp_asset\",\n",
      "          \"column\": \"Date\"\n",
      "        },\n",
      "        \"meta\": {},\n",
      "        \"id\": \"5d0ca2b2-9900-4f7c-ade6-1bacf4a2f59b\"\n",
      "      },\n",
      "      \"result\": {\n",
      "        \"element_count\": 62,\n",
      "        \"unexpected_count\": 0,\n",
      "        \"unexpected_percent\": 0.0,\n",
      "        \"partial_unexpected_list\": [],\n",
      "        \"partial_unexpected_counts\": [],\n",
      "        \"partial_unexpected_index_list\": [],\n",
      "        \"unexpected_list\": [],\n",
      "        \"unexpected_index_list\": [],\n",
      "        \"unexpected_index_query\": \"df.filter(items=[], axis=0)\"\n",
      "      },\n",
      "      \"meta\": {},\n",
      "      \"exception_info\": {\n",
      "        \"raised_exception\": false,\n",
      "        \"exception_traceback\": null,\n",
      "        \"exception_message\": null\n",
      "      }\n",
      "    },\n",
      "    {\n",
      "      \"success\": true,\n",
      "      \"expectation_config\": {\n",
      "        \"type\": \"expect_column_values_to_be_between\",\n",
      "        \"kwargs\": {\n",
      "          \"batch_id\": \"temperature_data-emp_asset\",\n",
      "          \"column\": \"Temperature\",\n",
      "          \"min_value\": 10.0,\n",
      "          \"max_value\": 45.0\n",
      "        },\n",
      "        \"meta\": {},\n",
      "        \"id\": \"b49612c9-af18-4117-9de8-05b2cea5d4f0\"\n",
      "      },\n",
      "      \"result\": {\n",
      "        \"element_count\": 62,\n",
      "        \"unexpected_count\": 0,\n",
      "        \"unexpected_percent\": 0.0,\n",
      "        \"partial_unexpected_list\": [],\n",
      "        \"missing_count\": 0,\n",
      "        \"missing_percent\": 0.0,\n",
      "        \"unexpected_percent_total\": 0.0,\n",
      "        \"unexpected_percent_nonmissing\": 0.0,\n",
      "        \"partial_unexpected_counts\": [],\n",
      "        \"partial_unexpected_index_list\": [],\n",
      "        \"unexpected_list\": [],\n",
      "        \"unexpected_index_list\": [],\n",
      "        \"unexpected_index_query\": \"df.filter(items=[], axis=0)\"\n",
      "      },\n",
      "      \"meta\": {},\n",
      "      \"exception_info\": {\n",
      "        \"raised_exception\": false,\n",
      "        \"exception_traceback\": null,\n",
      "        \"exception_message\": null\n",
      "      }\n",
      "    },\n",
      "    {\n",
      "      \"success\": true,\n",
      "      \"expectation_config\": {\n",
      "        \"type\": \"expect_column_values_to_not_be_null\",\n",
      "        \"kwargs\": {\n",
      "          \"batch_id\": \"temperature_data-emp_asset\",\n",
      "          \"column\": \"Temperature\"\n",
      "        },\n",
      "        \"meta\": {},\n",
      "        \"id\": \"283720af-41af-4cfe-8255-990fdb7189ed\"\n",
      "      },\n",
      "      \"result\": {\n",
      "        \"element_count\": 62,\n",
      "        \"unexpected_count\": 0,\n",
      "        \"unexpected_percent\": 0.0,\n",
      "        \"partial_unexpected_list\": [],\n",
      "        \"partial_unexpected_counts\": [],\n",
      "        \"partial_unexpected_index_list\": [],\n",
      "        \"unexpected_list\": [],\n",
      "        \"unexpected_index_list\": [],\n",
      "        \"unexpected_index_query\": \"df.filter(items=[], axis=0)\"\n",
      "      },\n",
      "      \"meta\": {},\n",
      "      \"exception_info\": {\n",
      "        \"raised_exception\": false,\n",
      "        \"exception_traceback\": null,\n",
      "        \"exception_message\": null\n",
      "      }\n",
      "    },\n",
      "    {\n",
      "      \"success\": true,\n",
      "      \"expectation_config\": {\n",
      "        \"type\": \"expect_column_distinct_values_to_be_in_set\",\n",
      "        \"kwargs\": {\n",
      "          \"batch_id\": \"temperature_data-emp_asset\",\n",
      "          \"column\": \"City\",\n",
      "          \"value_set\": [\n",
      "            \"Mumbai\",\n",
      "            \"Delhi\"\n",
      "          ]\n",
      "        },\n",
      "        \"meta\": {},\n",
      "        \"id\": \"d3520f94-f10c-469e-906a-1060af91805c\"\n",
      "      },\n",
      "      \"result\": {\n",
      "        \"observed_value\": [\n",
      "          \"Delhi\",\n",
      "          \"Mumbai\"\n",
      "        ],\n",
      "        \"details\": {\n",
      "          \"value_counts\": [\n",
      "            {\n",
      "              \"value\": \"Delhi\",\n",
      "              \"count\": 31\n",
      "            },\n",
      "            {\n",
      "              \"value\": \"Mumbai\",\n",
      "              \"count\": 31\n",
      "            }\n",
      "          ]\n",
      "        }\n",
      "      },\n",
      "      \"meta\": {},\n",
      "      \"exception_info\": {\n",
      "        \"raised_exception\": false,\n",
      "        \"exception_traceback\": null,\n",
      "        \"exception_message\": null\n",
      "      }\n",
      "    },\n",
      "    {\n",
      "      \"success\": true,\n",
      "      \"expectation_config\": {\n",
      "        \"type\": \"expect_column_values_to_not_be_null\",\n",
      "        \"kwargs\": {\n",
      "          \"batch_id\": \"temperature_data-emp_asset\",\n",
      "          \"column\": \"City\"\n",
      "        },\n",
      "        \"meta\": {},\n",
      "        \"id\": \"136e32e3-56f6-466a-aea6-3b3e15120cb5\"\n",
      "      },\n",
      "      \"result\": {\n",
      "        \"element_count\": 62,\n",
      "        \"unexpected_count\": 0,\n",
      "        \"unexpected_percent\": 0.0,\n",
      "        \"partial_unexpected_list\": [],\n",
      "        \"partial_unexpected_counts\": [],\n",
      "        \"partial_unexpected_index_list\": [],\n",
      "        \"unexpected_list\": [],\n",
      "        \"unexpected_index_list\": [],\n",
      "        \"unexpected_index_query\": \"df.filter(items=[], axis=0)\"\n",
      "      },\n",
      "      \"meta\": {},\n",
      "      \"exception_info\": {\n",
      "        \"raised_exception\": false,\n",
      "        \"exception_traceback\": null,\n",
      "        \"exception_message\": null\n",
      "      }\n",
      "    }\n",
      "  ],\n",
      "  \"suite_name\": \"emp_suite\",\n",
      "  \"suite_parameters\": {},\n",
      "  \"statistics\": {\n",
      "    \"evaluated_expectations\": 6,\n",
      "    \"successful_expectations\": 5,\n",
      "    \"unsuccessful_expectations\": 1,\n",
      "    \"success_percent\": 83.33333333333334\n",
      "  },\n",
      "  \"meta\": {\n",
      "    \"great_expectations_version\": \"1.5.1\",\n",
      "    \"batch_spec\": {\n",
      "      \"batch_data\": \"PandasDataFrame\"\n",
      "    },\n",
      "    \"batch_markers\": {\n",
      "      \"ge_load_time\": \"20250623T080748.930988Z\",\n",
      "      \"pandas_data_fingerprint\": \"630c38d4b2ba632bf4cae25fb0a47f6c\"\n",
      "    },\n",
      "    \"active_batch_definition\": {\n",
      "      \"datasource_name\": \"temperature_data\",\n",
      "      \"data_connector_name\": \"fluent\",\n",
      "      \"data_asset_name\": \"emp_asset\",\n",
      "      \"batch_identifiers\": {\n",
      "        \"dataframe\": \"<DATAFRAME>\"\n",
      "      }\n",
      "    },\n",
      "    \"validation_id\": \"f6c33c52-f6e7-487d-9dad-93f08a227abd\",\n",
      "    \"checkpoint_id\": \"9c9357f9-6ea3-4e42-b7ac-aa7144818c5f\",\n",
      "    \"run_id\": {\n",
      "      \"run_name\": null,\n",
      "      \"run_time\": \"2025-06-23T14:07:48.924329+06:00\"\n",
      "    },\n",
      "    \"validation_time\": \"2025-06-23T08:07:48.924329+00:00\",\n",
      "    \"batch_parameters\": {\n",
      "      \"dataframe\": \"<DATAFRAME>\"\n",
      "    }\n",
      "  },\n",
      "  \"id\": null\n",
      "}} checkpoint_config=Checkpoint(name='temp_run_checkpoint', validation_definitions=[ValidationDefinition(name='emp_data_validation', data=BatchDefinition(id=UUID('5672f242-3a02-47fc-b62e-0a7404667dad'), name='emp_batch', partitioner=None), suite={\n",
      "  \"name\": \"emp_suite\",\n",
      "  \"id\": \"239f7f12-ae72-4773-9d29-e1f0eef0ae28\",\n",
      "  \"expectations\": [\n",
      "    {\n",
      "      \"type\": \"expect_column_values_to_match_pan_format\",\n",
      "      \"kwargs\": {\n",
      "        \"column\": \"Date\"\n",
      "      },\n",
      "      \"meta\": {},\n",
      "      \"id\": \"0421f92b-0e07-48fa-b3e3-9f0a14cb993d\"\n",
      "    },\n",
      "    {\n",
      "      \"type\": \"expect_column_values_to_be_between\",\n",
      "      \"kwargs\": {\n",
      "        \"column\": \"Temperature\",\n",
      "        \"min_value\": 10.0,\n",
      "        \"max_value\": 45.0\n",
      "      },\n",
      "      \"meta\": {},\n",
      "      \"id\": \"b49612c9-af18-4117-9de8-05b2cea5d4f0\"\n",
      "    },\n",
      "    {\n",
      "      \"type\": \"expect_column_distinct_values_to_be_in_set\",\n",
      "      \"kwargs\": {\n",
      "        \"column\": \"City\",\n",
      "        \"value_set\": [\n",
      "          \"Mumbai\",\n",
      "          \"Delhi\"\n",
      "        ]\n",
      "      },\n",
      "      \"meta\": {},\n",
      "      \"id\": \"d3520f94-f10c-469e-906a-1060af91805c\"\n",
      "    },\n",
      "    {\n",
      "      \"type\": \"expect_column_values_to_not_be_null\",\n",
      "      \"kwargs\": {\n",
      "        \"column\": \"City\"\n",
      "      },\n",
      "      \"meta\": {},\n",
      "      \"id\": \"136e32e3-56f6-466a-aea6-3b3e15120cb5\"\n",
      "    },\n",
      "    {\n",
      "      \"type\": \"expect_column_values_to_not_be_null\",\n",
      "      \"kwargs\": {\n",
      "        \"column\": \"Date\"\n",
      "      },\n",
      "      \"meta\": {},\n",
      "      \"id\": \"5d0ca2b2-9900-4f7c-ade6-1bacf4a2f59b\"\n",
      "    },\n",
      "    {\n",
      "      \"type\": \"expect_column_values_to_not_be_null\",\n",
      "      \"kwargs\": {\n",
      "        \"column\": \"Temperature\"\n",
      "      },\n",
      "      \"meta\": {},\n",
      "      \"id\": \"283720af-41af-4cfe-8255-990fdb7189ed\"\n",
      "    }\n",
      "  ],\n",
      "  \"meta\": {\n",
      "    \"great_expectations_version\": \"1.5.1\"\n",
      "  },\n",
      "  \"notes\": null\n",
      "}, id='f6c33c52-f6e7-487d-9dad-93f08a227abd')], actions=[EmailAction(type='email', name='send_email_notification', smtp_address='smtp.gmail.com', smtp_port='587', receiver_emails='fahim150283@yahoo.com,fahim150283@gmail.com,emtiaz.gb@gmail.com', sender_login='ahchowdhury.off@gmail.com', sender_password='pumisiskddaexjcc', sender_alias='ahchowdhury.off@gmail.com', use_tls=True, use_ssl=None, notify_on='all', notify_with=None, renderer=<great_expectations.render.renderer.email_renderer.EmailRenderer object at 0x000002C7D2485FA0>), UpdateDataDocsAction(type='update_data_docs', name='my_docs_action', site_names=['local_site'])], result_format=<ResultFormat.COMPLETE: 'COMPLETE'>, id='9c9357f9-6ea3-4e42-b7ac-aa7144818c5f') success=False\n"
     ]
    }
   ],
   "execution_count": 28
  },
  {
   "metadata": {},
   "cell_type": "markdown",
   "source": "### Opening Data Docs",
   "id": "b16a1b442e0d918b"
  },
  {
   "metadata": {
    "ExecuteTime": {
     "end_time": "2025-06-23T06:02:49.061644Z",
     "start_time": "2025-06-23T06:02:48.820307Z"
    }
   },
   "cell_type": "code",
   "source": "context.open_data_docs()",
   "id": "da8d67600639d5cc",
   "outputs": [],
   "execution_count": 25
  }
 ],
 "metadata": {
  "kernelspec": {
   "display_name": "Python 3",
   "language": "python",
   "name": "python3"
  },
  "language_info": {
   "codemirror_mode": {
    "name": "ipython",
    "version": 2
   },
   "file_extension": ".py",
   "mimetype": "text/x-python",
   "name": "python",
   "nbconvert_exporter": "python",
   "pygments_lexer": "ipython2",
   "version": "2.7.6"
  }
 },
 "nbformat": 4,
 "nbformat_minor": 5
}
