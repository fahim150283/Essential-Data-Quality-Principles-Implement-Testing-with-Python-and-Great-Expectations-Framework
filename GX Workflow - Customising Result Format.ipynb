{
 "cells": [
  {
   "cell_type": "markdown",
   "id": "1955b08a",
   "metadata": {},
   "source": [
    "### Import Libraries"
   ]
  },
  {
   "cell_type": "code",
   "id": "d75dc4e6",
   "metadata": {
    "ExecuteTime": {
     "end_time": "2025-06-18T06:21:09.334068Z",
     "start_time": "2025-06-18T06:21:05.016378Z"
    }
   },
   "source": [
    "import great_expectations as gx\n",
    "import pandas as pd"
   ],
   "outputs": [],
   "execution_count": 1
  },
  {
   "cell_type": "markdown",
   "id": "b9cc9d9e",
   "metadata": {},
   "source": [
    "### Creating GX Context "
   ]
  },
  {
   "cell_type": "code",
   "id": "4dbcb441",
   "metadata": {
    "ExecuteTime": {
     "end_time": "2025-06-18T06:21:09.442320Z",
     "start_time": "2025-06-18T06:21:09.399273Z"
    }
   },
   "source": [
    "context = gx.get_context(mode=\"ephemeral\")\n"
   ],
   "outputs": [],
   "execution_count": 2
  },
  {
   "cell_type": "markdown",
   "id": "2da328f2",
   "metadata": {},
   "source": [
    "### Creating DataSource"
   ]
  },
  {
   "cell_type": "code",
   "id": "6d6eba27",
   "metadata": {
    "ExecuteTime": {
     "end_time": "2025-06-18T06:21:09.469055Z",
     "start_time": "2025-06-18T06:21:09.459613Z"
    }
   },
   "source": [
    "data_source_name = 'temperature_data'\n",
    "data_source = context.data_sources.add_pandas(name=data_source_name)"
   ],
   "outputs": [],
   "execution_count": 3
  },
  {
   "cell_type": "markdown",
   "id": "56f4b24a",
   "metadata": {},
   "source": [
    "### Creating DataAsset\n"
   ]
  },
  {
   "cell_type": "code",
   "id": "a0649c66",
   "metadata": {
    "ExecuteTime": {
     "end_time": "2025-06-18T06:21:09.499790Z",
     "start_time": "2025-06-18T06:21:09.490490Z"
    }
   },
   "source": [
    "data_asset_name = 'temperature_entity_asset'\n",
    "data_asset = data_source.add_dataframe_asset(name=data_asset_name)"
   ],
   "outputs": [],
   "execution_count": 4
  },
  {
   "cell_type": "markdown",
   "id": "e4b185fd",
   "metadata": {},
   "source": [
    "### Creating BatchDefinition"
   ]
  },
  {
   "cell_type": "code",
   "id": "0468f815",
   "metadata": {
    "ExecuteTime": {
     "end_time": "2025-06-18T06:21:09.526043Z",
     "start_time": "2025-06-18T06:21:09.516357Z"
    }
   },
   "source": [
    "batch_definition_name = 'full_batch'\n",
    "batch_definition = data_asset.add_batch_definition_whole_dataframe(batch_definition_name)"
   ],
   "outputs": [],
   "execution_count": 5
  },
  {
   "cell_type": "markdown",
   "id": "c284d330",
   "metadata": {},
   "source": [
    "### Creating Expectations"
   ]
  },
  {
   "cell_type": "code",
   "id": "5200599b",
   "metadata": {
    "ExecuteTime": {
     "end_time": "2025-06-18T06:21:09.553440Z",
     "start_time": "2025-06-18T06:21:09.548378Z"
    }
   },
   "source": [
    "expectation_temp = gx.expectations.ExpectColumnValuesToBeBetween(column=\"Temperature\",\n",
    "                                                                 max_value=45, min_value=40)"
   ],
   "outputs": [],
   "execution_count": 6
  },
  {
   "cell_type": "code",
   "id": "5cfd53ca",
   "metadata": {
    "ExecuteTime": {
     "end_time": "2025-06-18T06:21:09.578741Z",
     "start_time": "2025-06-18T06:21:09.573173Z"
    }
   },
   "source": [
    "expectation_city = gx.expectations.ExpectColumnDistinctValuesToBeInSet(column=\"City\",\n",
    "                                                                       value_set=[\"Mumbai\", \"Delhi\"])"
   ],
   "outputs": [],
   "execution_count": 7
  },
  {
   "cell_type": "markdown",
   "id": "81da612a",
   "metadata": {},
   "source": [
    "### Creating ExpectationSuite and adding Expectations"
   ]
  },
  {
   "cell_type": "code",
   "id": "d8fe1ebd",
   "metadata": {
    "ExecuteTime": {
     "end_time": "2025-06-18T06:21:09.634933Z",
     "start_time": "2025-06-18T06:21:09.605972Z"
    }
   },
   "source": [
    "expectation_suite_name = \"temperature_data_suite\"\n",
    "expectation_suite_ref = gx.ExpectationSuite(name=expectation_suite_name)\n",
    "expectation_suite = context.suites.add(expectation_suite_ref)"
   ],
   "outputs": [],
   "execution_count": 8
  },
  {
   "cell_type": "code",
   "id": "6bb45f11",
   "metadata": {
    "ExecuteTime": {
     "end_time": "2025-06-18T06:21:09.705944Z",
     "start_time": "2025-06-18T06:21:09.650204Z"
    }
   },
   "source": [
    "#Adding Expectation to ExpectationSuite    \n",
    "expectation_suite.add_expectation(expectation_temp)\n",
    "expectation_suite.add_expectation(expectation_city)"
   ],
   "outputs": [
    {
     "data": {
      "text/plain": [
       "ExpectColumnDistinctValuesToBeInSet(id='4f652e1c-9115-4f3b-b13a-80b12e7a59a1', meta=None, notes=None, result_format=<ResultFormat.BASIC: 'BASIC'>, description=None, catch_exceptions=False, rendered_content=None, windows=None, batch_id=None, column='City', row_condition=None, condition_parser=None, value_set=['Mumbai', 'Delhi'])"
      ]
     },
     "execution_count": 9,
     "metadata": {},
     "output_type": "execute_result"
    }
   ],
   "execution_count": 9
  },
  {
   "cell_type": "markdown",
   "id": "b23d22b5",
   "metadata": {
    "scrolled": false
   },
   "source": [
    "### Creating Validation Definition"
   ]
  },
  {
   "cell_type": "code",
   "id": "33061e49",
   "metadata": {
    "ExecuteTime": {
     "end_time": "2025-06-18T06:21:09.731971Z",
     "start_time": "2025-06-18T06:21:09.727851Z"
    }
   },
   "source": [
    "validation_def_name = \"temperature_data_validation\"\n",
    "\n",
    "validation_definition_ref = gx.ValidationDefinition(data=batch_definition,\n",
    "                                                    suite=expectation_suite,\n",
    "                                                    name=validation_def_name)"
   ],
   "outputs": [],
   "execution_count": 10
  },
  {
   "cell_type": "code",
   "id": "becbc511",
   "metadata": {
    "ExecuteTime": {
     "end_time": "2025-06-18T06:21:09.792443Z",
     "start_time": "2025-06-18T06:21:09.761820Z"
    }
   },
   "source": [
    "validation_definition = context.validation_definitions.add(validation_definition_ref)"
   ],
   "outputs": [],
   "execution_count": 11
  },
  {
   "cell_type": "markdown",
   "id": "686db4b2",
   "metadata": {},
   "source": [
    "### Creating Checkpoint"
   ]
  },
  {
   "cell_type": "code",
   "id": "8da18e3e",
   "metadata": {
    "ExecuteTime": {
     "end_time": "2025-06-18T06:21:09.818189Z",
     "start_time": "2025-06-18T06:21:09.813440Z"
    }
   },
   "source": [
    "checkpoint_name = \"temperature_run_checkpoint\"\n",
    "checkpoint_to_add = gx.Checkpoint(\n",
    "    name=checkpoint_name,\n",
    "    validation_definitions=[validation_definition],\n",
    "    actions=[],\n",
    "    result_format=\"COMPLETE\",  # options : BOOLEAN_ONLY, BASIC, SUMMARY, COMPLETE\n",
    ")\n"
   ],
   "outputs": [],
   "execution_count": 12
  },
  {
   "cell_type": "code",
   "id": "9bcc3b2b",
   "metadata": {
    "ExecuteTime": {
     "end_time": "2025-06-18T06:21:09.879269Z",
     "start_time": "2025-06-18T06:21:09.847185Z"
    }
   },
   "source": [
    "checkpoint = context.checkpoints.add(checkpoint_to_add)\n"
   ],
   "outputs": [],
   "execution_count": 13
  },
  {
   "cell_type": "markdown",
   "id": "7f837c59",
   "metadata": {},
   "source": [
    "### Reading Data in Pandas DataFrame"
   ]
  },
  {
   "cell_type": "code",
   "id": "f1a3915b",
   "metadata": {
    "ExecuteTime": {
     "end_time": "2025-06-18T06:21:09.920106Z",
     "start_time": "2025-06-18T06:21:09.902846Z"
    }
   },
   "source": [
    "data_df = pd.read_csv('temperature.csv')\n",
    "data_df.head()\n"
   ],
   "outputs": [
    {
     "data": {
      "text/plain": [
       "       Date    City  Temperature\n",
       "0  8/1/2024  Mumbai           28\n",
       "1  8/2/2024  Mumbai           30\n",
       "2  8/3/2024  Mumbai           32\n",
       "3  8/4/2024  Mumbai           31\n",
       "4  8/5/2024  Mumbai           33"
      ],
      "text/html": [
       "<div>\n",
       "<style scoped>\n",
       "    .dataframe tbody tr th:only-of-type {\n",
       "        vertical-align: middle;\n",
       "    }\n",
       "\n",
       "    .dataframe tbody tr th {\n",
       "        vertical-align: top;\n",
       "    }\n",
       "\n",
       "    .dataframe thead th {\n",
       "        text-align: right;\n",
       "    }\n",
       "</style>\n",
       "<table border=\"1\" class=\"dataframe\">\n",
       "  <thead>\n",
       "    <tr style=\"text-align: right;\">\n",
       "      <th></th>\n",
       "      <th>Date</th>\n",
       "      <th>City</th>\n",
       "      <th>Temperature</th>\n",
       "    </tr>\n",
       "  </thead>\n",
       "  <tbody>\n",
       "    <tr>\n",
       "      <th>0</th>\n",
       "      <td>8/1/2024</td>\n",
       "      <td>Mumbai</td>\n",
       "      <td>28</td>\n",
       "    </tr>\n",
       "    <tr>\n",
       "      <th>1</th>\n",
       "      <td>8/2/2024</td>\n",
       "      <td>Mumbai</td>\n",
       "      <td>30</td>\n",
       "    </tr>\n",
       "    <tr>\n",
       "      <th>2</th>\n",
       "      <td>8/3/2024</td>\n",
       "      <td>Mumbai</td>\n",
       "      <td>32</td>\n",
       "    </tr>\n",
       "    <tr>\n",
       "      <th>3</th>\n",
       "      <td>8/4/2024</td>\n",
       "      <td>Mumbai</td>\n",
       "      <td>31</td>\n",
       "    </tr>\n",
       "    <tr>\n",
       "      <th>4</th>\n",
       "      <td>8/5/2024</td>\n",
       "      <td>Mumbai</td>\n",
       "      <td>33</td>\n",
       "    </tr>\n",
       "  </tbody>\n",
       "</table>\n",
       "</div>"
      ]
     },
     "execution_count": 14,
     "metadata": {},
     "output_type": "execute_result"
    }
   ],
   "execution_count": 14
  },
  {
   "cell_type": "markdown",
   "id": "dee74746",
   "metadata": {},
   "source": [
    "### Creating BatchParameter and running Validation"
   ]
  },
  {
   "cell_type": "code",
   "id": "f069132d",
   "metadata": {
    "ExecuteTime": {
     "end_time": "2025-06-18T06:21:09.996465Z",
     "start_time": "2025-06-18T06:21:09.990135Z"
    }
   },
   "source": [
    "batch_parameters = {\"dataframe\": data_df}\n"
   ],
   "outputs": [],
   "execution_count": 15
  },
  {
   "cell_type": "code",
   "id": "e6e0afd4",
   "metadata": {
    "ExecuteTime": {
     "end_time": "2025-06-18T06:21:10.165698Z",
     "start_time": "2025-06-18T06:21:10.053936Z"
    }
   },
   "source": [
    "validation_results = checkpoint.run(batch_parameters=batch_parameters)\n"
   ],
   "outputs": [
    {
     "data": {
      "text/plain": [
       "Calculating Metrics:   0%|          | 0/11 [00:00<?, ?it/s]"
      ],
      "application/vnd.jupyter.widget-view+json": {
       "version_major": 2,
       "version_minor": 0,
       "model_id": "fe8cfbe92da6495cbc124c4f876ee693"
      }
     },
     "metadata": {},
     "output_type": "display_data"
    }
   ],
   "execution_count": 16
  },
  {
   "cell_type": "markdown",
   "id": "1db27ee7",
   "metadata": {
    "scrolled": false
   },
   "source": [
    "### Displaying Validation Result"
   ]
  },
  {
   "cell_type": "code",
   "id": "14aaa7fd",
   "metadata": {
    "scrolled": false,
    "ExecuteTime": {
     "end_time": "2025-06-18T06:21:10.246870Z",
     "start_time": "2025-06-18T06:21:10.233622Z"
    }
   },
   "source": [
    "print(validation_results)\n"
   ],
   "outputs": [
    {
     "name": "stdout",
     "output_type": "stream",
     "text": [
      "run_id={\"run_name\": null, \"run_time\": \"2025-06-18T12:21:10.061862+06:00\"} run_results={ValidationResultIdentifier::temperature_data_suite/__none__/20250618T062110.061862Z/temperature_data-temperature_entity_asset: {\n",
      "  \"success\": false,\n",
      "  \"results\": [\n",
      "    {\n",
      "      \"success\": false,\n",
      "      \"expectation_config\": {\n",
      "        \"type\": \"expect_column_values_to_be_between\",\n",
      "        \"kwargs\": {\n",
      "          \"batch_id\": \"temperature_data-temperature_entity_asset\",\n",
      "          \"column\": \"Temperature\",\n",
      "          \"min_value\": 40.0,\n",
      "          \"max_value\": 45.0\n",
      "        },\n",
      "        \"meta\": {},\n",
      "        \"id\": \"04a20f0b-35a4-461b-827d-2ce91d19dc10\"\n",
      "      },\n",
      "      \"result\": {\n",
      "        \"element_count\": 62,\n",
      "        \"unexpected_count\": 62,\n",
      "        \"unexpected_percent\": 100.0,\n",
      "        \"partial_unexpected_list\": [\n",
      "          28,\n",
      "          30,\n",
      "          32,\n",
      "          31,\n",
      "          33,\n",
      "          30,\n",
      "          29,\n",
      "          31,\n",
      "          33,\n",
      "          32,\n",
      "          29,\n",
      "          31,\n",
      "          30,\n",
      "          32,\n",
      "          34,\n",
      "          28,\n",
      "          30,\n",
      "          32,\n",
      "          31,\n",
      "          33\n",
      "        ],\n",
      "        \"missing_count\": 0,\n",
      "        \"missing_percent\": 0.0,\n",
      "        \"unexpected_percent_total\": 100.0,\n",
      "        \"unexpected_percent_nonmissing\": 100.0,\n",
      "        \"partial_unexpected_counts\": [\n",
      "          {\n",
      "            \"value\": 32,\n",
      "            \"count\": 12\n",
      "          },\n",
      "          {\n",
      "            \"value\": 34,\n",
      "            \"count\": 12\n",
      "          },\n",
      "          {\n",
      "            \"value\": 36,\n",
      "            \"count\": 10\n",
      "          },\n",
      "          {\n",
      "            \"value\": 30,\n",
      "            \"count\": 6\n",
      "          },\n",
      "          {\n",
      "            \"value\": 31,\n",
      "            \"count\": 6\n",
      "          },\n",
      "          {\n",
      "            \"value\": 38,\n",
      "            \"count\": 5\n",
      "          },\n",
      "          {\n",
      "            \"value\": 29,\n",
      "            \"count\": 4\n",
      "          },\n",
      "          {\n",
      "            \"value\": 33,\n",
      "            \"count\": 4\n",
      "          },\n",
      "          {\n",
      "            \"value\": 28,\n",
      "            \"count\": 3\n",
      "          }\n",
      "        ],\n",
      "        \"partial_unexpected_index_list\": [\n",
      "          0,\n",
      "          1,\n",
      "          2,\n",
      "          3,\n",
      "          4,\n",
      "          5,\n",
      "          6,\n",
      "          7,\n",
      "          8,\n",
      "          9,\n",
      "          10,\n",
      "          11,\n",
      "          12,\n",
      "          13,\n",
      "          14,\n",
      "          15,\n",
      "          16,\n",
      "          17,\n",
      "          18,\n",
      "          19\n",
      "        ],\n",
      "        \"unexpected_list\": [\n",
      "          28,\n",
      "          30,\n",
      "          32,\n",
      "          31,\n",
      "          33,\n",
      "          30,\n",
      "          29,\n",
      "          31,\n",
      "          33,\n",
      "          32,\n",
      "          29,\n",
      "          31,\n",
      "          30,\n",
      "          32,\n",
      "          34,\n",
      "          28,\n",
      "          30,\n",
      "          32,\n",
      "          31,\n",
      "          33,\n",
      "          30,\n",
      "          29,\n",
      "          31,\n",
      "          33,\n",
      "          32,\n",
      "          29,\n",
      "          31,\n",
      "          30,\n",
      "          32,\n",
      "          34,\n",
      "          28,\n",
      "          32,\n",
      "          34,\n",
      "          34,\n",
      "          36,\n",
      "          36,\n",
      "          38,\n",
      "          32,\n",
      "          34,\n",
      "          34,\n",
      "          36,\n",
      "          36,\n",
      "          38,\n",
      "          32,\n",
      "          34,\n",
      "          34,\n",
      "          36,\n",
      "          36,\n",
      "          38,\n",
      "          32,\n",
      "          34,\n",
      "          34,\n",
      "          36,\n",
      "          36,\n",
      "          38,\n",
      "          32,\n",
      "          34,\n",
      "          34,\n",
      "          36,\n",
      "          36,\n",
      "          38,\n",
      "          32\n",
      "        ],\n",
      "        \"unexpected_index_list\": [\n",
      "          0,\n",
      "          1,\n",
      "          2,\n",
      "          3,\n",
      "          4,\n",
      "          5,\n",
      "          6,\n",
      "          7,\n",
      "          8,\n",
      "          9,\n",
      "          10,\n",
      "          11,\n",
      "          12,\n",
      "          13,\n",
      "          14,\n",
      "          15,\n",
      "          16,\n",
      "          17,\n",
      "          18,\n",
      "          19,\n",
      "          20,\n",
      "          21,\n",
      "          22,\n",
      "          23,\n",
      "          24,\n",
      "          25,\n",
      "          26,\n",
      "          27,\n",
      "          28,\n",
      "          29,\n",
      "          30,\n",
      "          31,\n",
      "          32,\n",
      "          33,\n",
      "          34,\n",
      "          35,\n",
      "          36,\n",
      "          37,\n",
      "          38,\n",
      "          39,\n",
      "          40,\n",
      "          41,\n",
      "          42,\n",
      "          43,\n",
      "          44,\n",
      "          45,\n",
      "          46,\n",
      "          47,\n",
      "          48,\n",
      "          49,\n",
      "          50,\n",
      "          51,\n",
      "          52,\n",
      "          53,\n",
      "          54,\n",
      "          55,\n",
      "          56,\n",
      "          57,\n",
      "          58,\n",
      "          59,\n",
      "          60,\n",
      "          61\n",
      "        ],\n",
      "        \"unexpected_index_query\": \"df.filter(items=[0, 1, 2, 3, 4, 5, 6, 7, 8, 9, 10, 11, 12, 13, 14, 15, 16, 17, 18, 19, 20, 21, 22, 23, 24, 25, 26, 27, 28, 29, 30, 31, 32, 33, 34, 35, 36, 37, 38, 39, 40, 41, 42, 43, 44, 45, 46, 47, 48, 49, 50, 51, 52, 53, 54, 55, 56, 57, 58, 59, 60, 61], axis=0)\"\n",
      "      },\n",
      "      \"meta\": {},\n",
      "      \"exception_info\": {\n",
      "        \"raised_exception\": false,\n",
      "        \"exception_traceback\": null,\n",
      "        \"exception_message\": null\n",
      "      }\n",
      "    },\n",
      "    {\n",
      "      \"success\": true,\n",
      "      \"expectation_config\": {\n",
      "        \"type\": \"expect_column_distinct_values_to_be_in_set\",\n",
      "        \"kwargs\": {\n",
      "          \"batch_id\": \"temperature_data-temperature_entity_asset\",\n",
      "          \"column\": \"City\",\n",
      "          \"value_set\": [\n",
      "            \"Mumbai\",\n",
      "            \"Delhi\"\n",
      "          ]\n",
      "        },\n",
      "        \"meta\": {},\n",
      "        \"id\": \"4f652e1c-9115-4f3b-b13a-80b12e7a59a1\"\n",
      "      },\n",
      "      \"result\": {\n",
      "        \"observed_value\": [\n",
      "          \"Delhi\",\n",
      "          \"Mumbai\"\n",
      "        ],\n",
      "        \"details\": {\n",
      "          \"value_counts\": [\n",
      "            {\n",
      "              \"value\": \"Delhi\",\n",
      "              \"count\": 31\n",
      "            },\n",
      "            {\n",
      "              \"value\": \"Mumbai\",\n",
      "              \"count\": 31\n",
      "            }\n",
      "          ]\n",
      "        }\n",
      "      },\n",
      "      \"meta\": {},\n",
      "      \"exception_info\": {\n",
      "        \"raised_exception\": false,\n",
      "        \"exception_traceback\": null,\n",
      "        \"exception_message\": null\n",
      "      }\n",
      "    }\n",
      "  ],\n",
      "  \"suite_name\": \"temperature_data_suite\",\n",
      "  \"suite_parameters\": {},\n",
      "  \"statistics\": {\n",
      "    \"evaluated_expectations\": 2,\n",
      "    \"successful_expectations\": 1,\n",
      "    \"unsuccessful_expectations\": 1,\n",
      "    \"success_percent\": 50.0\n",
      "  },\n",
      "  \"meta\": {\n",
      "    \"great_expectations_version\": \"1.5.1\",\n",
      "    \"batch_spec\": {\n",
      "      \"batch_data\": \"PandasDataFrame\"\n",
      "    },\n",
      "    \"batch_markers\": {\n",
      "      \"ge_load_time\": \"20250618T062110.063370Z\",\n",
      "      \"pandas_data_fingerprint\": \"630c38d4b2ba632bf4cae25fb0a47f6c\"\n",
      "    },\n",
      "    \"active_batch_definition\": {\n",
      "      \"datasource_name\": \"temperature_data\",\n",
      "      \"data_connector_name\": \"fluent\",\n",
      "      \"data_asset_name\": \"temperature_entity_asset\",\n",
      "      \"batch_identifiers\": {\n",
      "        \"dataframe\": \"<DATAFRAME>\"\n",
      "      }\n",
      "    },\n",
      "    \"validation_id\": \"b80c1e38-0109-448b-8b68-ce4104d8a833\",\n",
      "    \"checkpoint_id\": \"a4e3d9bc-a855-43ab-8eeb-2f31f096fa3d\",\n",
      "    \"run_id\": {\n",
      "      \"run_name\": null,\n",
      "      \"run_time\": \"2025-06-18T12:21:10.061862+06:00\"\n",
      "    },\n",
      "    \"validation_time\": \"2025-06-18T06:21:10.061862+00:00\",\n",
      "    \"batch_parameters\": {\n",
      "      \"dataframe\": \"<DATAFRAME>\"\n",
      "    }\n",
      "  },\n",
      "  \"id\": null\n",
      "}} checkpoint_config=Checkpoint(name='temperature_run_checkpoint', validation_definitions=[ValidationDefinition(name='temperature_data_validation', data=BatchDefinition(id=UUID('dcbcce53-af30-4696-b673-37c29657e3cd'), name='full_batch', partitioner=None), suite={\n",
      "  \"name\": \"temperature_data_suite\",\n",
      "  \"id\": \"0dcf6a83-d48c-49e9-8265-cf32031b446d\",\n",
      "  \"expectations\": [\n",
      "    {\n",
      "      \"type\": \"expect_column_values_to_be_between\",\n",
      "      \"kwargs\": {\n",
      "        \"column\": \"Temperature\",\n",
      "        \"min_value\": 40.0,\n",
      "        \"max_value\": 45.0\n",
      "      },\n",
      "      \"meta\": {},\n",
      "      \"id\": \"04a20f0b-35a4-461b-827d-2ce91d19dc10\"\n",
      "    },\n",
      "    {\n",
      "      \"type\": \"expect_column_distinct_values_to_be_in_set\",\n",
      "      \"kwargs\": {\n",
      "        \"column\": \"City\",\n",
      "        \"value_set\": [\n",
      "          \"Mumbai\",\n",
      "          \"Delhi\"\n",
      "        ]\n",
      "      },\n",
      "      \"meta\": {},\n",
      "      \"id\": \"4f652e1c-9115-4f3b-b13a-80b12e7a59a1\"\n",
      "    }\n",
      "  ],\n",
      "  \"meta\": {\n",
      "    \"great_expectations_version\": \"1.5.1\"\n",
      "  },\n",
      "  \"notes\": null\n",
      "}, id='b80c1e38-0109-448b-8b68-ce4104d8a833')], actions=[], result_format=<ResultFormat.COMPLETE: 'COMPLETE'>, id='a4e3d9bc-a855-43ab-8eeb-2f31f096fa3d') success=False\n"
     ]
    }
   ],
   "execution_count": 17
  }
 ],
 "metadata": {
  "kernelspec": {
   "display_name": "Python 3",
   "language": "python",
   "name": "python3"
  },
  "language_info": {
   "codemirror_mode": {
    "name": "ipython",
    "version": 3
   },
   "file_extension": ".py",
   "mimetype": "text/x-python",
   "name": "python",
   "nbconvert_exporter": "python",
   "pygments_lexer": "ipython3",
   "version": "3.8.8"
  }
 },
 "nbformat": 4,
 "nbformat_minor": 5
}
