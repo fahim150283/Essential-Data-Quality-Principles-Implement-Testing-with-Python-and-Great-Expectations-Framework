{
 "cells": [
  {
   "cell_type": "code",
   "execution_count": 1,
   "id": "a41829cb8643f46",
   "metadata": {
    "ExecuteTime": {
     "end_time": "2025-06-15T10:35:47.095239Z",
     "start_time": "2025-06-15T10:35:45.651871Z"
    }
   },
   "outputs": [
    {
     "name": "stdout",
     "output_type": "stream",
     "text": [
      "Requirement already satisfied: pandas in c:\\users\\techteam-08\\appdata\\local\\programs\\python\\python313\\lib\\site-packages (2.2.3)\n",
      "Requirement already satisfied: numpy>=1.26.0 in c:\\users\\techteam-08\\appdata\\local\\programs\\python\\python313\\lib\\site-packages (from pandas) (2.2.6)\n",
      "Requirement already satisfied: python-dateutil>=2.8.2 in c:\\users\\techteam-08\\appdata\\local\\programs\\python\\python313\\lib\\site-packages (from pandas) (2.9.0.post0)\n",
      "Requirement already satisfied: pytz>=2020.1 in c:\\users\\techteam-08\\appdata\\local\\programs\\python\\python313\\lib\\site-packages (from pandas) (2025.2)\n",
      "Requirement already satisfied: tzdata>=2022.7 in c:\\users\\techteam-08\\appdata\\local\\programs\\python\\python313\\lib\\site-packages (from pandas) (2025.2)\n",
      "Requirement already satisfied: six>=1.5 in c:\\users\\techteam-08\\appdata\\local\\programs\\python\\python313\\lib\\site-packages (from python-dateutil>=2.8.2->pandas) (1.17.0)\n",
      "Note: you may need to restart the kernel to use updated packages.\n"
     ]
    }
   ],
   "source": [
    "pip install pandas"
   ]
  },
  {
   "cell_type": "code",
   "execution_count": 2,
   "id": "3f20dc877142a00e",
   "metadata": {
    "ExecuteTime": {
     "end_time": "2025-06-15T10:35:51.032688Z",
     "start_time": "2025-06-15T10:35:49.717312Z"
    }
   },
   "outputs": [
    {
     "name": "stdout",
     "output_type": "stream",
     "text": [
      "Requirement already satisfied: numpy in c:\\users\\techteam-08\\appdata\\local\\programs\\python\\python313\\lib\\site-packages (2.2.6)\n",
      "Note: you may need to restart the kernel to use updated packages.\n"
     ]
    }
   ],
   "source": [
    "pip install numpy"
   ]
  },
  {
   "cell_type": "code",
   "execution_count": 3,
   "id": "ce6bc858279bf791",
   "metadata": {
    "ExecuteTime": {
     "end_time": "2025-06-15T10:38:55.636522Z",
     "start_time": "2025-06-15T10:38:23.361635Z"
    }
   },
   "outputs": [
    {
     "name": "stdout",
     "output_type": "stream",
     "text": [
      "Requirement already satisfied: great_expectations in c:\\users\\techteam-08\\appdata\\local\\programs\\python\\python313\\lib\\site-packages (0.18.8)\n",
      "Requirement already satisfied: altair<5.0.0,>=4.2.1 in c:\\users\\techteam-08\\appdata\\local\\programs\\python\\python313\\lib\\site-packages (from great_expectations) (4.2.2)\n",
      "Requirement already satisfied: Click!=8.1.4,>=7.1.2 in c:\\users\\techteam-08\\appdata\\local\\programs\\python\\python313\\lib\\site-packages (from great_expectations) (8.2.1)\n",
      "Requirement already satisfied: colorama>=0.4.3 in c:\\users\\techteam-08\\appdata\\local\\programs\\python\\python313\\lib\\site-packages (from great_expectations) (0.4.6)\n",
      "Requirement already satisfied: cryptography>=3.2 in c:\\users\\techteam-08\\appdata\\local\\programs\\python\\python313\\lib\\site-packages (from great_expectations) (45.0.4)\n",
      "Requirement already satisfied: Ipython>=7.16.3 in c:\\users\\techteam-08\\appdata\\local\\programs\\python\\python313\\lib\\site-packages (from great_expectations) (9.2.0)\n",
      "Requirement already satisfied: ipywidgets>=7.5.1 in c:\\users\\techteam-08\\appdata\\local\\programs\\python\\python313\\lib\\site-packages (from great_expectations) (8.1.7)\n",
      "Requirement already satisfied: jinja2>=2.10 in c:\\users\\techteam-08\\appdata\\local\\programs\\python\\python313\\lib\\site-packages (from great_expectations) (3.1.6)\n",
      "Requirement already satisfied: jsonpatch>=1.22 in c:\\users\\techteam-08\\appdata\\local\\programs\\python\\python313\\lib\\site-packages (from great_expectations) (1.33)\n",
      "Requirement already satisfied: jsonschema>=2.5.1 in c:\\users\\techteam-08\\appdata\\local\\programs\\python\\python313\\lib\\site-packages (from great_expectations) (4.23.0)\n",
      "Requirement already satisfied: makefun<2,>=1.7.0 in c:\\users\\techteam-08\\appdata\\local\\programs\\python\\python313\\lib\\site-packages (from great_expectations) (1.16.0)\n",
      "Requirement already satisfied: marshmallow<4.0.0,>=3.7.1 in c:\\users\\techteam-08\\appdata\\local\\programs\\python\\python313\\lib\\site-packages (from great_expectations) (3.26.1)\n",
      "Requirement already satisfied: mistune>=0.8.4 in c:\\users\\techteam-08\\appdata\\local\\programs\\python\\python313\\lib\\site-packages (from great_expectations) (3.1.3)\n",
      "Requirement already satisfied: nbformat>=5.0 in c:\\users\\techteam-08\\appdata\\local\\programs\\python\\python313\\lib\\site-packages (from great_expectations) (5.10.4)\n",
      "Requirement already satisfied: notebook>=6.4.10 in c:\\users\\techteam-08\\appdata\\local\\programs\\python\\python313\\lib\\site-packages (from great_expectations) (7.4.2)\n",
      "Requirement already satisfied: packaging in c:\\users\\techteam-08\\appdata\\local\\programs\\python\\python313\\lib\\site-packages (from great_expectations) (25.0)\n",
      "Requirement already satisfied: pydantic>=1.9.2 in c:\\users\\techteam-08\\appdata\\local\\programs\\python\\python313\\lib\\site-packages (from great_expectations) (2.11.7)\n",
      "Requirement already satisfied: pyparsing>=2.4 in c:\\users\\techteam-08\\appdata\\local\\programs\\python\\python313\\lib\\site-packages (from great_expectations) (3.2.3)\n",
      "Requirement already satisfied: python-dateutil>=2.8.1 in c:\\users\\techteam-08\\appdata\\local\\programs\\python\\python313\\lib\\site-packages (from great_expectations) (2.9.0.post0)\n",
      "Requirement already satisfied: pytz>=2021.3 in c:\\users\\techteam-08\\appdata\\local\\programs\\python\\python313\\lib\\site-packages (from great_expectations) (2025.2)\n",
      "Requirement already satisfied: requests>=2.20 in c:\\users\\techteam-08\\appdata\\local\\programs\\python\\python313\\lib\\site-packages (from great_expectations) (2.32.3)\n",
      "Requirement already satisfied: ruamel.yaml<0.17.18,>=0.16 in c:\\users\\techteam-08\\appdata\\local\\programs\\python\\python313\\lib\\site-packages (from great_expectations) (0.17.17)\n",
      "Requirement already satisfied: scipy>=1.6.0 in c:\\users\\techteam-08\\appdata\\local\\programs\\python\\python313\\lib\\site-packages (from great_expectations) (1.15.3)\n",
      "Requirement already satisfied: tqdm>=4.59.0 in c:\\users\\techteam-08\\appdata\\local\\programs\\python\\python313\\lib\\site-packages (from great_expectations) (4.67.1)\n",
      "Requirement already satisfied: typing-extensions>=3.10.0.0 in c:\\users\\techteam-08\\appdata\\local\\programs\\python\\python313\\lib\\site-packages (from great_expectations) (4.13.2)\n",
      "Requirement already satisfied: tzlocal>=1.2 in c:\\users\\techteam-08\\appdata\\local\\programs\\python\\python313\\lib\\site-packages (from great_expectations) (5.3.1)\n",
      "Requirement already satisfied: urllib3>=1.26 in c:\\users\\techteam-08\\appdata\\local\\programs\\python\\python313\\lib\\site-packages (from great_expectations) (2.4.0)\n",
      "Requirement already satisfied: numpy>=1.22.4 in c:\\users\\techteam-08\\appdata\\local\\programs\\python\\python313\\lib\\site-packages (from great_expectations) (2.2.6)\n",
      "Requirement already satisfied: pandas>=1.3.0 in c:\\users\\techteam-08\\appdata\\local\\programs\\python\\python313\\lib\\site-packages (from great_expectations) (2.2.3)\n",
      "Requirement already satisfied: entrypoints in c:\\users\\techteam-08\\appdata\\local\\programs\\python\\python313\\lib\\site-packages (from altair<5.0.0,>=4.2.1->great_expectations) (0.4)\n",
      "Requirement already satisfied: toolz in c:\\users\\techteam-08\\appdata\\local\\programs\\python\\python313\\lib\\site-packages (from altair<5.0.0,>=4.2.1->great_expectations) (1.0.0)\n",
      "Requirement already satisfied: cffi>=1.14 in c:\\users\\techteam-08\\appdata\\local\\programs\\python\\python313\\lib\\site-packages (from cryptography>=3.2->great_expectations) (1.17.1)\n",
      "Requirement already satisfied: pycparser in c:\\users\\techteam-08\\appdata\\local\\programs\\python\\python313\\lib\\site-packages (from cffi>=1.14->cryptography>=3.2->great_expectations) (2.22)\n",
      "Requirement already satisfied: decorator in c:\\users\\techteam-08\\appdata\\local\\programs\\python\\python313\\lib\\site-packages (from Ipython>=7.16.3->great_expectations) (5.2.1)\n",
      "Requirement already satisfied: ipython-pygments-lexers in c:\\users\\techteam-08\\appdata\\local\\programs\\python\\python313\\lib\\site-packages (from Ipython>=7.16.3->great_expectations) (1.1.1)\n",
      "Requirement already satisfied: jedi>=0.16 in c:\\users\\techteam-08\\appdata\\local\\programs\\python\\python313\\lib\\site-packages (from Ipython>=7.16.3->great_expectations) (0.19.2)\n",
      "Requirement already satisfied: matplotlib-inline in c:\\users\\techteam-08\\appdata\\local\\programs\\python\\python313\\lib\\site-packages (from Ipython>=7.16.3->great_expectations) (0.1.7)\n",
      "Requirement already satisfied: prompt_toolkit<3.1.0,>=3.0.41 in c:\\users\\techteam-08\\appdata\\local\\programs\\python\\python313\\lib\\site-packages (from Ipython>=7.16.3->great_expectations) (3.0.51)\n",
      "Requirement already satisfied: pygments>=2.4.0 in c:\\users\\techteam-08\\appdata\\local\\programs\\python\\python313\\lib\\site-packages (from Ipython>=7.16.3->great_expectations) (2.19.1)\n",
      "Requirement already satisfied: stack_data in c:\\users\\techteam-08\\appdata\\local\\programs\\python\\python313\\lib\\site-packages (from Ipython>=7.16.3->great_expectations) (0.6.3)\n",
      "Requirement already satisfied: traitlets>=5.13.0 in c:\\users\\techteam-08\\appdata\\local\\programs\\python\\python313\\lib\\site-packages (from Ipython>=7.16.3->great_expectations) (5.14.3)\n",
      "Requirement already satisfied: wcwidth in c:\\users\\techteam-08\\appdata\\local\\programs\\python\\python313\\lib\\site-packages (from prompt_toolkit<3.1.0,>=3.0.41->Ipython>=7.16.3->great_expectations) (0.2.13)\n",
      "Requirement already satisfied: comm>=0.1.3 in c:\\users\\techteam-08\\appdata\\local\\programs\\python\\python313\\lib\\site-packages (from ipywidgets>=7.5.1->great_expectations) (0.2.2)\n",
      "Requirement already satisfied: widgetsnbextension~=4.0.14 in c:\\users\\techteam-08\\appdata\\local\\programs\\python\\python313\\lib\\site-packages (from ipywidgets>=7.5.1->great_expectations) (4.0.14)\n",
      "Requirement already satisfied: jupyterlab_widgets~=3.0.15 in c:\\users\\techteam-08\\appdata\\local\\programs\\python\\python313\\lib\\site-packages (from ipywidgets>=7.5.1->great_expectations) (3.0.15)\n",
      "Requirement already satisfied: parso<0.9.0,>=0.8.4 in c:\\users\\techteam-08\\appdata\\local\\programs\\python\\python313\\lib\\site-packages (from jedi>=0.16->Ipython>=7.16.3->great_expectations) (0.8.4)\n",
      "Requirement already satisfied: MarkupSafe>=2.0 in c:\\users\\techteam-08\\appdata\\local\\programs\\python\\python313\\lib\\site-packages (from jinja2>=2.10->great_expectations) (3.0.2)\n",
      "Requirement already satisfied: jsonpointer>=1.9 in c:\\users\\techteam-08\\appdata\\local\\programs\\python\\python313\\lib\\site-packages (from jsonpatch>=1.22->great_expectations) (3.0.0)\n",
      "Requirement already satisfied: attrs>=22.2.0 in c:\\users\\techteam-08\\appdata\\local\\programs\\python\\python313\\lib\\site-packages (from jsonschema>=2.5.1->great_expectations) (25.3.0)\n",
      "Requirement already satisfied: jsonschema-specifications>=2023.03.6 in c:\\users\\techteam-08\\appdata\\local\\programs\\python\\python313\\lib\\site-packages (from jsonschema>=2.5.1->great_expectations) (2025.4.1)\n",
      "Requirement already satisfied: referencing>=0.28.4 in c:\\users\\techteam-08\\appdata\\local\\programs\\python\\python313\\lib\\site-packages (from jsonschema>=2.5.1->great_expectations) (0.36.2)\n",
      "Requirement already satisfied: rpds-py>=0.7.1 in c:\\users\\techteam-08\\appdata\\local\\programs\\python\\python313\\lib\\site-packages (from jsonschema>=2.5.1->great_expectations) (0.25.0)\n",
      "Requirement already satisfied: fastjsonschema>=2.15 in c:\\users\\techteam-08\\appdata\\local\\programs\\python\\python313\\lib\\site-packages (from nbformat>=5.0->great_expectations) (2.21.1)\n",
      "Requirement already satisfied: jupyter-core!=5.0.*,>=4.12 in c:\\users\\techteam-08\\appdata\\local\\programs\\python\\python313\\lib\\site-packages (from nbformat>=5.0->great_expectations) (5.7.2)\n",
      "Requirement already satisfied: platformdirs>=2.5 in c:\\users\\techteam-08\\appdata\\local\\programs\\python\\python313\\lib\\site-packages (from jupyter-core!=5.0.*,>=4.12->nbformat>=5.0->great_expectations) (4.3.8)\n",
      "Requirement already satisfied: pywin32>=300 in c:\\users\\techteam-08\\appdata\\local\\programs\\python\\python313\\lib\\site-packages (from jupyter-core!=5.0.*,>=4.12->nbformat>=5.0->great_expectations) (310)\n",
      "Requirement already satisfied: jupyter-server<3,>=2.4.0 in c:\\users\\techteam-08\\appdata\\local\\programs\\python\\python313\\lib\\site-packages (from notebook>=6.4.10->great_expectations) (2.16.0)\n",
      "Requirement already satisfied: jupyterlab-server<3,>=2.27.1 in c:\\users\\techteam-08\\appdata\\local\\programs\\python\\python313\\lib\\site-packages (from notebook>=6.4.10->great_expectations) (2.27.3)\n",
      "Requirement already satisfied: jupyterlab<4.5,>=4.4.0 in c:\\users\\techteam-08\\appdata\\local\\programs\\python\\python313\\lib\\site-packages (from notebook>=6.4.10->great_expectations) (4.4.2)\n",
      "Requirement already satisfied: notebook-shim<0.3,>=0.2 in c:\\users\\techteam-08\\appdata\\local\\programs\\python\\python313\\lib\\site-packages (from notebook>=6.4.10->great_expectations) (0.2.4)\n",
      "Requirement already satisfied: tornado>=6.2.0 in c:\\users\\techteam-08\\appdata\\local\\programs\\python\\python313\\lib\\site-packages (from notebook>=6.4.10->great_expectations) (6.5)\n",
      "Requirement already satisfied: anyio>=3.1.0 in c:\\users\\techteam-08\\appdata\\local\\programs\\python\\python313\\lib\\site-packages (from jupyter-server<3,>=2.4.0->notebook>=6.4.10->great_expectations) (4.9.0)\n",
      "Requirement already satisfied: argon2-cffi>=21.1 in c:\\users\\techteam-08\\appdata\\local\\programs\\python\\python313\\lib\\site-packages (from jupyter-server<3,>=2.4.0->notebook>=6.4.10->great_expectations) (23.1.0)\n",
      "Requirement already satisfied: jupyter-client>=7.4.4 in c:\\users\\techteam-08\\appdata\\local\\programs\\python\\python313\\lib\\site-packages (from jupyter-server<3,>=2.4.0->notebook>=6.4.10->great_expectations) (8.6.3)\n",
      "Requirement already satisfied: jupyter-events>=0.11.0 in c:\\users\\techteam-08\\appdata\\local\\programs\\python\\python313\\lib\\site-packages (from jupyter-server<3,>=2.4.0->notebook>=6.4.10->great_expectations) (0.12.0)\n",
      "Requirement already satisfied: jupyter-server-terminals>=0.4.4 in c:\\users\\techteam-08\\appdata\\local\\programs\\python\\python313\\lib\\site-packages (from jupyter-server<3,>=2.4.0->notebook>=6.4.10->great_expectations) (0.5.3)\n",
      "Requirement already satisfied: nbconvert>=6.4.4 in c:\\users\\techteam-08\\appdata\\local\\programs\\python\\python313\\lib\\site-packages (from jupyter-server<3,>=2.4.0->notebook>=6.4.10->great_expectations) (7.16.6)\n",
      "Requirement already satisfied: overrides>=5.0 in c:\\users\\techteam-08\\appdata\\local\\programs\\python\\python313\\lib\\site-packages (from jupyter-server<3,>=2.4.0->notebook>=6.4.10->great_expectations) (7.7.0)\n",
      "Requirement already satisfied: prometheus-client>=0.9 in c:\\users\\techteam-08\\appdata\\local\\programs\\python\\python313\\lib\\site-packages (from jupyter-server<3,>=2.4.0->notebook>=6.4.10->great_expectations) (0.22.0)\n",
      "Requirement already satisfied: pywinpty>=2.0.1 in c:\\users\\techteam-08\\appdata\\local\\programs\\python\\python313\\lib\\site-packages (from jupyter-server<3,>=2.4.0->notebook>=6.4.10->great_expectations) (2.0.15)\n",
      "Requirement already satisfied: pyzmq>=24 in c:\\users\\techteam-08\\appdata\\local\\programs\\python\\python313\\lib\\site-packages (from jupyter-server<3,>=2.4.0->notebook>=6.4.10->great_expectations) (26.4.0)\n",
      "Requirement already satisfied: send2trash>=1.8.2 in c:\\users\\techteam-08\\appdata\\local\\programs\\python\\python313\\lib\\site-packages (from jupyter-server<3,>=2.4.0->notebook>=6.4.10->great_expectations) (1.8.3)\n",
      "Requirement already satisfied: terminado>=0.8.3 in c:\\users\\techteam-08\\appdata\\local\\programs\\python\\python313\\lib\\site-packages (from jupyter-server<3,>=2.4.0->notebook>=6.4.10->great_expectations) (0.18.1)\n",
      "Requirement already satisfied: websocket-client>=1.7 in c:\\users\\techteam-08\\appdata\\local\\programs\\python\\python313\\lib\\site-packages (from jupyter-server<3,>=2.4.0->notebook>=6.4.10->great_expectations) (1.8.0)\n",
      "Requirement already satisfied: async-lru>=1.0.0 in c:\\users\\techteam-08\\appdata\\local\\programs\\python\\python313\\lib\\site-packages (from jupyterlab<4.5,>=4.4.0->notebook>=6.4.10->great_expectations) (2.0.5)\n",
      "Requirement already satisfied: httpx>=0.25.0 in c:\\users\\techteam-08\\appdata\\local\\programs\\python\\python313\\lib\\site-packages (from jupyterlab<4.5,>=4.4.0->notebook>=6.4.10->great_expectations) (0.28.1)\n",
      "Requirement already satisfied: ipykernel>=6.5.0 in c:\\users\\techteam-08\\appdata\\local\\programs\\python\\python313\\lib\\site-packages (from jupyterlab<4.5,>=4.4.0->notebook>=6.4.10->great_expectations) (6.29.5)\n",
      "Requirement already satisfied: jupyter-lsp>=2.0.0 in c:\\users\\techteam-08\\appdata\\local\\programs\\python\\python313\\lib\\site-packages (from jupyterlab<4.5,>=4.4.0->notebook>=6.4.10->great_expectations) (2.2.5)\n",
      "Requirement already satisfied: setuptools>=41.1.0 in c:\\users\\techteam-08\\appdata\\local\\programs\\python\\python313\\lib\\site-packages (from jupyterlab<4.5,>=4.4.0->notebook>=6.4.10->great_expectations) (80.8.0)\n",
      "Requirement already satisfied: babel>=2.10 in c:\\users\\techteam-08\\appdata\\local\\programs\\python\\python313\\lib\\site-packages (from jupyterlab-server<3,>=2.27.1->notebook>=6.4.10->great_expectations) (2.17.0)\n",
      "Requirement already satisfied: json5>=0.9.0 in c:\\users\\techteam-08\\appdata\\local\\programs\\python\\python313\\lib\\site-packages (from jupyterlab-server<3,>=2.27.1->notebook>=6.4.10->great_expectations) (0.12.0)\n",
      "Requirement already satisfied: idna>=2.8 in c:\\users\\techteam-08\\appdata\\local\\programs\\python\\python313\\lib\\site-packages (from anyio>=3.1.0->jupyter-server<3,>=2.4.0->notebook>=6.4.10->great_expectations) (3.10)\n",
      "Requirement already satisfied: sniffio>=1.1 in c:\\users\\techteam-08\\appdata\\local\\programs\\python\\python313\\lib\\site-packages (from anyio>=3.1.0->jupyter-server<3,>=2.4.0->notebook>=6.4.10->great_expectations) (1.3.1)\n",
      "Requirement already satisfied: argon2-cffi-bindings in c:\\users\\techteam-08\\appdata\\local\\programs\\python\\python313\\lib\\site-packages (from argon2-cffi>=21.1->jupyter-server<3,>=2.4.0->notebook>=6.4.10->great_expectations) (21.2.0)\n",
      "Requirement already satisfied: certifi in c:\\users\\techteam-08\\appdata\\local\\programs\\python\\python313\\lib\\site-packages (from httpx>=0.25.0->jupyterlab<4.5,>=4.4.0->notebook>=6.4.10->great_expectations) (2025.4.26)\n",
      "Requirement already satisfied: httpcore==1.* in c:\\users\\techteam-08\\appdata\\local\\programs\\python\\python313\\lib\\site-packages (from httpx>=0.25.0->jupyterlab<4.5,>=4.4.0->notebook>=6.4.10->great_expectations) (1.0.9)\n",
      "Requirement already satisfied: h11>=0.16 in c:\\users\\techteam-08\\appdata\\local\\programs\\python\\python313\\lib\\site-packages (from httpcore==1.*->httpx>=0.25.0->jupyterlab<4.5,>=4.4.0->notebook>=6.4.10->great_expectations) (0.16.0)\n",
      "Requirement already satisfied: debugpy>=1.6.5 in c:\\users\\techteam-08\\appdata\\local\\programs\\python\\python313\\lib\\site-packages (from ipykernel>=6.5.0->jupyterlab<4.5,>=4.4.0->notebook>=6.4.10->great_expectations) (1.8.14)\n",
      "Requirement already satisfied: nest-asyncio in c:\\users\\techteam-08\\appdata\\local\\programs\\python\\python313\\lib\\site-packages (from ipykernel>=6.5.0->jupyterlab<4.5,>=4.4.0->notebook>=6.4.10->great_expectations) (1.6.0)\n",
      "Requirement already satisfied: psutil in c:\\users\\techteam-08\\appdata\\local\\programs\\python\\python313\\lib\\site-packages (from ipykernel>=6.5.0->jupyterlab<4.5,>=4.4.0->notebook>=6.4.10->great_expectations) (7.0.0)\n",
      "Requirement already satisfied: python-json-logger>=2.0.4 in c:\\users\\techteam-08\\appdata\\local\\programs\\python\\python313\\lib\\site-packages (from jupyter-events>=0.11.0->jupyter-server<3,>=2.4.0->notebook>=6.4.10->great_expectations) (3.3.0)\n",
      "Requirement already satisfied: pyyaml>=5.3 in c:\\users\\techteam-08\\appdata\\local\\programs\\python\\python313\\lib\\site-packages (from jupyter-events>=0.11.0->jupyter-server<3,>=2.4.0->notebook>=6.4.10->great_expectations) (6.0.2)\n",
      "Requirement already satisfied: rfc3339-validator in c:\\users\\techteam-08\\appdata\\local\\programs\\python\\python313\\lib\\site-packages (from jupyter-events>=0.11.0->jupyter-server<3,>=2.4.0->notebook>=6.4.10->great_expectations) (0.1.4)\n",
      "Requirement already satisfied: rfc3986-validator>=0.1.1 in c:\\users\\techteam-08\\appdata\\local\\programs\\python\\python313\\lib\\site-packages (from jupyter-events>=0.11.0->jupyter-server<3,>=2.4.0->notebook>=6.4.10->great_expectations) (0.1.1)\n",
      "Requirement already satisfied: fqdn in c:\\users\\techteam-08\\appdata\\local\\programs\\python\\python313\\lib\\site-packages (from jsonschema[format-nongpl]>=4.18.0->jupyter-events>=0.11.0->jupyter-server<3,>=2.4.0->notebook>=6.4.10->great_expectations) (1.5.1)\n",
      "Requirement already satisfied: isoduration in c:\\users\\techteam-08\\appdata\\local\\programs\\python\\python313\\lib\\site-packages (from jsonschema[format-nongpl]>=4.18.0->jupyter-events>=0.11.0->jupyter-server<3,>=2.4.0->notebook>=6.4.10->great_expectations) (20.11.0)\n",
      "Requirement already satisfied: uri-template in c:\\users\\techteam-08\\appdata\\local\\programs\\python\\python313\\lib\\site-packages (from jsonschema[format-nongpl]>=4.18.0->jupyter-events>=0.11.0->jupyter-server<3,>=2.4.0->notebook>=6.4.10->great_expectations) (1.3.0)\n",
      "Requirement already satisfied: webcolors>=24.6.0 in c:\\users\\techteam-08\\appdata\\local\\programs\\python\\python313\\lib\\site-packages (from jsonschema[format-nongpl]>=4.18.0->jupyter-events>=0.11.0->jupyter-server<3,>=2.4.0->notebook>=6.4.10->great_expectations) (24.11.1)\n",
      "Requirement already satisfied: beautifulsoup4 in c:\\users\\techteam-08\\appdata\\local\\programs\\python\\python313\\lib\\site-packages (from nbconvert>=6.4.4->jupyter-server<3,>=2.4.0->notebook>=6.4.10->great_expectations) (4.13.4)\n",
      "Requirement already satisfied: bleach!=5.0.0 in c:\\users\\techteam-08\\appdata\\local\\programs\\python\\python313\\lib\\site-packages (from bleach[css]!=5.0.0->nbconvert>=6.4.4->jupyter-server<3,>=2.4.0->notebook>=6.4.10->great_expectations) (6.2.0)\n",
      "Requirement already satisfied: defusedxml in c:\\users\\techteam-08\\appdata\\local\\programs\\python\\python313\\lib\\site-packages (from nbconvert>=6.4.4->jupyter-server<3,>=2.4.0->notebook>=6.4.10->great_expectations) (0.7.1)\n",
      "Requirement already satisfied: jupyterlab-pygments in c:\\users\\techteam-08\\appdata\\local\\programs\\python\\python313\\lib\\site-packages (from nbconvert>=6.4.4->jupyter-server<3,>=2.4.0->notebook>=6.4.10->great_expectations) (0.3.0)\n",
      "Requirement already satisfied: nbclient>=0.5.0 in c:\\users\\techteam-08\\appdata\\local\\programs\\python\\python313\\lib\\site-packages (from nbconvert>=6.4.4->jupyter-server<3,>=2.4.0->notebook>=6.4.10->great_expectations) (0.10.2)\n",
      "Requirement already satisfied: pandocfilters>=1.4.1 in c:\\users\\techteam-08\\appdata\\local\\programs\\python\\python313\\lib\\site-packages (from nbconvert>=6.4.4->jupyter-server<3,>=2.4.0->notebook>=6.4.10->great_expectations) (1.5.1)\n",
      "Requirement already satisfied: webencodings in c:\\users\\techteam-08\\appdata\\local\\programs\\python\\python313\\lib\\site-packages (from bleach!=5.0.0->bleach[css]!=5.0.0->nbconvert>=6.4.4->jupyter-server<3,>=2.4.0->notebook>=6.4.10->great_expectations) (0.5.1)\n",
      "Requirement already satisfied: tinycss2<1.5,>=1.1.0 in c:\\users\\techteam-08\\appdata\\local\\programs\\python\\python313\\lib\\site-packages (from bleach[css]!=5.0.0->nbconvert>=6.4.4->jupyter-server<3,>=2.4.0->notebook>=6.4.10->great_expectations) (1.4.0)\n",
      "Requirement already satisfied: tzdata>=2022.7 in c:\\users\\techteam-08\\appdata\\local\\programs\\python\\python313\\lib\\site-packages (from pandas>=1.3.0->great_expectations) (2025.2)\n",
      "Requirement already satisfied: annotated-types>=0.6.0 in c:\\users\\techteam-08\\appdata\\local\\programs\\python\\python313\\lib\\site-packages (from pydantic>=1.9.2->great_expectations) (0.7.0)\n",
      "Requirement already satisfied: pydantic-core==2.33.2 in c:\\users\\techteam-08\\appdata\\local\\programs\\python\\python313\\lib\\site-packages (from pydantic>=1.9.2->great_expectations) (2.33.2)\n",
      "Requirement already satisfied: typing-inspection>=0.4.0 in c:\\users\\techteam-08\\appdata\\local\\programs\\python\\python313\\lib\\site-packages (from pydantic>=1.9.2->great_expectations) (0.4.1)\n",
      "Requirement already satisfied: six>=1.5 in c:\\users\\techteam-08\\appdata\\local\\programs\\python\\python313\\lib\\site-packages (from python-dateutil>=2.8.1->great_expectations) (1.17.0)\n",
      "Requirement already satisfied: charset-normalizer<4,>=2 in c:\\users\\techteam-08\\appdata\\local\\programs\\python\\python313\\lib\\site-packages (from requests>=2.20->great_expectations) (3.4.2)\n",
      "Requirement already satisfied: soupsieve>1.2 in c:\\users\\techteam-08\\appdata\\local\\programs\\python\\python313\\lib\\site-packages (from beautifulsoup4->nbconvert>=6.4.4->jupyter-server<3,>=2.4.0->notebook>=6.4.10->great_expectations) (2.7)\n",
      "Requirement already satisfied: arrow>=0.15.0 in c:\\users\\techteam-08\\appdata\\local\\programs\\python\\python313\\lib\\site-packages (from isoduration->jsonschema[format-nongpl]>=4.18.0->jupyter-events>=0.11.0->jupyter-server<3,>=2.4.0->notebook>=6.4.10->great_expectations) (1.3.0)\n",
      "Requirement already satisfied: types-python-dateutil>=2.8.10 in c:\\users\\techteam-08\\appdata\\local\\programs\\python\\python313\\lib\\site-packages (from arrow>=0.15.0->isoduration->jsonschema[format-nongpl]>=4.18.0->jupyter-events>=0.11.0->jupyter-server<3,>=2.4.0->notebook>=6.4.10->great_expectations) (2.9.0.20250516)\n",
      "Requirement already satisfied: executing>=1.2.0 in c:\\users\\techteam-08\\appdata\\local\\programs\\python\\python313\\lib\\site-packages (from stack_data->Ipython>=7.16.3->great_expectations) (2.2.0)\n",
      "Requirement already satisfied: asttokens>=2.1.0 in c:\\users\\techteam-08\\appdata\\local\\programs\\python\\python313\\lib\\site-packages (from stack_data->Ipython>=7.16.3->great_expectations) (3.0.0)\n",
      "Requirement already satisfied: pure-eval in c:\\users\\techteam-08\\appdata\\local\\programs\\python\\python313\\lib\\site-packages (from stack_data->Ipython>=7.16.3->great_expectations) (0.2.3)\n",
      "Note: you may need to restart the kernel to use updated packages.\n"
     ]
    }
   ],
   "source": [
    "pip install great_expectations"
   ]
  },
  {
   "cell_type": "code",
   "execution_count": 4,
   "id": "cb589527-78f3-44fe-a5f0-6bb6229f87e0",
   "metadata": {
    "ExecuteTime": {
     "end_time": "2025-06-15T11:54:30.081173Z",
     "start_time": "2025-06-15T11:54:30.058346Z"
    }
   },
   "outputs": [
    {
     "ename": "ModuleNotFoundError",
     "evalue": "No module named 'great_expectactions'",
     "output_type": "error",
     "traceback": [
      "\u001b[31m---------------------------------------------------------------------------\u001b[39m",
      "\u001b[31mModuleNotFoundError\u001b[39m                       Traceback (most recent call last)",
      "\u001b[36mCell\u001b[39m\u001b[36m \u001b[39m\u001b[32mIn[4]\u001b[39m\u001b[32m, line 4\u001b[39m\n\u001b[32m      2\u001b[39m \u001b[38;5;28;01mimport\u001b[39;00m\u001b[38;5;250m \u001b[39m\u001b[34;01mgreat_expectations\u001b[39;00m\u001b[38;5;250m \u001b[39m\u001b[38;5;28;01mas\u001b[39;00m\u001b[38;5;250m \u001b[39m\u001b[34;01mgx\u001b[39;00m\n\u001b[32m      3\u001b[39m \u001b[38;5;28;01mfrom\u001b[39;00m\u001b[38;5;250m \u001b[39m\u001b[34;01mgreat_expectations\u001b[39;00m\u001b[34;01m.\u001b[39;00m\u001b[34;01mdata_context\u001b[39;00m\u001b[38;5;250m \u001b[39m\u001b[38;5;28;01mimport\u001b[39;00m EphemeralDataContext\n\u001b[32m----> \u001b[39m\u001b[32m4\u001b[39m \u001b[38;5;28;01mfrom\u001b[39;00m\u001b[38;5;250m \u001b[39m\u001b[34;01mgreat_expectactions\u001b[39;00m\u001b[34;01m.\u001b[39;00m\u001b[34;01mdata_context\u001b[39;00m\u001b[34;01m.\u001b[39;00m\u001b[34;01mtypes\u001b[39;00m\u001b[34;01m.\u001b[39;00m\u001b[34;01mbase\u001b[39;00m\u001b[38;5;250m \u001b[39m\u001b[38;5;28;01mimport\u001b[39;00m DataContextConfig\n\u001b[32m      6\u001b[39m \u001b[38;5;66;03m# Create a clean ephemeral config\u001b[39;00m\n\u001b[32m      7\u001b[39m config = DataContextConfig()\n",
      "\u001b[31mModuleNotFoundError\u001b[39m: No module named 'great_expectactions'"
     ]
    }
   ],
   "source": [
    "import pandas as pd\n",
    "# See what context would be created without mode\n",
    "print(f\"Default context type: {type(gx.get_context()).__name__}\")\n",
    "\n",
    "\n",
    "print(gx.__version__)\n",
    "print(pd.__version__)"
   ]
  },
  {
   "cell_type": "code",
   "execution_count": null,
   "id": "2daa0bfa-5f94-4994-ad55-20e26f6d0b21",
   "metadata": {
    "ExecuteTime": {
     "end_time": "2025-06-15T11:54:20.602396Z",
     "start_time": "2025-06-15T11:54:20.581979Z"
    }
   },
   "outputs": [],
   "source": [
    "# Force ephemeral with debug\n",
    "try:\n",
    "    context = gx.get_context(mode=\"ephemeral\")\n",
    "except Exception as e:\n",
    "    print(f\"Full error: {e}\")\n",
    "    print(\"Trying manual creation...\")\n",
    "    from great_expectations.data_context import EphemeralDataContext\n",
    "    context = EphemeralDataContext()"
   ]
  },
  {
   "cell_type": "code",
   "execution_count": null,
   "id": "87bf2a18-0939-4ffd-a764-44120832752e",
   "metadata": {},
   "outputs": [],
   "source": [
    "data_source_name = 'temperature_data'\n",
    "data_source = context.data_sources.add_pandas(name=data_source_name)"
   ]
  },
  {
   "cell_type": "code",
   "execution_count": null,
   "id": "b4dfd46d-d3ac-4057-882a-6552de988e37",
   "metadata": {},
   "outputs": [],
   "source": [
    "data_asset_name = 'temperature_entity_asset'\n",
    "data_asset = data_source.add_dataframe_asset(name = data_asset_name)"
   ]
  },
  {
   "cell_type": "code",
   "execution_count": null,
   "id": "9a8e30ed-5f57-4271-b3d6-af985bf0f1ce",
   "metadata": {},
   "outputs": [],
   "source": [
    "batch_definition_name ='full_batch' \n",
    "batch_definition = data_asset.add_batch_definition_whole_dataframe(batch_definition_name)"
   ]
  },
  {
   "cell_type": "code",
   "execution_count": null,
   "id": "045d2c98-bc91-42ba-a9a3-1802afef80b6",
   "metadata": {},
   "outputs": [],
   "source": [
    "expectation_temp = gx.expectations.ExpectColumnValuesToBeBetween(column=\"Temperature\",max_value=45,min_value=10)\n",
    "expectation_city = gx.expectations.ExpectColumnDistinctValuesToBeInSet(column=\"City\",value_set=[\"Mumbai\",\"Delhi\"])"
   ]
  },
  {
   "cell_type": "code",
   "execution_count": null,
   "id": "9af63917-246d-46cd-a47d-dbdbc7d17782",
   "metadata": {},
   "outputs": [],
   "source": [
    "expectation_suite_name = \"temperature_data_suite\"\n",
    "expectation_suite_ref = gx.ExpectationSuite(name=expectation_suite_name)\n",
    "expectation_suite = context.suites.add(expectation_suite_ref)"
   ]
  },
  {
   "cell_type": "code",
   "execution_count": null,
   "id": "2273abaf5e09f671",
   "metadata": {},
   "outputs": [],
   "source": [
    "#adding expectations to the Expectation suite\n",
    "\n",
    "expectation_suite.add_expectation(expectation_temp)\n",
    "expectation_suite.add_expectation(expectation_city)"
   ]
  },
  {
   "cell_type": "code",
   "execution_count": null,
   "id": "beaa9868db3d3e8f",
   "metadata": {},
   "outputs": [],
   "source": [
    "validation_def_name = \"temperature_data_validation\"\n",
    "validation_definition_ref = gx.ValidationDefinition(data=batch_definition,suite=expectation_suite,name=validation_def_name)"
   ]
  },
  {
   "cell_type": "code",
   "execution_count": null,
   "id": "5cb6212cb4ac2ac6",
   "metadata": {},
   "outputs": [],
   "source": [
    "validation_definition = context.validations.add(validation_definition_ref)"
   ]
  },
  {
   "cell_type": "code",
   "execution_count": null,
   "id": "309b704b44a0d5fc",
   "metadata": {},
   "outputs": [],
   "source": [
    "data_df = pd.read_csv(\"temperature_data.csv\")\n",
    "data_df.head()"
   ]
  },
  {
   "cell_type": "code",
   "execution_count": null,
   "id": "1df7bbfd964d2c05",
   "metadata": {},
   "outputs": [],
   "source": [
    "batch_parameters = {dataframe=data_df}"
   ]
  },
  {
   "cell_type": "code",
   "execution_count": null,
   "id": "9b2c35e3ec574eaa",
   "metadata": {},
   "outputs": [],
   "source": [
    "validation_results = validation_definition.run(batch_parameters=batch_parameters)"
   ]
  },
  {
   "cell_type": "code",
   "execution_count": null,
   "id": "8b4074d5516e0525",
   "metadata": {},
   "outputs": [],
   "source": [
    "print(validation_results)"
   ]
  },
  {
   "cell_type": "code",
   "execution_count": null,
   "id": "ba2a1960-a74c-48d5-86f6-9fc3efd8e6a6",
   "metadata": {},
   "outputs": [],
   "source": []
  }
 ],
 "metadata": {
  "kernelspec": {
   "display_name": "Python 3 (ipykernel)",
   "language": "python",
   "name": "python3"
  },
  "language_info": {
   "codemirror_mode": {
    "name": "ipython",
    "version": 3
   },
   "file_extension": ".py",
   "mimetype": "text/x-python",
   "name": "python",
   "nbconvert_exporter": "python",
   "pygments_lexer": "ipython3",
   "version": "3.13.3"
  },
  "widgets": {
   "application/vnd.jupyter.widget-state+json": {
    "state": {},
    "version_major": 2,
    "version_minor": 0
   }
  }
 },
 "nbformat": 4,
 "nbformat_minor": 5
}
