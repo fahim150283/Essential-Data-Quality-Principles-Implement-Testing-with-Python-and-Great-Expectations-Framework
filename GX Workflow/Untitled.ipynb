{
 "cells": [
  {
   "cell_type": "code",
   "execution_count": 1,
   "id": "b1388561-d7c6-4c59-8438-13a36879b28e",
   "metadata": {},
   "outputs": [
    {
     "ename": "TypeError",
     "evalue": "batch_request must be a BatchRequest, RuntimeBatchRequest, or a fluent BatchRequest object, not <class 'dict'>",
     "output_type": "error",
     "traceback": [
      "\u001b[31m---------------------------------------------------------------------------\u001b[39m",
      "\u001b[31mTypeError\u001b[39m                                 Traceback (most recent call last)",
      "\u001b[36mCell\u001b[39m\u001b[36m \u001b[39m\u001b[32mIn[1]\u001b[39m\u001b[32m, line 48\u001b[39m\n\u001b[32m     39\u001b[39m batch_request = {\n\u001b[32m     40\u001b[39m     \u001b[33m\"\u001b[39m\u001b[33mdatasource_name\u001b[39m\u001b[33m\"\u001b[39m: \u001b[33m\"\u001b[39m\u001b[33mtemperature_data\u001b[39m\u001b[33m\"\u001b[39m,\n\u001b[32m     41\u001b[39m     \u001b[33m\"\u001b[39m\u001b[33mdata_connector_name\u001b[39m\u001b[33m\"\u001b[39m: \u001b[33m\"\u001b[39m\u001b[33mdefault_runtime_data_connector_name\u001b[39m\u001b[33m\"\u001b[39m,\n\u001b[32m   (...)\u001b[39m\u001b[32m     44\u001b[39m     \u001b[33m\"\u001b[39m\u001b[33mbatch_identifiers\u001b[39m\u001b[33m\"\u001b[39m: {\u001b[33m\"\u001b[39m\u001b[33mdefault_identifier_name\u001b[39m\u001b[33m\"\u001b[39m: \u001b[33m\"\u001b[39m\u001b[33mbatch_1\u001b[39m\u001b[33m\"\u001b[39m}\n\u001b[32m     45\u001b[39m }\n\u001b[32m     47\u001b[39m \u001b[38;5;66;03m# Step 5: Get a validator to start testing\u001b[39;00m\n\u001b[32m---> \u001b[39m\u001b[32m48\u001b[39m validator = \u001b[43mcontext\u001b[49m\u001b[43m.\u001b[49m\u001b[43mget_validator\u001b[49m\u001b[43m(\u001b[49m\u001b[43mbatch_request\u001b[49m\u001b[43m=\u001b[49m\u001b[43mbatch_request\u001b[49m\u001b[43m)\u001b[49m\n\u001b[32m     49\u001b[39m validator.head()\n",
      "\u001b[36mFile \u001b[39m\u001b[32m~\\AppData\\Local\\Programs\\Python\\Python313\\Lib\\site-packages\\great_expectations\\data_context\\data_context\\abstract_data_context.py:2374\u001b[39m, in \u001b[36mAbstractDataContext.get_validator\u001b[39m\u001b[34m(***failed resolving arguments***)\u001b[39m\n\u001b[32m   2370\u001b[39m         batch_request_list = [batch_request]  \u001b[38;5;66;03m# type: ignore[list-item]\u001b[39;00m\n\u001b[32m   2372\u001b[39m     \u001b[38;5;28;01mfor\u001b[39;00m batch_request \u001b[38;5;129;01min\u001b[39;00m batch_request_list:\n\u001b[32m   2373\u001b[39m         batch_list.extend(\n\u001b[32m-> \u001b[39m\u001b[32m2374\u001b[39m             \u001b[38;5;28;43mself\u001b[39;49m\u001b[43m.\u001b[49m\u001b[43mget_batch_list\u001b[49m\u001b[43m(\u001b[49m\n\u001b[32m   2375\u001b[39m \u001b[43m                \u001b[49m\u001b[43mdatasource_name\u001b[49m\u001b[43m=\u001b[49m\u001b[43mdatasource_name\u001b[49m\u001b[43m,\u001b[49m\n\u001b[32m   2376\u001b[39m \u001b[43m                \u001b[49m\u001b[43mdata_connector_name\u001b[49m\u001b[43m=\u001b[49m\u001b[43mdata_connector_name\u001b[49m\u001b[43m,\u001b[49m\n\u001b[32m   2377\u001b[39m \u001b[43m                \u001b[49m\u001b[43mdata_asset_name\u001b[49m\u001b[43m=\u001b[49m\u001b[43mdata_asset_name\u001b[49m\u001b[43m,\u001b[49m\n\u001b[32m   2378\u001b[39m \u001b[43m                \u001b[49m\u001b[43mbatch_request\u001b[49m\u001b[43m=\u001b[49m\u001b[43mbatch_request\u001b[49m\u001b[43m,\u001b[49m\n\u001b[32m   2379\u001b[39m \u001b[43m                \u001b[49m\u001b[43mbatch_data\u001b[49m\u001b[43m=\u001b[49m\u001b[43mbatch_data\u001b[49m\u001b[43m,\u001b[49m\n\u001b[32m   2380\u001b[39m \u001b[43m                \u001b[49m\u001b[43mdata_connector_query\u001b[49m\u001b[43m=\u001b[49m\u001b[43mdata_connector_query\u001b[49m\u001b[43m,\u001b[49m\n\u001b[32m   2381\u001b[39m \u001b[43m                \u001b[49m\u001b[43mbatch_identifiers\u001b[49m\u001b[43m=\u001b[49m\u001b[43mbatch_identifiers\u001b[49m\u001b[43m,\u001b[49m\n\u001b[32m   2382\u001b[39m \u001b[43m                \u001b[49m\u001b[43mlimit\u001b[49m\u001b[43m=\u001b[49m\u001b[43mlimit\u001b[49m\u001b[43m,\u001b[49m\n\u001b[32m   2383\u001b[39m \u001b[43m                \u001b[49m\u001b[43mindex\u001b[49m\u001b[43m=\u001b[49m\u001b[43mindex\u001b[49m\u001b[43m,\u001b[49m\n\u001b[32m   2384\u001b[39m \u001b[43m                \u001b[49m\u001b[43mcustom_filter_function\u001b[49m\u001b[43m=\u001b[49m\u001b[43mcustom_filter_function\u001b[49m\u001b[43m,\u001b[49m\n\u001b[32m   2385\u001b[39m \u001b[43m                \u001b[49m\u001b[43msampling_method\u001b[49m\u001b[43m=\u001b[49m\u001b[43msampling_method\u001b[49m\u001b[43m,\u001b[49m\n\u001b[32m   2386\u001b[39m \u001b[43m                \u001b[49m\u001b[43msampling_kwargs\u001b[49m\u001b[43m=\u001b[49m\u001b[43msampling_kwargs\u001b[49m\u001b[43m,\u001b[49m\n\u001b[32m   2387\u001b[39m \u001b[43m                \u001b[49m\u001b[43msplitter_method\u001b[49m\u001b[43m=\u001b[49m\u001b[43msplitter_method\u001b[49m\u001b[43m,\u001b[49m\n\u001b[32m   2388\u001b[39m \u001b[43m                \u001b[49m\u001b[43msplitter_kwargs\u001b[49m\u001b[43m=\u001b[49m\u001b[43msplitter_kwargs\u001b[49m\u001b[43m,\u001b[49m\n\u001b[32m   2389\u001b[39m \u001b[43m                \u001b[49m\u001b[43mruntime_parameters\u001b[49m\u001b[43m=\u001b[49m\u001b[43mruntime_parameters\u001b[49m\u001b[43m,\u001b[49m\n\u001b[32m   2390\u001b[39m \u001b[43m                \u001b[49m\u001b[43mquery\u001b[49m\u001b[43m=\u001b[49m\u001b[43mquery\u001b[49m\u001b[43m,\u001b[49m\n\u001b[32m   2391\u001b[39m \u001b[43m                \u001b[49m\u001b[43mpath\u001b[49m\u001b[43m=\u001b[49m\u001b[43mpath\u001b[49m\u001b[43m,\u001b[49m\n\u001b[32m   2392\u001b[39m \u001b[43m                \u001b[49m\u001b[43mbatch_filter_parameters\u001b[49m\u001b[43m=\u001b[49m\u001b[43mbatch_filter_parameters\u001b[49m\u001b[43m,\u001b[49m\n\u001b[32m   2393\u001b[39m \u001b[43m                \u001b[49m\u001b[43mbatch_spec_passthrough\u001b[49m\u001b[43m=\u001b[49m\u001b[43mbatch_spec_passthrough\u001b[49m\u001b[43m,\u001b[49m\n\u001b[32m   2394\u001b[39m \u001b[43m                \u001b[49m\u001b[43m*\u001b[49m\u001b[43m*\u001b[49m\u001b[43mkwargs\u001b[49m\u001b[43m,\u001b[49m\n\u001b[32m   2395\u001b[39m \u001b[43m            \u001b[49m\u001b[43m)\u001b[49m\n\u001b[32m   2396\u001b[39m         )\n\u001b[32m   2398\u001b[39m \u001b[38;5;28;01mreturn\u001b[39;00m \u001b[38;5;28mself\u001b[39m.get_validator_using_batch_list(\n\u001b[32m   2399\u001b[39m     expectation_suite=expectation_suite,  \u001b[38;5;66;03m# type: ignore[arg-type]\u001b[39;00m\n\u001b[32m   2400\u001b[39m     batch_list=batch_list,\n\u001b[32m   2401\u001b[39m     include_rendered_content=include_rendered_content,\n\u001b[32m   2402\u001b[39m )\n",
      "\u001b[36mFile \u001b[39m\u001b[32m~\\AppData\\Local\\Programs\\Python\\Python313\\Lib\\site-packages\\great_expectations\\core\\usage_statistics\\usage_statistics.py:260\u001b[39m, in \u001b[36musage_statistics_enabled_method.<locals>.usage_statistics_wrapped_method\u001b[39m\u001b[34m(*args, **kwargs)\u001b[39m\n\u001b[32m    257\u001b[39m         args_payload = args_payload_fn(*args, **kwargs) \u001b[38;5;129;01mor\u001b[39;00m {}\n\u001b[32m    258\u001b[39m         nested_update(event_payload, args_payload)\n\u001b[32m--> \u001b[39m\u001b[32m260\u001b[39m     result = \u001b[43mfunc\u001b[49m\u001b[43m(\u001b[49m\u001b[43m*\u001b[49m\u001b[43margs\u001b[49m\u001b[43m,\u001b[49m\u001b[43m \u001b[49m\u001b[43m*\u001b[49m\u001b[43m*\u001b[49m\u001b[43mkwargs\u001b[49m\u001b[43m)\u001b[49m\n\u001b[32m    261\u001b[39m     message[\u001b[33m\"\u001b[39m\u001b[33msuccess\u001b[39m\u001b[33m\"\u001b[39m] = \u001b[38;5;28;01mTrue\u001b[39;00m\n\u001b[32m    262\u001b[39m \u001b[38;5;28;01mexcept\u001b[39;00m \u001b[38;5;167;01mException\u001b[39;00m:\n",
      "\u001b[36mFile \u001b[39m\u001b[32m~\\AppData\\Local\\Programs\\Python\\Python313\\Lib\\site-packages\\great_expectations\\data_context\\data_context\\abstract_data_context.py:2543\u001b[39m, in \u001b[36mAbstractDataContext.get_batch_list\u001b[39m\u001b[34m(self, datasource_name, data_connector_name, data_asset_name, batch_request, batch_data, data_connector_query, batch_identifiers, limit, index, custom_filter_function, sampling_method, sampling_kwargs, splitter_method, splitter_kwargs, runtime_parameters, query, path, batch_filter_parameters, batch_spec_passthrough, batch_request_options, **kwargs)\u001b[39m\n\u001b[32m   2465\u001b[39m \u001b[38;5;129m@public_api\u001b[39m\n\u001b[32m   2466\u001b[39m \u001b[38;5;129m@usage_statistics_enabled_method\u001b[39m(\n\u001b[32m   2467\u001b[39m     event_name=UsageStatsEvents.DATA_CONTEXT_GET_BATCH_LIST,\n\u001b[32m   (...)\u001b[39m\u001b[32m   2492\u001b[39m     **kwargs: Optional[\u001b[38;5;28mdict\u001b[39m],\n\u001b[32m   2493\u001b[39m ) -> List[Batch]:\n\u001b[32m   2494\u001b[39m \u001b[38;5;250m    \u001b[39m\u001b[33;03m\"\"\"Get the list of zero or more batches, based on a variety of flexible input types.\u001b[39;00m\n\u001b[32m   2495\u001b[39m \n\u001b[32m   2496\u001b[39m \u001b[33;03m    `get_batch_list` is the main user-facing API for getting batches.\u001b[39;00m\n\u001b[32m   (...)\u001b[39m\u001b[32m   2541\u001b[39m \n\u001b[32m   2542\u001b[39m \u001b[33;03m    \"\"\"\u001b[39;00m\n\u001b[32m-> \u001b[39m\u001b[32m2543\u001b[39m     \u001b[38;5;28;01mreturn\u001b[39;00m \u001b[38;5;28;43mself\u001b[39;49m\u001b[43m.\u001b[49m\u001b[43m_get_batch_list\u001b[49m\u001b[43m(\u001b[49m\n\u001b[32m   2544\u001b[39m \u001b[43m        \u001b[49m\u001b[43mdatasource_name\u001b[49m\u001b[43m=\u001b[49m\u001b[43mdatasource_name\u001b[49m\u001b[43m,\u001b[49m\n\u001b[32m   2545\u001b[39m \u001b[43m        \u001b[49m\u001b[43mdata_connector_name\u001b[49m\u001b[43m=\u001b[49m\u001b[43mdata_connector_name\u001b[49m\u001b[43m,\u001b[49m\n\u001b[32m   2546\u001b[39m \u001b[43m        \u001b[49m\u001b[43mdata_asset_name\u001b[49m\u001b[43m=\u001b[49m\u001b[43mdata_asset_name\u001b[49m\u001b[43m,\u001b[49m\n\u001b[32m   2547\u001b[39m \u001b[43m        \u001b[49m\u001b[43mbatch_request\u001b[49m\u001b[43m=\u001b[49m\u001b[43mbatch_request\u001b[49m\u001b[43m,\u001b[49m\n\u001b[32m   2548\u001b[39m \u001b[43m        \u001b[49m\u001b[43mbatch_data\u001b[49m\u001b[43m=\u001b[49m\u001b[43mbatch_data\u001b[49m\u001b[43m,\u001b[49m\n\u001b[32m   2549\u001b[39m \u001b[43m        \u001b[49m\u001b[43mdata_connector_query\u001b[49m\u001b[43m=\u001b[49m\u001b[43mdata_connector_query\u001b[49m\u001b[43m,\u001b[49m\n\u001b[32m   2550\u001b[39m \u001b[43m        \u001b[49m\u001b[43mbatch_identifiers\u001b[49m\u001b[43m=\u001b[49m\u001b[43mbatch_identifiers\u001b[49m\u001b[43m,\u001b[49m\n\u001b[32m   2551\u001b[39m \u001b[43m        \u001b[49m\u001b[43mlimit\u001b[49m\u001b[43m=\u001b[49m\u001b[43mlimit\u001b[49m\u001b[43m,\u001b[49m\n\u001b[32m   2552\u001b[39m \u001b[43m        \u001b[49m\u001b[43mindex\u001b[49m\u001b[43m=\u001b[49m\u001b[43mindex\u001b[49m\u001b[43m,\u001b[49m\n\u001b[32m   2553\u001b[39m \u001b[43m        \u001b[49m\u001b[43mcustom_filter_function\u001b[49m\u001b[43m=\u001b[49m\u001b[43mcustom_filter_function\u001b[49m\u001b[43m,\u001b[49m\n\u001b[32m   2554\u001b[39m \u001b[43m        \u001b[49m\u001b[43msampling_method\u001b[49m\u001b[43m=\u001b[49m\u001b[43msampling_method\u001b[49m\u001b[43m,\u001b[49m\n\u001b[32m   2555\u001b[39m \u001b[43m        \u001b[49m\u001b[43msampling_kwargs\u001b[49m\u001b[43m=\u001b[49m\u001b[43msampling_kwargs\u001b[49m\u001b[43m,\u001b[49m\n\u001b[32m   2556\u001b[39m \u001b[43m        \u001b[49m\u001b[43msplitter_method\u001b[49m\u001b[43m=\u001b[49m\u001b[43msplitter_method\u001b[49m\u001b[43m,\u001b[49m\n\u001b[32m   2557\u001b[39m \u001b[43m        \u001b[49m\u001b[43msplitter_kwargs\u001b[49m\u001b[43m=\u001b[49m\u001b[43msplitter_kwargs\u001b[49m\u001b[43m,\u001b[49m\n\u001b[32m   2558\u001b[39m \u001b[43m        \u001b[49m\u001b[43mruntime_parameters\u001b[49m\u001b[43m=\u001b[49m\u001b[43mruntime_parameters\u001b[49m\u001b[43m,\u001b[49m\n\u001b[32m   2559\u001b[39m \u001b[43m        \u001b[49m\u001b[43mquery\u001b[49m\u001b[43m=\u001b[49m\u001b[43mquery\u001b[49m\u001b[43m,\u001b[49m\n\u001b[32m   2560\u001b[39m \u001b[43m        \u001b[49m\u001b[43mpath\u001b[49m\u001b[43m=\u001b[49m\u001b[43mpath\u001b[49m\u001b[43m,\u001b[49m\n\u001b[32m   2561\u001b[39m \u001b[43m        \u001b[49m\u001b[43mbatch_filter_parameters\u001b[49m\u001b[43m=\u001b[49m\u001b[43mbatch_filter_parameters\u001b[49m\u001b[43m,\u001b[49m\n\u001b[32m   2562\u001b[39m \u001b[43m        \u001b[49m\u001b[43mbatch_spec_passthrough\u001b[49m\u001b[43m=\u001b[49m\u001b[43mbatch_spec_passthrough\u001b[49m\u001b[43m,\u001b[49m\n\u001b[32m   2563\u001b[39m \u001b[43m        \u001b[49m\u001b[43mbatch_request_options\u001b[49m\u001b[43m=\u001b[49m\u001b[43mbatch_request_options\u001b[49m\u001b[43m,\u001b[49m\n\u001b[32m   2564\u001b[39m \u001b[43m        \u001b[49m\u001b[43m*\u001b[49m\u001b[43m*\u001b[49m\u001b[43mkwargs\u001b[49m\u001b[43m,\u001b[49m\n\u001b[32m   2565\u001b[39m \u001b[43m    \u001b[49m\u001b[43m)\u001b[49m\n",
      "\u001b[36mFile \u001b[39m\u001b[32m~\\AppData\\Local\\Programs\\Python\\Python313\\Lib\\site-packages\\great_expectations\\data_context\\data_context\\abstract_data_context.py:2591\u001b[39m, in \u001b[36mAbstractDataContext._get_batch_list\u001b[39m\u001b[34m(self, datasource_name, data_connector_name, data_asset_name, batch_request, batch_data, data_connector_query, batch_identifiers, limit, index, custom_filter_function, sampling_method, sampling_kwargs, splitter_method, splitter_kwargs, runtime_parameters, query, path, batch_filter_parameters, batch_spec_passthrough, batch_request_options, **kwargs)\u001b[39m\n\u001b[32m   2567\u001b[39m \u001b[38;5;28;01mdef\u001b[39;00m\u001b[38;5;250m \u001b[39m\u001b[34m_get_batch_list\u001b[39m(  \u001b[38;5;66;03m# noqa: PLR0913\u001b[39;00m\n\u001b[32m   2568\u001b[39m     \u001b[38;5;28mself\u001b[39m,\n\u001b[32m   2569\u001b[39m     datasource_name: Optional[\u001b[38;5;28mstr\u001b[39m] = \u001b[38;5;28;01mNone\u001b[39;00m,\n\u001b[32m   (...)\u001b[39m\u001b[32m   2589\u001b[39m     **kwargs: Optional[\u001b[38;5;28mdict\u001b[39m],\n\u001b[32m   2590\u001b[39m ) -> List[Batch]:\n\u001b[32m-> \u001b[39m\u001b[32m2591\u001b[39m     result = \u001b[43mget_batch_request_from_acceptable_arguments\u001b[49m\u001b[43m(\u001b[49m\n\u001b[32m   2592\u001b[39m \u001b[43m        \u001b[49m\u001b[43mdatasource_name\u001b[49m\u001b[43m=\u001b[49m\u001b[43mdatasource_name\u001b[49m\u001b[43m,\u001b[49m\n\u001b[32m   2593\u001b[39m \u001b[43m        \u001b[49m\u001b[43mdata_connector_name\u001b[49m\u001b[43m=\u001b[49m\u001b[43mdata_connector_name\u001b[49m\u001b[43m,\u001b[49m\n\u001b[32m   2594\u001b[39m \u001b[43m        \u001b[49m\u001b[43mdata_asset_name\u001b[49m\u001b[43m=\u001b[49m\u001b[43mdata_asset_name\u001b[49m\u001b[43m,\u001b[49m\n\u001b[32m   2595\u001b[39m \u001b[43m        \u001b[49m\u001b[43mbatch_request\u001b[49m\u001b[43m=\u001b[49m\u001b[43mbatch_request\u001b[49m\u001b[43m,\u001b[49m\n\u001b[32m   2596\u001b[39m \u001b[43m        \u001b[49m\u001b[43mbatch_data\u001b[49m\u001b[43m=\u001b[49m\u001b[43mbatch_data\u001b[49m\u001b[43m,\u001b[49m\n\u001b[32m   2597\u001b[39m \u001b[43m        \u001b[49m\u001b[43mdata_connector_query\u001b[49m\u001b[43m=\u001b[49m\u001b[43mdata_connector_query\u001b[49m\u001b[43m,\u001b[49m\n\u001b[32m   2598\u001b[39m \u001b[43m        \u001b[49m\u001b[43mbatch_identifiers\u001b[49m\u001b[43m=\u001b[49m\u001b[43mbatch_identifiers\u001b[49m\u001b[43m,\u001b[49m\n\u001b[32m   2599\u001b[39m \u001b[43m        \u001b[49m\u001b[43mlimit\u001b[49m\u001b[43m=\u001b[49m\u001b[43mlimit\u001b[49m\u001b[43m,\u001b[49m\n\u001b[32m   2600\u001b[39m \u001b[43m        \u001b[49m\u001b[43mindex\u001b[49m\u001b[43m=\u001b[49m\u001b[43mindex\u001b[49m\u001b[43m,\u001b[49m\n\u001b[32m   2601\u001b[39m \u001b[43m        \u001b[49m\u001b[43mcustom_filter_function\u001b[49m\u001b[43m=\u001b[49m\u001b[43mcustom_filter_function\u001b[49m\u001b[43m,\u001b[49m\n\u001b[32m   2602\u001b[39m \u001b[43m        \u001b[49m\u001b[43msampling_method\u001b[49m\u001b[43m=\u001b[49m\u001b[43msampling_method\u001b[49m\u001b[43m,\u001b[49m\n\u001b[32m   2603\u001b[39m \u001b[43m        \u001b[49m\u001b[43msampling_kwargs\u001b[49m\u001b[43m=\u001b[49m\u001b[43msampling_kwargs\u001b[49m\u001b[43m,\u001b[49m\n\u001b[32m   2604\u001b[39m \u001b[43m        \u001b[49m\u001b[43msplitter_method\u001b[49m\u001b[43m=\u001b[49m\u001b[43msplitter_method\u001b[49m\u001b[43m,\u001b[49m\n\u001b[32m   2605\u001b[39m \u001b[43m        \u001b[49m\u001b[43msplitter_kwargs\u001b[49m\u001b[43m=\u001b[49m\u001b[43msplitter_kwargs\u001b[49m\u001b[43m,\u001b[49m\n\u001b[32m   2606\u001b[39m \u001b[43m        \u001b[49m\u001b[43mruntime_parameters\u001b[49m\u001b[43m=\u001b[49m\u001b[43mruntime_parameters\u001b[49m\u001b[43m,\u001b[49m\n\u001b[32m   2607\u001b[39m \u001b[43m        \u001b[49m\u001b[43mquery\u001b[49m\u001b[43m=\u001b[49m\u001b[43mquery\u001b[49m\u001b[43m,\u001b[49m\n\u001b[32m   2608\u001b[39m \u001b[43m        \u001b[49m\u001b[43mpath\u001b[49m\u001b[43m=\u001b[49m\u001b[43mpath\u001b[49m\u001b[43m,\u001b[49m\n\u001b[32m   2609\u001b[39m \u001b[43m        \u001b[49m\u001b[43mbatch_filter_parameters\u001b[49m\u001b[43m=\u001b[49m\u001b[43mbatch_filter_parameters\u001b[49m\u001b[43m,\u001b[49m\n\u001b[32m   2610\u001b[39m \u001b[43m        \u001b[49m\u001b[43mbatch_spec_passthrough\u001b[49m\u001b[43m=\u001b[49m\u001b[43mbatch_spec_passthrough\u001b[49m\u001b[43m,\u001b[49m\n\u001b[32m   2611\u001b[39m \u001b[43m        \u001b[49m\u001b[43mbatch_request_options\u001b[49m\u001b[43m=\u001b[49m\u001b[43mbatch_request_options\u001b[49m\u001b[43m,\u001b[49m\n\u001b[32m   2612\u001b[39m \u001b[43m        \u001b[49m\u001b[43m*\u001b[49m\u001b[43m*\u001b[49m\u001b[43mkwargs\u001b[49m\u001b[43m,\u001b[49m\n\u001b[32m   2613\u001b[39m \u001b[43m    \u001b[49m\u001b[43m)\u001b[49m\n\u001b[32m   2614\u001b[39m     datasource_name = result.datasource_name\n\u001b[32m   2616\u001b[39m     datasource = \u001b[38;5;28mself\u001b[39m.datasources.get(datasource_name)\n",
      "\u001b[36mFile \u001b[39m\u001b[32m~\\AppData\\Local\\Programs\\Python\\Python313\\Lib\\site-packages\\great_expectations\\core\\batch.py:1265\u001b[39m, in \u001b[36mget_batch_request_from_acceptable_arguments\u001b[39m\u001b[34m(datasource_name, data_connector_name, data_asset_name, batch_request, batch_data, data_connector_query, batch_identifiers, limit, index, custom_filter_function, batch_spec_passthrough, sampling_method, sampling_kwargs, splitter_method, splitter_kwargs, runtime_parameters, query, path, batch_filter_parameters, batch_request_options, **kwargs)\u001b[39m\n\u001b[32m   1260\u001b[39m \u001b[38;5;28;01mif\u001b[39;00m batch_request:\n\u001b[32m   1261\u001b[39m     \u001b[38;5;28;01mif\u001b[39;00m \u001b[38;5;129;01mnot\u001b[39;00m \u001b[38;5;28misinstance\u001b[39m(\n\u001b[32m   1262\u001b[39m         batch_request,\n\u001b[32m   1263\u001b[39m         (BatchRequest, RuntimeBatchRequest, _get_fluent_batch_request_class()),\n\u001b[32m   1264\u001b[39m     ):\n\u001b[32m-> \u001b[39m\u001b[32m1265\u001b[39m         \u001b[38;5;28;01mraise\u001b[39;00m \u001b[38;5;167;01mTypeError\u001b[39;00m(\n\u001b[32m   1266\u001b[39m             \u001b[33m\"\u001b[39m\u001b[33mbatch_request must be a BatchRequest, RuntimeBatchRequest, or a \u001b[39m\u001b[33m\"\u001b[39m\n\u001b[32m   1267\u001b[39m             \u001b[33mf\u001b[39m\u001b[33m\"\u001b[39m\u001b[33mfluent BatchRequest object, not \u001b[39m\u001b[38;5;132;01m{\u001b[39;00m\u001b[38;5;28mtype\u001b[39m(batch_request)\u001b[38;5;132;01m}\u001b[39;00m\u001b[33m\"\u001b[39m\n\u001b[32m   1268\u001b[39m         )\n\u001b[32m   1270\u001b[39m     \u001b[38;5;28;01mreturn\u001b[39;00m batch_request\n\u001b[32m   1272\u001b[39m \u001b[38;5;66;03m# try to get a runtime batch request\u001b[39;00m\n",
      "\u001b[31mTypeError\u001b[39m: batch_request must be a BatchRequest, RuntimeBatchRequest, or a fluent BatchRequest object, not <class 'dict'>"
     ]
    }
   ],
   "source": [
    "import pandas as pd\n",
    "import great_expectations as gx\n",
    "from great_expectations.data_context import EphemeralDataContext\n",
    "from great_expectations.data_context.types.base import (\n",
    "    DataContextConfig,\n",
    "    InMemoryStoreBackendDefaults\n",
    ")\n",
    "\n",
    "# Step 1: Create the in-memory config and context\n",
    "config = DataContextConfig(\n",
    "    store_backend_defaults=InMemoryStoreBackendDefaults()\n",
    ")\n",
    "context = EphemeralDataContext(project_config=config)\n",
    "\n",
    "# Step 2: Define and add a pandas datasource using a config dict\n",
    "pandas_datasource_config = {\n",
    "    \"name\": \"temperature_data\",\n",
    "    \"class_name\": \"Datasource\",\n",
    "    \"execution_engine\": {\n",
    "        \"class_name\": \"PandasExecutionEngine\"\n",
    "    },\n",
    "    \"data_connectors\": {\n",
    "        \"default_runtime_data_connector_name\": {\n",
    "            \"class_name\": \"RuntimeDataConnector\",\n",
    "            \"batch_identifiers\": [\"default_identifier_name\"]\n",
    "        }\n",
    "    }\n",
    "}\n",
    "\n",
    "context.add_or_update_datasource(**pandas_datasource_config)\n",
    "\n",
    "# Step 3: Create some dummy data\n",
    "df = pd.DataFrame({\n",
    "    \"temperature\": [22, 25, 23, 21],\n",
    "    \"humidity\": [30, 45, 50, 40]\n",
    "})\n",
    "\n",
    "# Step 4: Build batch request\n",
    "batch_request = {\n",
    "    \"datasource_name\": \"temperature_data\",\n",
    "    \"data_connector_name\": \"default_runtime_data_connector_name\",\n",
    "    \"data_asset_name\": \"weather_asset\",\n",
    "    \"runtime_parameters\": {\"batch_data\": df},\n",
    "    \"batch_identifiers\": {\"default_identifier_name\": \"batch_1\"}\n",
    "}\n",
    "\n",
    "# Step 5: Get a validator to start testing\n",
    "validator = context.get_validator(batch_request=batch_request)\n",
    "validator.head()\n"
   ]
  },
  {
   "cell_type": "code",
   "execution_count": null,
   "id": "4622c501-9063-46af-ae14-bc8690c7f06c",
   "metadata": {},
   "outputs": [],
   "source": []
  }
 ],
 "metadata": {
  "kernelspec": {
   "display_name": "Python 3 (ipykernel)",
   "language": "python",
   "name": "python3"
  },
  "language_info": {
   "codemirror_mode": {
    "name": "ipython",
    "version": 3
   },
   "file_extension": ".py",
   "mimetype": "text/x-python",
   "name": "python",
   "nbconvert_exporter": "python",
   "pygments_lexer": "ipython3",
   "version": "3.13.3"
  },
  "widgets": {
   "application/vnd.jupyter.widget-state+json": {
    "state": {},
    "version_major": 2,
    "version_minor": 0
   }
  }
 },
 "nbformat": 4,
 "nbformat_minor": 5
}
