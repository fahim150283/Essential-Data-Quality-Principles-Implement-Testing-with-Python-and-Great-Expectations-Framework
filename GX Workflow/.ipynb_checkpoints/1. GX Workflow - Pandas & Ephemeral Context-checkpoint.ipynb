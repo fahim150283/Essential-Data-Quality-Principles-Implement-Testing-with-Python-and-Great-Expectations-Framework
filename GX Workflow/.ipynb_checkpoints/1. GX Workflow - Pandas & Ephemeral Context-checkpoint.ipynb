{
 "cells": [
  {
   "cell_type": "markdown",
   "id": "1955b08a",
   "metadata": {},
   "source": [
    "### Import Libraries"
   ]
  },
  {
   "cell_type": "code",
   "execution_count": 21,
   "id": "d75dc4e6",
   "metadata": {},
   "outputs": [
    {
     "name": "stdout",
     "output_type": "stream",
     "text": [
      "0.18.8\n",
      "2.2.3\n"
     ]
    }
   ],
   "source": [
    "import great_expectations as gx\n",
    "import pandas as pd\n",
    "from great_expectations.data_context import EphemeralDataContext\n",
    "from great_expectations.data_context.types.base import (\n",
    "    DataContextConfig,\n",
    "    InMemoryStoreBackendDefaults\n",
    ")\n",
    "print(gx.__version__)\n",
    "print(pd.__version__)"
   ]
  },
  {
   "cell_type": "markdown",
   "id": "b9cc9d9e",
   "metadata": {},
   "source": [
    "### Creating GX Context "
   ]
  },
  {
   "cell_type": "code",
   "execution_count": 20,
   "id": "4dbcb441",
   "metadata": {
    "scrolled": true
   },
   "outputs": [
    {
     "ename": "TypeError",
     "evalue": "EphemeralDataContext.__init__() missing 1 required positional argument: 'project_config'",
     "output_type": "error",
     "traceback": [
      "\u001b[31m---------------------------------------------------------------------------\u001b[39m",
      "\u001b[31mTypeError\u001b[39m                                 Traceback (most recent call last)",
      "\u001b[36mCell\u001b[39m\u001b[36m \u001b[39m\u001b[32mIn[20]\u001b[39m\u001b[32m, line 1\u001b[39m\n\u001b[32m----> \u001b[39m\u001b[32m1\u001b[39m context = \u001b[43mEphemeralDataContext\u001b[49m\u001b[43m(\u001b[49m\u001b[43m)\u001b[49m\n",
      "\u001b[31mTypeError\u001b[39m: EphemeralDataContext.__init__() missing 1 required positional argument: 'project_config'"
     ]
    }
   ],
   "source": [
    "context = gx.get_context(mode=\"ephemeral\")\n"
   ]
  },
  {
   "cell_type": "markdown",
   "id": "2da328f2",
   "metadata": {},
   "source": [
    "### Creating DataSource"
   ]
  },
  {
   "cell_type": "code",
   "execution_count": null,
   "id": "6d6eba27",
   "metadata": {},
   "outputs": [],
   "source": [
    "context.datasources.add_pandas(name=\"temperature_data\")\n",
    "\n",
    "# Define datasource configuration for Pandas\n",
    "pandas_datasource_config = {\n",
    "    \"name\": \"temperature_data\",\n",
    "    \"class_name\": \"Datasource\",\n",
    "    \"execution_engine\": {\n",
    "        \"class_name\": \"PandasExecutionEngine\"\n",
    "    },\n",
    "    \"data_connectors\": {\n",
    "        \"default_runtime_data_connector_name\": {\n",
    "            \"class_name\": \"RuntimeDataConnector\",\n",
    "            \"batch_identifiers\": [\"default_identifier_name\"]\n",
    "        }\n",
    "    }\n",
    "}"
   ]
  },
  {
   "cell_type": "markdown",
   "id": "56f4b24a",
   "metadata": {},
   "source": [
    "### Creating DataAsset\n"
   ]
  },
  {
   "cell_type": "code",
   "execution_count": null,
   "id": "a0649c66",
   "metadata": {},
   "outputs": [],
   "source": [
    "data_asset_name = 'temperature_entity_asset'\n",
    "data_asset = data_source.add_dataframe_asset(name = data_asset_name)\n"
   ]
  },
  {
   "cell_type": "markdown",
   "id": "e4b185fd",
   "metadata": {},
   "source": [
    "### Creating BatchDefinition"
   ]
  },
  {
   "cell_type": "code",
   "execution_count": null,
   "id": "0468f815",
   "metadata": {},
   "outputs": [],
   "source": [
    "batch_definition_name ='full_batch'\n",
    "batch_definition = data_asset.add_batch_definition_whole_dataframe(batch_definition_name)\n"
   ]
  },
  {
   "cell_type": "markdown",
   "id": "c284d330",
   "metadata": {},
   "source": [
    "### Creating Expectations"
   ]
  },
  {
   "cell_type": "code",
   "execution_count": null,
   "id": "5200599b",
   "metadata": {},
   "outputs": [],
   "source": [
    "expectation_temp = gx.expectations.ExpectColumnValuesToBeBetween(column=\"Temperature\", \n",
    "                                                            max_value=45, min_value=10)\n"
   ]
  },
  {
   "cell_type": "code",
   "execution_count": null,
   "id": "5cfd53ca",
   "metadata": {},
   "outputs": [],
   "source": [
    "expectation_city = gx.expectations.ExpectColumnDistinctValuesToBeInSet(column=\"City\", \n",
    "                                                            value_set=[\"Mumbai\", \"Delhi\"])\n"
   ]
  },
  {
   "cell_type": "markdown",
   "id": "81da612a",
   "metadata": {},
   "source": [
    "### Creating ExpectationSuite and adding Expectations"
   ]
  },
  {
   "cell_type": "code",
   "execution_count": null,
   "id": "d8fe1ebd",
   "metadata": {},
   "outputs": [],
   "source": [
    "expectation_suite_name = \"temperature_data_suite\"\n",
    "expectation_suite_ref = gx.ExpectationSuite(name=expectation_suite_name)\n",
    "expectation_suite = context.suites.add(expectation_suite_ref)\n"
   ]
  },
  {
   "cell_type": "code",
   "execution_count": null,
   "id": "6bb45f11",
   "metadata": {},
   "outputs": [],
   "source": [
    "#Adding Expectation to ExpectationSuite    \n",
    "expectation_suite.add_expectation(expectation_temp)\n",
    "expectation_suite.add_expectation(expectation_city)\n"
   ]
  },
  {
   "cell_type": "markdown",
   "id": "b23d22b5",
   "metadata": {
    "scrolled": false
   },
   "source": [
    "### Creating Validation Definition"
   ]
  },
  {
   "cell_type": "code",
   "execution_count": null,
   "id": "33061e49",
   "metadata": {},
   "outputs": [],
   "source": [
    "validation_def_name = \"temperature_data_validation\"\n",
    "validation_definition_ref = gx.ValidationDefinition( data=batch_definition,\n",
    "                                             suite=expectation_suite,\n",
    "                                             name=validation_def_name)\n"
   ]
  },
  {
   "cell_type": "code",
   "execution_count": null,
   "id": "becbc511",
   "metadata": {},
   "outputs": [],
   "source": [
    "validation_definition = context.validation_definitions.add(validation_definition_ref)\n"
   ]
  },
  {
   "cell_type": "markdown",
   "id": "7f837c59",
   "metadata": {},
   "source": [
    "### Reading Data in Pandas DataFrame"
   ]
  },
  {
   "cell_type": "code",
   "execution_count": null,
   "id": "f1a3915b",
   "metadata": {},
   "outputs": [],
   "source": [
    "data_df = pd.read_csv('temperature.csv')\n",
    "data_df.head()\n"
   ]
  },
  {
   "cell_type": "markdown",
   "id": "dee74746",
   "metadata": {},
   "source": [
    "### Creating BatchParameter and running Validation"
   ]
  },
  {
   "cell_type": "code",
   "execution_count": null,
   "id": "f069132d",
   "metadata": {},
   "outputs": [],
   "source": [
    "batch_parameters = {\"dataframe\": data_df}\n"
   ]
  },
  {
   "cell_type": "code",
   "execution_count": null,
   "id": "e6e0afd4",
   "metadata": {},
   "outputs": [],
   "source": [
    "validation_result = validation_definition.run(batch_parameters=batch_parameters)\n"
   ]
  },
  {
   "cell_type": "markdown",
   "id": "1db27ee7",
   "metadata": {
    "scrolled": false
   },
   "source": [
    "### Displaying Validation Result"
   ]
  },
  {
   "cell_type": "code",
   "execution_count": null,
   "id": "14aaa7fd",
   "metadata": {},
   "outputs": [],
   "source": [
    "print(validation_result)\n"
   ]
  },
  {
   "cell_type": "code",
   "execution_count": null,
   "id": "08701506",
   "metadata": {},
   "outputs": [],
   "source": []
  }
 ],
 "metadata": {
  "kernelspec": {
   "display_name": "Python 3 (ipykernel)",
   "language": "python",
   "name": "python3"
  },
  "language_info": {
   "codemirror_mode": {
    "name": "ipython",
    "version": 3
   },
   "file_extension": ".py",
   "mimetype": "text/x-python",
   "name": "python",
   "nbconvert_exporter": "python",
   "pygments_lexer": "ipython3",
   "version": "3.13.3"
  },
  "widgets": {
   "application/vnd.jupyter.widget-state+json": {
    "state": {},
    "version_major": 2,
    "version_minor": 0
   }
  }
 },
 "nbformat": 4,
 "nbformat_minor": 5
}
