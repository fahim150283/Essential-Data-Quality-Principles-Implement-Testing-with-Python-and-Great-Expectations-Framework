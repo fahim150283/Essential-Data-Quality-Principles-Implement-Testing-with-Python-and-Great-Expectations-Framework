{
 "cells": [
  {
   "metadata": {
    "ExecuteTime": {
     "end_time": "2025-06-21T07:00:50.788969Z",
     "start_time": "2025-06-21T07:00:47.821726Z"
    }
   },
   "cell_type": "code",
   "source": "pip install great_expectations",
   "id": "839f3a44d67105b4",
   "outputs": [
    {
     "name": "stdout",
     "output_type": "stream",
     "text": [
      "Defaulting to user installation because normal site-packages is not writeable\n",
      "Requirement already satisfied: great_expectations in c:\\users\\techteam-08\\appdata\\roaming\\python\\python312\\site-packages (1.5.1)\n",
      "Requirement already satisfied: altair<5.0.0,>=4.2.1 in c:\\users\\techteam-08\\appdata\\roaming\\python\\python312\\site-packages (from great_expectations) (4.2.2)\n",
      "Requirement already satisfied: cryptography>=3.2 in c:\\programdata\\anaconda3\\lib\\site-packages (from great_expectations) (43.0.0)\n",
      "Requirement already satisfied: jinja2>=3 in c:\\programdata\\anaconda3\\lib\\site-packages (from great_expectations) (3.1.4)\n",
      "Requirement already satisfied: jsonschema>=2.5.1 in c:\\programdata\\anaconda3\\lib\\site-packages (from great_expectations) (4.23.0)\n",
      "Requirement already satisfied: marshmallow<4.0.0,>=3.7.1 in c:\\users\\techteam-08\\appdata\\roaming\\python\\python312\\site-packages (from great_expectations) (3.26.1)\n",
      "Requirement already satisfied: mistune>=0.8.4 in c:\\programdata\\anaconda3\\lib\\site-packages (from great_expectations) (2.0.4)\n",
      "Requirement already satisfied: packaging in c:\\programdata\\anaconda3\\lib\\site-packages (from great_expectations) (24.1)\n",
      "Requirement already satisfied: posthog<4,>3 in c:\\users\\techteam-08\\appdata\\roaming\\python\\python312\\site-packages (from great_expectations) (3.25.0)\n",
      "Requirement already satisfied: pydantic>=1.10.7 in c:\\programdata\\anaconda3\\lib\\site-packages (from great_expectations) (2.8.2)\n",
      "Requirement already satisfied: pyparsing>=2.4 in c:\\programdata\\anaconda3\\lib\\site-packages (from great_expectations) (3.1.2)\n",
      "Requirement already satisfied: python-dateutil>=2.8.1 in c:\\programdata\\anaconda3\\lib\\site-packages (from great_expectations) (2.9.0.post0)\n",
      "Requirement already satisfied: requests>=2.20 in c:\\programdata\\anaconda3\\lib\\site-packages (from great_expectations) (2.32.3)\n",
      "Requirement already satisfied: ruamel.yaml>=0.16 in c:\\programdata\\anaconda3\\lib\\site-packages (from great_expectations) (0.18.6)\n",
      "Requirement already satisfied: scipy>=1.6.0 in c:\\programdata\\anaconda3\\lib\\site-packages (from great_expectations) (1.13.1)\n",
      "Requirement already satisfied: tqdm>=4.59.0 in c:\\programdata\\anaconda3\\lib\\site-packages (from great_expectations) (4.66.5)\n",
      "Requirement already satisfied: typing-extensions>=4.1.0 in c:\\programdata\\anaconda3\\lib\\site-packages (from great_expectations) (4.11.0)\n",
      "Requirement already satisfied: tzlocal>=1.2 in c:\\users\\techteam-08\\appdata\\roaming\\python\\python312\\site-packages (from great_expectations) (5.3.1)\n",
      "Requirement already satisfied: numpy>=1.22.4 in c:\\programdata\\anaconda3\\lib\\site-packages (from great_expectations) (1.26.4)\n",
      "Requirement already satisfied: pandas<2.2,>=1.3.0 in c:\\users\\techteam-08\\appdata\\roaming\\python\\python312\\site-packages (from great_expectations) (2.1.4)\n",
      "Requirement already satisfied: entrypoints in c:\\users\\techteam-08\\appdata\\roaming\\python\\python312\\site-packages (from altair<5.0.0,>=4.2.1->great_expectations) (0.4)\n",
      "Requirement already satisfied: toolz in c:\\programdata\\anaconda3\\lib\\site-packages (from altair<5.0.0,>=4.2.1->great_expectations) (0.12.0)\n",
      "Requirement already satisfied: cffi>=1.12 in c:\\programdata\\anaconda3\\lib\\site-packages (from cryptography>=3.2->great_expectations) (1.17.1)\n",
      "Requirement already satisfied: MarkupSafe>=2.0 in c:\\programdata\\anaconda3\\lib\\site-packages (from jinja2>=3->great_expectations) (2.1.3)\n",
      "Requirement already satisfied: attrs>=22.2.0 in c:\\programdata\\anaconda3\\lib\\site-packages (from jsonschema>=2.5.1->great_expectations) (23.1.0)\n",
      "Requirement already satisfied: jsonschema-specifications>=2023.03.6 in c:\\programdata\\anaconda3\\lib\\site-packages (from jsonschema>=2.5.1->great_expectations) (2023.7.1)\n",
      "Requirement already satisfied: referencing>=0.28.4 in c:\\programdata\\anaconda3\\lib\\site-packages (from jsonschema>=2.5.1->great_expectations) (0.30.2)\n",
      "Requirement already satisfied: rpds-py>=0.7.1 in c:\\programdata\\anaconda3\\lib\\site-packages (from jsonschema>=2.5.1->great_expectations) (0.10.6)\n",
      "Requirement already satisfied: pytz>=2020.1 in c:\\programdata\\anaconda3\\lib\\site-packages (from pandas<2.2,>=1.3.0->great_expectations) (2024.1)\n",
      "Requirement already satisfied: tzdata>=2022.1 in c:\\programdata\\anaconda3\\lib\\site-packages (from pandas<2.2,>=1.3.0->great_expectations) (2023.3)\n",
      "Requirement already satisfied: six>=1.5 in c:\\programdata\\anaconda3\\lib\\site-packages (from posthog<4,>3->great_expectations) (1.16.0)\n",
      "Requirement already satisfied: monotonic>=1.5 in c:\\users\\techteam-08\\appdata\\roaming\\python\\python312\\site-packages (from posthog<4,>3->great_expectations) (1.6)\n",
      "Requirement already satisfied: backoff>=1.10.0 in c:\\users\\techteam-08\\appdata\\roaming\\python\\python312\\site-packages (from posthog<4,>3->great_expectations) (2.2.1)\n",
      "Requirement already satisfied: distro>=1.5.0 in c:\\programdata\\anaconda3\\lib\\site-packages (from posthog<4,>3->great_expectations) (1.9.0)\n",
      "Requirement already satisfied: annotated-types>=0.4.0 in c:\\programdata\\anaconda3\\lib\\site-packages (from pydantic>=1.10.7->great_expectations) (0.6.0)\n",
      "Requirement already satisfied: pydantic-core==2.20.1 in c:\\programdata\\anaconda3\\lib\\site-packages (from pydantic>=1.10.7->great_expectations) (2.20.1)\n",
      "Requirement already satisfied: charset-normalizer<4,>=2 in c:\\programdata\\anaconda3\\lib\\site-packages (from requests>=2.20->great_expectations) (3.3.2)\n",
      "Requirement already satisfied: idna<4,>=2.5 in c:\\programdata\\anaconda3\\lib\\site-packages (from requests>=2.20->great_expectations) (3.7)\n",
      "Requirement already satisfied: urllib3<3,>=1.21.1 in c:\\programdata\\anaconda3\\lib\\site-packages (from requests>=2.20->great_expectations) (2.2.3)\n",
      "Requirement already satisfied: certifi>=2017.4.17 in c:\\programdata\\anaconda3\\lib\\site-packages (from requests>=2.20->great_expectations) (2024.8.30)\n",
      "Requirement already satisfied: ruamel.yaml.clib>=0.2.7 in c:\\programdata\\anaconda3\\lib\\site-packages (from ruamel.yaml>=0.16->great_expectations) (0.2.8)\n",
      "Requirement already satisfied: colorama in c:\\programdata\\anaconda3\\lib\\site-packages (from tqdm>=4.59.0->great_expectations) (0.4.6)\n",
      "Requirement already satisfied: pycparser in c:\\programdata\\anaconda3\\lib\\site-packages (from cffi>=1.12->cryptography>=3.2->great_expectations) (2.21)\n",
      "Note: you may need to restart the kernel to use updated packages.\n"
     ]
    }
   ],
   "execution_count": 2
  },
  {
   "metadata": {
    "ExecuteTime": {
     "end_time": "2025-06-21T07:00:57.749042Z",
     "start_time": "2025-06-21T07:00:55.791160Z"
    }
   },
   "cell_type": "code",
   "source": "pip install pandas",
   "id": "2f298eee0b24fec1",
   "outputs": [
    {
     "name": "stdout",
     "output_type": "stream",
     "text": [
      "Defaulting to user installation because normal site-packages is not writeable\n",
      "Requirement already satisfied: pandas in c:\\users\\techteam-08\\appdata\\roaming\\python\\python312\\site-packages (2.1.4)\n",
      "Requirement already satisfied: numpy<2,>=1.26.0 in c:\\programdata\\anaconda3\\lib\\site-packages (from pandas) (1.26.4)\n",
      "Requirement already satisfied: python-dateutil>=2.8.2 in c:\\programdata\\anaconda3\\lib\\site-packages (from pandas) (2.9.0.post0)\n",
      "Requirement already satisfied: pytz>=2020.1 in c:\\programdata\\anaconda3\\lib\\site-packages (from pandas) (2024.1)\n",
      "Requirement already satisfied: tzdata>=2022.1 in c:\\programdata\\anaconda3\\lib\\site-packages (from pandas) (2023.3)\n",
      "Requirement already satisfied: six>=1.5 in c:\\programdata\\anaconda3\\lib\\site-packages (from python-dateutil>=2.8.2->pandas) (1.16.0)\n",
      "Note: you may need to restart the kernel to use updated packages.\n"
     ]
    }
   ],
   "execution_count": 3
  },
  {
   "metadata": {},
   "cell_type": "markdown",
   "source": "### Import Libraries",
   "id": "d50842acca2dea5c"
  },
  {
   "metadata": {
    "ExecuteTime": {
     "end_time": "2025-06-21T07:01:06.205119Z",
     "start_time": "2025-06-21T07:01:01.063573Z"
    }
   },
   "cell_type": "code",
   "source": [
    "from lib2to3.fixes.fix_input import context\n",
    "\n",
    "import pandas as pd\n",
    "import json\n",
    "import great_expectations as gx\n",
    "import sys\n",
    "import re\n",
    "import os\n",
    "\n",
    "from dask.graph_manipulation import checkpoint\n",
    "from great_expectations.checkpoint.actions import EmailAction\n",
    "from great_expectations.expectations.expectation import ColumnMapExpectation\n",
    "from great_expectations.execution_engine.pandas_execution_engine import PandasExecutionEngine\n",
    "from great_expectations.execution_engine.sqlalchemy_execution_engine import SqlAlchemyExecutionEngine\n",
    "from great_expectations.expectations.metrics import ColumnMapMetricProvider\n",
    "from great_expectations.expectations.metrics.map_metric_provider import (column_map_metric_provider,\n",
    "                                                                         column_condition_partial)"
   ],
   "id": "2e52bd03393f6d94",
   "outputs": [
    {
     "name": "stderr",
     "output_type": "stream",
     "text": [
      "C:\\Users\\TechTeam-08\\AppData\\Local\\Temp\\ipykernel_7516\\3719639461.py:1: DeprecationWarning: lib2to3 package is deprecated and may not be able to parse Python 3.10+\n",
      "  from lib2to3.fixes.fix_input import context\n"
     ]
    }
   ],
   "execution_count": 4
  },
  {
   "metadata": {},
   "cell_type": "markdown",
   "source": "### Creating GX Context",
   "id": "d86a4ed17d1451e6"
  },
  {
   "metadata": {
    "ExecuteTime": {
     "end_time": "2025-06-21T07:01:06.944148Z",
     "start_time": "2025-06-21T07:01:06.883780Z"
    }
   },
   "cell_type": "code",
   "source": "context = gx.get_context(mode=\"ephemeral\")",
   "id": "c7d23321d0fb0520",
   "outputs": [],
   "execution_count": 5
  },
  {
   "metadata": {},
   "cell_type": "markdown",
   "source": "### Creating Datasource",
   "id": "b266b3d8271079f3"
  },
  {
   "metadata": {
    "ExecuteTime": {
     "end_time": "2025-06-21T07:02:05.422813Z",
     "start_time": "2025-06-21T07:02:05.412997Z"
    }
   },
   "cell_type": "code",
   "source": [
    "data_source_name ='temperature_data'\n",
    "data_source = context.data_sources.add_pandas(name=data_source_name)"
   ],
   "id": "77f06f2468867b3d",
   "outputs": [],
   "execution_count": 7
  },
  {
   "metadata": {},
   "cell_type": "markdown",
   "source": "### Creating DataAsset",
   "id": "607aaddd988ce320"
  },
  {
   "metadata": {
    "ExecuteTime": {
     "end_time": "2025-06-21T07:02:08.796057Z",
     "start_time": "2025-06-21T07:02:08.787671Z"
    }
   },
   "cell_type": "code",
   "source": [
    "data_asset_name = \"emp_asset\"\n",
    "data_asset = data_source.add_dataframe_asset(name=data_asset_name)"
   ],
   "id": "d3dbe15814ea0575",
   "outputs": [],
   "execution_count": 8
  },
  {
   "metadata": {},
   "cell_type": "markdown",
   "source": "### Creating Batch Definition",
   "id": "415bd5203d450f6d"
  },
  {
   "metadata": {
    "ExecuteTime": {
     "end_time": "2025-06-21T07:02:11.214180Z",
     "start_time": "2025-06-21T07:02:11.206810Z"
    }
   },
   "cell_type": "code",
   "source": [
    "batch_definition_name = \"emp_batch\"\n",
    "batch_definition = data_asset.add_batch_definition_whole_dataframe(batch_definition_name)"
   ],
   "id": "af20d1797a96742c",
   "outputs": [],
   "execution_count": 9
  },
  {
   "metadata": {},
   "cell_type": "markdown",
   "source": "### Creating Metric for PAN Validation",
   "id": "e3033ca883d98577"
  },
  {
   "metadata": {
    "ExecuteTime": {
     "end_time": "2025-06-21T07:02:14.276258Z",
     "start_time": "2025-06-21T07:02:14.270365Z"
    }
   },
   "cell_type": "code",
   "source": [
    "class ColumnValuesToMatchPanFormat(ColumnMapMetricProvider):\n",
    "    condition_metric_name = \"column_values.match_pan_format\"\n",
    "\n",
    "    @column_condition_partial(engine=PandasExecutionEngine)\n",
    "    def _pandas(cls, column, **kwargs):\n",
    "        pan_regex = r\"^[A-Z]{5}[0-9]{4}[A-Z]{1}$\"\n",
    "        return column.apply(lambda x: bool(re.match(pan_regex, str(x))))\n",
    "\n",
    "    @column_condition_partial(engine=SqlAlchemyExecutionEngine)\n",
    "    def _sqlalchemy(cls, column, **kwargs):\n",
    "        pan_regex = r\"^[A-Z]{5}[0-9]{4}[A-Z]{1}$\"\n",
    "        return column.like(f'[A-Z]{5}[0-9]{4}[A-Z]{1}')"
   ],
   "id": "70dcf34b96e87a52",
   "outputs": [],
   "execution_count": 10
  },
  {
   "metadata": {},
   "cell_type": "markdown",
   "source": "### Create Custom Expectation",
   "id": "43d9ebb623decfe7"
  },
  {
   "metadata": {
    "ExecuteTime": {
     "end_time": "2025-06-21T07:02:18.028334Z",
     "start_time": "2025-06-21T07:02:18.021210Z"
    }
   },
   "cell_type": "code",
   "source": [
    "class ExpectColumnValuesToMatchPanFormat(ColumnMapExpectation):\n",
    "    map_metric = \"column_values.match_pan_format\"\n",
    "    success_keys = (\"mostly\",)\n",
    "    default_kwarg_values = {\n",
    "        \"mostly\": 1.0,\n",
    "        \"result_format\": \"BASIC\",\n",
    "        \"include_config\": True\n",
    "    }"
   ],
   "id": "2038f69824fa43d",
   "outputs": [],
   "execution_count": 11
  },
  {
   "metadata": {},
   "cell_type": "markdown",
   "source": "### Creating Expectation",
   "id": "235ec860a7b6e678"
  },
  {
   "metadata": {
    "ExecuteTime": {
     "end_time": "2025-06-21T07:02:20.364145Z",
     "start_time": "2025-06-21T07:02:20.359479Z"
    }
   },
   "cell_type": "code",
   "source": "expectation_pan = ExpectColumnValuesToMatchPanFormat(column=\"pan\")",
   "id": "f08503896353dca8",
   "outputs": [],
   "execution_count": 12
  },
  {
   "metadata": {},
   "cell_type": "markdown",
   "source": "### Creating ExpectationSuite and Adding Expectations",
   "id": "99893e847fa265b2"
  },
  {
   "metadata": {
    "ExecuteTime": {
     "end_time": "2025-06-21T07:02:22.828980Z",
     "start_time": "2025-06-21T07:02:22.789564Z"
    }
   },
   "cell_type": "code",
   "source": [
    "expectation_suite_name = \"emp_suite\"\n",
    "expectation_suite_ref = gx.ExpectationSuite(name=expectation_suite_name)\n",
    "expectation_suite = context.suites.add(expectation_suite_ref)"
   ],
   "id": "9a93e5cfb5895fe8",
   "outputs": [],
   "execution_count": 13
  },
  {
   "metadata": {
    "ExecuteTime": {
     "end_time": "2025-06-21T07:02:35.664842Z",
     "start_time": "2025-06-21T07:02:35.614185Z"
    }
   },
   "cell_type": "code",
   "source": "expectation_suite.add_expectation(expectation_pan)",
   "id": "15ed4ea65b57e684",
   "outputs": [
    {
     "data": {
      "text/plain": [
       "ExpectColumnValuesToMatchPanFormat(id='fc561e25-2d4c-4137-941f-69884e079482', meta=None, notes=None, result_format=<ResultFormat.BASIC: 'BASIC'>, description=None, catch_exceptions=True, rendered_content=None, windows=None, batch_id=None, column='pan', mostly=1, row_condition=None, condition_parser=None, default_kwarg_values={'mostly': 1.0, 'result_format': 'BASIC', 'include_config': True})"
      ]
     },
     "execution_count": 16,
     "metadata": {},
     "output_type": "execute_result"
    }
   ],
   "execution_count": 16
  },
  {
   "metadata": {},
   "cell_type": "markdown",
   "source": "### Creating Validation Definition",
   "id": "1d12c2149dc2b606"
  },
  {
   "metadata": {
    "ExecuteTime": {
     "end_time": "2025-06-21T07:02:37.580394Z",
     "start_time": "2025-06-21T07:02:37.574631Z"
    }
   },
   "cell_type": "code",
   "source": [
    "validation_def_name = \"emp_data_validation\"\n",
    "validation_definition_ref = gx.ValidationDefinition(data=batch_definition,\n",
    "                                                    suite=expectation_suite,\n",
    "                                                    name=validation_def_name)"
   ],
   "id": "d3c368b371208854",
   "outputs": [],
   "execution_count": 17
  },
  {
   "metadata": {
    "ExecuteTime": {
     "end_time": "2025-06-21T07:03:34.886524Z",
     "start_time": "2025-06-21T07:03:34.838227Z"
    }
   },
   "cell_type": "code",
   "source": "validation_definition = context.validation_definitions.add(validation_definition_ref)",
   "id": "978be02a224124da",
   "outputs": [],
   "execution_count": 20
  },
  {
   "metadata": {},
   "cell_type": "markdown",
   "source": "### Creating Send Email Action",
   "id": "c5de5d675e92ab59"
  },
  {
   "metadata": {
    "ExecuteTime": {
     "end_time": "2025-06-21T07:03:37.434458Z",
     "start_time": "2025-06-21T07:03:37.418373Z"
    }
   },
   "cell_type": "code",
   "source": [
    "with open('../Email Credentials.json') as f:\n",
    "    data = json.load(f)\n",
    "\n",
    "mailserveraddr = data['email']['mailServer']\n",
    "fromaddr = data['email']['from']\n",
    "password = data['email']['password']\n",
    "to = data['email']['to']\n",
    "port = data['email']['port']"
   ],
   "id": "d57b0ea33f890611",
   "outputs": [],
   "execution_count": 21
  },
  {
   "metadata": {
    "ExecuteTime": {
     "end_time": "2025-06-21T07:03:39.483843Z",
     "start_time": "2025-06-21T07:03:39.252702Z"
    }
   },
   "cell_type": "code",
   "source": [
    "email_action = EmailAction(\n",
    "    name=\"email_action\",\n",
    "    notify_on=\"all\",  # or \"failure\" or \"success\" or \"warning\"\n",
    "    smtp_address=mailserveraddr,\n",
    "    smtp_port=port,\n",
    "    sender_password=password,\n",
    "    sender_login=fromaddr,\n",
    "    sender_emails=[to],\n",
    "    use_tls=True,\n",
    "    use_ssl=False\n",
    ")"
   ],
   "id": "4c3937c7b5c5185c",
   "outputs": [
    {
     "ename": "ValidationError",
     "evalue": "2 validation errors for EmailAction\nreceiver_emails\n  field required (type=value_error.missing)\nsender_emails\n  extra fields not permitted (type=value_error.extra)",
     "output_type": "error",
     "traceback": [
      "\u001B[1;31m---------------------------------------------------------------------------\u001B[0m",
      "\u001B[1;31mValidationError\u001B[0m                           Traceback (most recent call last)",
      "Cell \u001B[1;32mIn[22], line 1\u001B[0m\n\u001B[1;32m----> 1\u001B[0m email_action \u001B[38;5;241m=\u001B[39m EmailAction(\n\u001B[0;32m      2\u001B[0m     name\u001B[38;5;241m=\u001B[39m\u001B[38;5;124m\"\u001B[39m\u001B[38;5;124memail_action\u001B[39m\u001B[38;5;124m\"\u001B[39m,\n\u001B[0;32m      3\u001B[0m     notify_on\u001B[38;5;241m=\u001B[39m\u001B[38;5;124m\"\u001B[39m\u001B[38;5;124mall\u001B[39m\u001B[38;5;124m\"\u001B[39m,  \u001B[38;5;66;03m# or \"failure\" or \"success\" or \"warning\"\u001B[39;00m\n\u001B[0;32m      4\u001B[0m     smtp_address\u001B[38;5;241m=\u001B[39mmailserveraddr,\n\u001B[0;32m      5\u001B[0m     smtp_port\u001B[38;5;241m=\u001B[39mport,\n\u001B[0;32m      6\u001B[0m     sender_password\u001B[38;5;241m=\u001B[39mpassword,\n\u001B[0;32m      7\u001B[0m     sender_login\u001B[38;5;241m=\u001B[39mfromaddr,\n\u001B[0;32m      8\u001B[0m     sender_emails\u001B[38;5;241m=\u001B[39m[to],\n\u001B[0;32m      9\u001B[0m     use_tls\u001B[38;5;241m=\u001B[39m\u001B[38;5;28;01mTrue\u001B[39;00m,\n\u001B[0;32m     10\u001B[0m     use_ssl\u001B[38;5;241m=\u001B[39m\u001B[38;5;28;01mFalse\u001B[39;00m\n\u001B[0;32m     11\u001B[0m )\n",
      "File \u001B[1;32mC:\\ProgramData\\anaconda3\\Lib\\site-packages\\pydantic\\v1\\main.py:341\u001B[0m, in \u001B[0;36mBaseModel.__init__\u001B[1;34m(__pydantic_self__, **data)\u001B[0m\n\u001B[0;32m    339\u001B[0m values, fields_set, validation_error \u001B[38;5;241m=\u001B[39m validate_model(__pydantic_self__\u001B[38;5;241m.\u001B[39m\u001B[38;5;18m__class__\u001B[39m, data)\n\u001B[0;32m    340\u001B[0m \u001B[38;5;28;01mif\u001B[39;00m validation_error:\n\u001B[1;32m--> 341\u001B[0m     \u001B[38;5;28;01mraise\u001B[39;00m validation_error\n\u001B[0;32m    342\u001B[0m \u001B[38;5;28;01mtry\u001B[39;00m:\n\u001B[0;32m    343\u001B[0m     object_setattr(__pydantic_self__, \u001B[38;5;124m'\u001B[39m\u001B[38;5;124m__dict__\u001B[39m\u001B[38;5;124m'\u001B[39m, values)\n",
      "\u001B[1;31mValidationError\u001B[0m: 2 validation errors for EmailAction\nreceiver_emails\n  field required (type=value_error.missing)\nsender_emails\n  extra fields not permitted (type=value_error.extra)"
     ]
    }
   ],
   "execution_count": 22
  },
  {
   "metadata": {},
   "cell_type": "markdown",
   "source": "### Creating Checkpoint",
   "id": "3a97a8fa62a39f68"
  },
  {
   "metadata": {},
   "cell_type": "code",
   "source": [
    "checkpoint_name = \"emp_run_checkpoint\"\n",
    "checkpoint_to_add = gx.Checkpoint(\n",
    "    name=checkpoint_name,\n",
    "    validation_definitions=[validation_definition],\n",
    "    actions=[email_action],\n",
    "    result_format=\"COMPLETE\"\n",
    ")"
   ],
   "id": "af7db24abf1acd65",
   "outputs": [],
   "execution_count": null
  },
  {
   "metadata": {},
   "cell_type": "code",
   "source": "checkpoint = context.checkpoints.add(checkpoint_to_add)",
   "id": "e4d7c542c0cb7365",
   "outputs": [],
   "execution_count": null
  },
  {
   "metadata": {},
   "cell_type": "markdown",
   "source": "### Reading Data in Pandas DataFrame",
   "id": "8982d40343234a79"
  },
  {
   "metadata": {},
   "cell_type": "code",
   "source": [
    "data_df = pd.read_csv('temperature.csv')\n",
    "data_df.head()"
   ],
   "id": "ec47a40f9e6be7d9",
   "outputs": [],
   "execution_count": null
  },
  {
   "metadata": {},
   "cell_type": "markdown",
   "source": "### Creating BatchParameter",
   "id": "102131c9a5dc46f"
  },
  {
   "metadata": {},
   "cell_type": "code",
   "source": "batch_parameters = {\"dataframe\": data_df}",
   "id": "1c2e421067994e14",
   "outputs": [],
   "execution_count": null
  },
  {
   "metadata": {},
   "cell_type": "code",
   "source": "validation_results = checkpoint.run(batch_parameters=batch_parameters)\n",
   "id": "967afd4bff902e78",
   "outputs": [],
   "execution_count": null
  },
  {
   "metadata": {},
   "cell_type": "markdown",
   "source": "### Displaying validation results",
   "id": "7c1402bc222c31ed"
  },
  {
   "metadata": {},
   "cell_type": "code",
   "source": "print(validation_results)",
   "id": "4a73770e1f2774fa",
   "outputs": [],
   "execution_count": null
  }
 ],
 "metadata": {
  "kernelspec": {
   "display_name": "Python 3",
   "language": "python",
   "name": "python3"
  },
  "language_info": {
   "codemirror_mode": {
    "name": "ipython",
    "version": 2
   },
   "file_extension": ".py",
   "mimetype": "text/x-python",
   "name": "python",
   "nbconvert_exporter": "python",
   "pygments_lexer": "ipython2",
   "version": "2.7.6"
  }
 },
 "nbformat": 4,
 "nbformat_minor": 5
}
