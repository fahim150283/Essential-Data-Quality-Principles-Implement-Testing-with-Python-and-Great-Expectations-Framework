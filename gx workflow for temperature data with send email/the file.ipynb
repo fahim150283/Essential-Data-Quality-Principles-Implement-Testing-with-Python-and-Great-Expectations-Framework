{
 "cells": [
  {
   "metadata": {},
   "cell_type": "markdown",
   "source": "### Import Libraries",
   "id": "d50842acca2dea5c"
  },
  {
   "metadata": {
    "ExecuteTime": {
     "end_time": "2025-06-19T11:58:12.083699Z",
     "start_time": "2025-06-19T11:58:08.708827Z"
    }
   },
   "cell_type": "code",
   "source": [
    "from lib2to3.fixes.fix_input import context\n",
    "\n",
    "import pandas as pd\n",
    "import json\n",
    "import great_expectations as gx\n",
    "import sys\n",
    "import re\n",
    "import os\n",
    "from great_expectations.checkpoint.actions import EmailAction\n",
    "from great_expectations.expectations.expectation import ColumnMapExpectation\n",
    "from great_expectations.execution_engine.pandas_execution_engine import PandasExecutionEngine\n",
    "from great_expectations.execution_engine.sqlalchemy_execution_engine import SqlAlchemyExecutionEngine\n",
    "from great_expectations.expectations.metrics import ColumnMapMetricProvider\n",
    "from great_expectations.expectations.metrics.map_metric_provider import (column_map_metric_provider, column_condition_partial)"
   ],
   "id": "2e52bd03393f6d94",
   "outputs": [
    {
     "name": "stderr",
     "output_type": "stream",
     "text": [
      "C:\\Users\\TechTeam-08\\AppData\\Local\\Temp\\ipykernel_6480\\628268446.py:1: DeprecationWarning: lib2to3 package is deprecated and may not be able to parse Python 3.10+\n",
      "  from lib2to3.fixes.fix_input import context\n"
     ]
    }
   ],
   "execution_count": 1
  },
  {
   "metadata": {},
   "cell_type": "markdown",
   "source": "### Creating GX Context",
   "id": "d86a4ed17d1451e6"
  },
  {
   "metadata": {},
   "cell_type": "code",
   "source": "context = gx.get_context(mode=\"ephemeral\")",
   "id": "c7d23321d0fb0520",
   "outputs": [],
   "execution_count": null
  },
  {
   "metadata": {},
   "cell_type": "markdown",
   "source": "### Creating Datasource",
   "id": "b266b3d8271079f3"
  },
  {
   "metadata": {},
   "cell_type": "code",
   "source": [
    "data_source_name = \"emp data\"\n",
    "data_source = context.sources.add_pandas(name=data_source_name)"
   ],
   "id": "77f06f2468867b3d",
   "outputs": [],
   "execution_count": null
  },
  {
   "metadata": {},
   "cell_type": "markdown",
   "source": "### Creating DataAsset",
   "id": "607aaddd988ce320"
  },
  {
   "metadata": {},
   "cell_type": "code",
   "source": [
    "data_asset_name = \"emp_asset\"\n",
    "data_asset = data_source.add_dataframe_asset(name=data_asset_name)"
   ],
   "id": "d3dbe15814ea0575",
   "outputs": [],
   "execution_count": null
  },
  {
   "metadata": {},
   "cell_type": "markdown",
   "source": "### Creating Batch Definition",
   "id": "415bd5203d450f6d"
  },
  {
   "metadata": {},
   "cell_type": "code",
   "source": [
    "batch_definition_name = \"emp_batch\"\n",
    "batch_definition = data_asset.add_batch_definition_whole_dataframe(batch_definition_name)"
   ],
   "id": "af20d1797a96742c",
   "outputs": [],
   "execution_count": null
  },
  {
   "metadata": {},
   "cell_type": "markdown",
   "source": "### Creating Metric for PAN Validation",
   "id": "e3033ca883d98577"
  },
  {
   "metadata": {},
   "cell_type": "code",
   "source": [
    "class ColumnValuesToMatchPanFormat(ColumnMapMetricProvider):\n",
    "    condition_metric_name = \"column_values.match_pan_format\"\n",
    "\n",
    "    @column_condition_partial(engine=PandasExecutionEngine)\n",
    "    def _pandas(cls, column, **kwargs):\n",
    "        pan_regex = r\"^[A-Z]{5}[0-9]{4}[A-Z]{1}$\"\n",
    "        return column.apply(lambda x: bool(re.match(pan_regex, str(x))))\n",
    "\n",
    "    @column_condition_partial(engine=SqlAlchemyExecutionEngine)\n",
    "    def _sqlalchemy(cls, column, **kwargs):\n",
    "        pan_regex = r\"^[A-Z]{5}[0-9]{4}[A-Z]{1}$\"\n",
    "        return column.like(f'[A-Z]{5}[0-9]{4}[A-Z]{1}')"
   ],
   "id": "70dcf34b96e87a52",
   "outputs": [],
   "execution_count": null
  },
  {
   "metadata": {},
   "cell_type": "markdown",
   "source": "### Create Custom Expectation",
   "id": "43d9ebb623decfe7"
  },
  {
   "metadata": {},
   "cell_type": "code",
   "source": [
    "class ExpectColumnValuesToMatchPanFormat(ColumnMapExpectation):\n",
    "    map_metric = \"column_values.match_pan_format\"\n",
    "    success_keys = (\"mostly\",)\n",
    "    default_kwarg_values = {\n",
    "        \"mostly\": 1.0,\n",
    "        \"result_format\": \"BASIC\",\n",
    "        \"include_config\": True\n",
    "    }"
   ],
   "id": "2038f69824fa43d",
   "outputs": [],
   "execution_count": null
  },
  {
   "metadata": {},
   "cell_type": "markdown",
   "source": "### Creating Expectation",
   "id": "235ec860a7b6e678"
  },
  {
   "metadata": {},
   "cell_type": "code",
   "source": "expectation_pan = ExpectColumnValuesToMatchPanFormat(column=\"pan\")",
   "id": "f08503896353dca8",
   "outputs": [],
   "execution_count": null
  },
  {
   "metadata": {},
   "cell_type": "markdown",
   "source": "### Creating ExpectationSuite and Adding Expectations",
   "id": "99893e847fa265b2"
  },
  {
   "metadata": {},
   "cell_type": "code",
   "source": [
    "expectation_suite_name = \"emp_suite\"\n",
    "expectation_suite_ref = gx.ExpectationSuite(name=expectation_suite_name)\n",
    "expectation_suite = context.suites.add(expectation_suite_ref)"
   ],
   "id": "9a93e5cfb5895fe8",
   "outputs": [],
   "execution_count": null
  },
  {
   "metadata": {},
   "cell_type": "code",
   "source": "expectation_suite.add_expectation(expectation_pan)",
   "id": "15ed4ea65b57e684",
   "outputs": [],
   "execution_count": null
  },
  {
   "metadata": {},
   "cell_type": "markdown",
   "source": "### Creating Validation Definition",
   "id": "1d12c2149dc2b606"
  },
  {
   "metadata": {},
   "cell_type": "code",
   "source": [
    "validation_def_name = \"emp_data_validation\"\n",
    "validation_definition_ref = gx.ValidationDefinition( data=batch_definition,\n",
    "                                                    suite=expectation_suite,\n",
    "                                                    name=validation_def_name)"
   ],
   "id": "d3c368b371208854",
   "outputs": [],
   "execution_count": null
  },
  {
   "metadata": {},
   "cell_type": "code",
   "source": "validation_definition = context.validations.add(validation_definition_ref)",
   "id": "978be02a224124da",
   "outputs": [],
   "execution_count": null
  },
  {
   "metadata": {},
   "cell_type": "markdown",
   "source": "### Creating Send Email Action",
   "id": "c5de5d675e92ab59"
  },
  {
   "metadata": {
    "ExecuteTime": {
     "end_time": "2025-06-19T12:00:05.225845Z",
     "start_time": "2025-06-19T11:59:26.274118Z"
    }
   },
   "cell_type": "code",
   "source": [
    "# Opening JSON file\n",
    "f = open('C:\\\\Users\\\\TechTeam-08\\\\PycharmProjects\\\\Essential Data Quality Principles, Implement Testing with Python and Great Expectations Framework\\\\emp_details.json')\n",
    "\n",
    "# returns JSON object as a dictionary\n",
    "data = json.load(f)\n",
    "\n",
    "# Iterating through the json list\n",
    "for i in data['email']:\n",
    "    print(i)"
   ],
   "id": "d57b0ea33f890611",
   "outputs": [
    {
     "name": "stderr",
     "output_type": "stream",
     "text": [
      "\n",
      "KeyboardInterrupt\n",
      "\n"
     ]
    }
   ],
   "execution_count": 4
  },
  {
   "metadata": {},
   "cell_type": "code",
   "source": [
    "email_action = EmailAction(\n",
    "    name=\"send_email\",\n",
    "    notify_on = \"all\",\n",
    "    smtp_address=\"smtp.gmail.com\",\n",
    "    smtp_port=587,\n",
    "    sender_password ="
   ],
   "id": "4c3937c7b5c5185c",
   "outputs": [],
   "execution_count": null
  }
 ],
 "metadata": {
  "kernelspec": {
   "display_name": "Python 3",
   "language": "python",
   "name": "python3"
  },
  "language_info": {
   "codemirror_mode": {
    "name": "ipython",
    "version": 2
   },
   "file_extension": ".py",
   "mimetype": "text/x-python",
   "name": "python",
   "nbconvert_exporter": "python",
   "pygments_lexer": "ipython2",
   "version": "2.7.6"
  }
 },
 "nbformat": 4,
 "nbformat_minor": 5
}
