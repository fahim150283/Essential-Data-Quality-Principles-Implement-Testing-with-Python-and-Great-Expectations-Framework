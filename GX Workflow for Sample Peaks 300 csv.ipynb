{
 "cells": [
  {
   "cell_type": "markdown",
   "id": "1955b08a",
   "metadata": {},
   "source": [
    "### Import Libraries"
   ]
  },
  {
   "cell_type": "code",
   "execution_count": 1,
   "id": "d75dc4e6",
   "metadata": {
    "ExecuteTime": {
     "end_time": "2025-06-18T06:49:09.501136Z",
     "start_time": "2025-06-18T06:49:06.730352Z"
    }
   },
   "outputs": [],
   "source": [
    "import great_expectations as gx\n",
    "import pandas as pd"
   ]
  },
  {
   "cell_type": "markdown",
   "id": "b9cc9d9e",
   "metadata": {},
   "source": [
    "### Creating GX Context "
   ]
  },
  {
   "cell_type": "code",
   "execution_count": 2,
   "id": "4dbcb441",
   "metadata": {
    "ExecuteTime": {
     "end_time": "2025-06-18T06:49:09.611194Z",
     "start_time": "2025-06-18T06:49:09.566626Z"
    }
   },
   "outputs": [],
   "source": [
    "context = gx.get_context(mode=\"ephemeral\")\n"
   ]
  },
  {
   "cell_type": "markdown",
   "id": "2da328f2",
   "metadata": {},
   "source": [
    "### Creating DataSource"
   ]
  },
  {
   "cell_type": "code",
   "execution_count": 3,
   "id": "6d6eba27",
   "metadata": {
    "ExecuteTime": {
     "end_time": "2025-06-18T06:49:09.644274Z",
     "start_time": "2025-06-18T06:49:09.632342Z"
    }
   },
   "outputs": [],
   "source": [
    "data_source_name = 'sample_peaks_300'\n",
    "data_source = context.data_sources.add_pandas(name=data_source_name)"
   ]
  },
  {
   "cell_type": "markdown",
   "id": "56f4b24a",
   "metadata": {},
   "source": [
    "### Creating DataAsset\n"
   ]
  },
  {
   "cell_type": "code",
   "execution_count": 4,
   "id": "a0649c66",
   "metadata": {
    "ExecuteTime": {
     "end_time": "2025-06-18T06:49:09.670174Z",
     "start_time": "2025-06-18T06:49:09.661275Z"
    }
   },
   "outputs": [],
   "source": [
    "data_asset_name = 'Peak_entity_asset'\n",
    "data_asset = data_source.add_dataframe_asset(name=data_asset_name)"
   ]
  },
  {
   "cell_type": "markdown",
   "id": "e4b185fd",
   "metadata": {},
   "source": [
    "### Creating BatchDefinition"
   ]
  },
  {
   "cell_type": "code",
   "execution_count": 5,
   "id": "0468f815",
   "metadata": {
    "ExecuteTime": {
     "end_time": "2025-06-18T06:49:09.697627Z",
     "start_time": "2025-06-18T06:49:09.687102Z"
    }
   },
   "outputs": [],
   "source": [
    "batch_definition_name = 'full_batch'\n",
    "batch_definition = data_asset.add_batch_definition_whole_dataframe(batch_definition_name)"
   ]
  },
  {
   "cell_type": "markdown",
   "id": "c284d330",
   "metadata": {},
   "source": [
    "### Creating Expectations"
   ]
  },
  {
   "cell_type": "code",
   "execution_count": 6,
   "id": "5200599b",
   "metadata": {
    "ExecuteTime": {
     "end_time": "2025-06-18T06:49:09.720053Z",
     "start_time": "2025-06-18T06:49:09.714925Z"
    }
   },
   "outputs": [],
   "source": [
    "expectation_id = gx.expectations.ExpectColumnValuesToBeUnique(column=\"id\")\n",
    "expectation_id_visibility = gx.expectations.ExpectColumnValuesToNotBeNull(\n",
    "    column=\"id\"\n",
    ")"
   ]
  },
  {
   "cell_type": "code",
   "execution_count": 7,
   "id": "5cfd53ca",
   "metadata": {
    "ExecuteTime": {
     "end_time": "2025-06-18T06:49:09.742075Z",
     "start_time": "2025-06-18T06:49:09.736808Z"
    }
   },
   "outputs": [],
   "source": [
    "expectation_name_value = gx.expectations.ExpectColumnDistinctValuesToBeInSet(\n",
    "    column=\"name\",\n",
    "    value_set=[\"Dhaulagiri\", \"Everest\", \"Annapurna\", \"Gasherbrum\", \"K2\", \"Lhotse\", \"Makalu\", \"Manaslu\", \"Nanga Parbat\",\n",
    "               \"Shishapangma\"]\n",
    ")\n",
    "\n",
    "expectation_name_visibility = gx.expectations.ExpectColumnValuesToNotBeNull(\n",
    "    column=\"name\")"
   ]
  },
  {
   "cell_type": "code",
   "execution_count": 8,
   "id": "5c831a47e174bc90",
   "metadata": {
    "ExecuteTime": {
     "end_time": "2025-06-18T06:49:09.763200Z",
     "start_time": "2025-06-18T06:49:09.757950Z"
    }
   },
   "outputs": [],
   "source": [
    "expectation_height = gx.expectations.ExpectColumnValuesToBeBetween(column=\"height\", max_value=10000, min_value=7000\n",
    "                                                                   )\n",
    "\n",
    "expectation_height_visibility = gx.expectations.ExpectColumnValuesToNotBeNull(\n",
    "    column=\"height\"\n",
    ")"
   ]
  },
  {
   "cell_type": "code",
   "execution_count": 9,
   "id": "1931fc5eef891faf",
   "metadata": {
    "ExecuteTime": {
     "end_time": "2025-06-18T06:49:09.783945Z",
     "start_time": "2025-06-18T06:49:09.778453Z"
    }
   },
   "outputs": [],
   "source": [
    "expectation_country = gx.expectations.ExpectColumnDistinctValuesToBeInSet(\n",
    "    column=\"country\",\n",
    "    value_set=[\"Pakistan\", \"India/Nepal\", \"Nepal\", \"India\", \"Pakistan\", \"China/Nepal\", \"China\"]\n",
    ")\n",
    "expectation_city_visibility = gx.expectations.ExpectColumnValuesToNotBeNull(\n",
    "    column=\"country\")"
   ]
  },
  {
   "cell_type": "markdown",
   "id": "81da612a",
   "metadata": {},
   "source": [
    "### Creating ExpectationSuite and adding Expectations"
   ]
  },
  {
   "cell_type": "code",
   "execution_count": 10,
   "id": "d8fe1ebd",
   "metadata": {
    "ExecuteTime": {
     "end_time": "2025-06-18T06:49:09.829305Z",
     "start_time": "2025-06-18T06:49:09.800411Z"
    }
   },
   "outputs": [],
   "source": [
    "expectation_suite_name = \"temperature_data_suite\"\n",
    "expectation_suite_ref = gx.ExpectationSuite(name=expectation_suite_name)\n",
    "expectation_suite = context.suites.add(expectation_suite_ref)"
   ]
  },
  {
   "cell_type": "code",
   "execution_count": 11,
   "id": "6bb45f11",
   "metadata": {
    "ExecuteTime": {
     "end_time": "2025-06-18T06:49:10.025878Z",
     "start_time": "2025-06-18T06:49:09.843868Z"
    }
   },
   "outputs": [
    {
     "data": {
      "text/plain": [
       "ExpectColumnValuesToNotBeNull(id='e9a31c38-7b9f-4eeb-9e7d-c7df68ad90dd', meta=None, notes=None, result_format=<ResultFormat.BASIC: 'BASIC'>, description=None, catch_exceptions=True, rendered_content=None, windows=None, batch_id=None, column='country', mostly=1, row_condition=None, condition_parser=None)"
      ]
     },
     "execution_count": 11,
     "metadata": {},
     "output_type": "execute_result"
    }
   ],
   "source": [
    "#Adding Expectation to ExpectationSuite    \n",
    "expectation_suite.add_expectation(expectation_id)\n",
    "expectation_suite.add_expectation(expectation_id_visibility)\n",
    "expectation_suite.add_expectation(expectation_name_value)\n",
    "expectation_suite.add_expectation(expectation_name_visibility)\n",
    "expectation_suite.add_expectation(expectation_height)\n",
    "expectation_suite.add_expectation(expectation_height_visibility)\n",
    "expectation_suite.add_expectation(expectation_country)\n",
    "expectation_suite.add_expectation(expectation_city_visibility)"
   ]
  },
  {
   "cell_type": "markdown",
   "id": "b23d22b5",
   "metadata": {
    "scrolled": false
   },
   "source": [
    "### Creating Validation Definition"
   ]
  },
  {
   "cell_type": "code",
   "execution_count": 12,
   "id": "33061e49",
   "metadata": {
    "ExecuteTime": {
     "end_time": "2025-06-18T06:49:10.050261Z",
     "start_time": "2025-06-18T06:49:10.043532Z"
    }
   },
   "outputs": [],
   "source": [
    "validation_def_name = \"Peak_data_validation\"\n",
    "\n",
    "validation_definition_ref = gx.ValidationDefinition(data=batch_definition,\n",
    "                                                    suite=expectation_suite,\n",
    "                                                    name=validation_def_name)"
   ]
  },
  {
   "cell_type": "code",
   "execution_count": 13,
   "id": "becbc511",
   "metadata": {
    "ExecuteTime": {
     "end_time": "2025-06-18T06:49:10.104345Z",
     "start_time": "2025-06-18T06:49:10.071461Z"
    }
   },
   "outputs": [],
   "source": [
    "validation_definition = context.validation_definitions.add(validation_definition_ref)"
   ]
  },
  {
   "cell_type": "markdown",
   "id": "686db4b2",
   "metadata": {},
   "source": [
    "### Creating Checkpoint"
   ]
  },
  {
   "cell_type": "code",
   "execution_count": 14,
   "id": "8da18e3e",
   "metadata": {
    "ExecuteTime": {
     "end_time": "2025-06-18T06:49:10.128137Z",
     "start_time": "2025-06-18T06:49:10.124193Z"
    }
   },
   "outputs": [],
   "source": [
    "checkpoint_name = \"Peak_run_checkpoint\"\n",
    "checkpoint_to_add = gx.Checkpoint(name=checkpoint_name,\n",
    "                                  validation_definitions=[validation_definition],\n",
    "                                  actions=[],\n",
    "                                  result_format=\"COMPLETE\",  #Options : BOOLEAN_ONLY, BASIC, SUMMARY, COMPLETE\n",
    "                                  )\n"
   ]
  },
  {
   "cell_type": "code",
   "execution_count": 15,
   "id": "9bcc3b2b",
   "metadata": {
    "ExecuteTime": {
     "end_time": "2025-06-18T06:49:10.188438Z",
     "start_time": "2025-06-18T06:49:10.156115Z"
    }
   },
   "outputs": [],
   "source": [
    "checkpoint = context.checkpoints.add(checkpoint_to_add)\n"
   ]
  },
  {
   "cell_type": "markdown",
   "id": "7f837c59",
   "metadata": {},
   "source": [
    "### Reading Data in Pandas DataFrame"
   ]
  },
  {
   "cell_type": "code",
   "execution_count": 16,
   "id": "f1a3915b",
   "metadata": {
    "ExecuteTime": {
     "end_time": "2025-06-18T06:49:10.240428Z",
     "start_time": "2025-06-18T06:49:10.223742Z"
    }
   },
   "outputs": [
    {
     "data": {
      "text/html": [
       "<div>\n",
       "<style scoped>\n",
       "    .dataframe tbody tr th:only-of-type {\n",
       "        vertical-align: middle;\n",
       "    }\n",
       "\n",
       "    .dataframe tbody tr th {\n",
       "        vertical-align: top;\n",
       "    }\n",
       "\n",
       "    .dataframe thead th {\n",
       "        text-align: right;\n",
       "    }\n",
       "</style>\n",
       "<table border=\"1\" class=\"dataframe\">\n",
       "  <thead>\n",
       "    <tr style=\"text-align: right;\">\n",
       "      <th></th>\n",
       "      <th>id</th>\n",
       "      <th>name</th>\n",
       "      <th>height</th>\n",
       "      <th>country</th>\n",
       "    </tr>\n",
       "  </thead>\n",
       "  <tbody>\n",
       "    <tr>\n",
       "      <th>0</th>\n",
       "      <td>1</td>\n",
       "      <td>Everest</td>\n",
       "      <td>8975</td>\n",
       "      <td>India</td>\n",
       "    </tr>\n",
       "    <tr>\n",
       "      <th>1</th>\n",
       "      <td>2</td>\n",
       "      <td>Lhotse</td>\n",
       "      <td>7637</td>\n",
       "      <td>China/Nepal</td>\n",
       "    </tr>\n",
       "    <tr>\n",
       "      <th>2</th>\n",
       "      <td>3</td>\n",
       "      <td>K2</td>\n",
       "      <td>7221</td>\n",
       "      <td>India/Nepal</td>\n",
       "    </tr>\n",
       "    <tr>\n",
       "      <th>3</th>\n",
       "      <td>4</td>\n",
       "      <td>Nanga Parbat</td>\n",
       "      <td>8185</td>\n",
       "      <td>China/Nepal</td>\n",
       "    </tr>\n",
       "    <tr>\n",
       "      <th>4</th>\n",
       "      <td>5</td>\n",
       "      <td>Annapurna</td>\n",
       "      <td>7052</td>\n",
       "      <td>Pakistan</td>\n",
       "    </tr>\n",
       "  </tbody>\n",
       "</table>\n",
       "</div>"
      ],
      "text/plain": [
       "   id          name  height      country\n",
       "0   1       Everest    8975        India\n",
       "1   2        Lhotse    7637  China/Nepal\n",
       "2   3            K2    7221  India/Nepal\n",
       "3   4  Nanga Parbat    8185  China/Nepal\n",
       "4   5     Annapurna    7052     Pakistan"
      ]
     },
     "execution_count": 16,
     "metadata": {},
     "output_type": "execute_result"
    }
   ],
   "source": [
    "data_df = pd.read_csv('sample_peaks_300.csv')\n",
    "data_df.head()"
   ]
  },
  {
   "cell_type": "markdown",
   "id": "dee74746",
   "metadata": {},
   "source": [
    "### Creating BatchParameter and running Validation"
   ]
  },
  {
   "cell_type": "code",
   "execution_count": 17,
   "id": "f069132d",
   "metadata": {
    "ExecuteTime": {
     "end_time": "2025-06-18T06:49:10.333868Z",
     "start_time": "2025-06-18T06:49:10.329449Z"
    }
   },
   "outputs": [],
   "source": [
    "batch_parameters = {\"dataframe\": data_df}"
   ]
  },
  {
   "cell_type": "code",
   "execution_count": 18,
   "id": "e6e0afd4",
   "metadata": {
    "ExecuteTime": {
     "end_time": "2025-06-18T06:49:10.558403Z",
     "start_time": "2025-06-18T06:49:10.398212Z"
    }
   },
   "outputs": [
    {
     "data": {
      "application/vnd.jupyter.widget-view+json": {
       "model_id": "b527e65edde54ba0b1a683e9cba45336",
       "version_major": 2,
       "version_minor": 0
      },
      "text/plain": [
       "Calculating Metrics:   0%|          | 0/35 [00:00<?, ?it/s]"
      ]
     },
     "metadata": {},
     "output_type": "display_data"
    }
   ],
   "source": [
    "validation_results = checkpoint.run(batch_parameters=batch_parameters)"
   ]
  },
  {
   "cell_type": "markdown",
   "id": "1db27ee7",
   "metadata": {
    "scrolled": false
   },
   "source": [
    "### Displaying Validation Result"
   ]
  },
  {
   "cell_type": "code",
   "execution_count": 19,
   "id": "14aaa7fd",
   "metadata": {
    "ExecuteTime": {
     "end_time": "2025-06-18T06:49:10.647809Z",
     "start_time": "2025-06-18T06:49:10.628209Z"
    }
   },
   "outputs": [
    {
     "name": "stdout",
     "output_type": "stream",
     "text": [
      "run_id={\"run_name\": null, \"run_time\": \"2025-06-18T12:49:10.412346+06:00\"} run_results={ValidationResultIdentifier::temperature_data_suite/__none__/20250618T064910.412346Z/sample_peaks_300-Peak_entity_asset: {\n",
      "  \"success\": false,\n",
      "  \"results\": [\n",
      "    {\n",
      "      \"success\": true,\n",
      "      \"expectation_config\": {\n",
      "        \"type\": \"expect_column_values_to_be_unique\",\n",
      "        \"kwargs\": {\n",
      "          \"batch_id\": \"sample_peaks_300-Peak_entity_asset\",\n",
      "          \"column\": \"id\"\n",
      "        },\n",
      "        \"meta\": {},\n",
      "        \"id\": \"6231e687-8674-4a06-bb2d-b2fb06487c1e\"\n",
      "      },\n",
      "      \"result\": {\n",
      "        \"element_count\": 300,\n",
      "        \"unexpected_count\": 0,\n",
      "        \"unexpected_percent\": 0.0,\n",
      "        \"partial_unexpected_list\": [],\n",
      "        \"missing_count\": 0,\n",
      "        \"missing_percent\": 0.0,\n",
      "        \"unexpected_percent_total\": 0.0,\n",
      "        \"unexpected_percent_nonmissing\": 0.0,\n",
      "        \"partial_unexpected_counts\": [],\n",
      "        \"partial_unexpected_index_list\": [],\n",
      "        \"unexpected_list\": [],\n",
      "        \"unexpected_index_list\": [],\n",
      "        \"unexpected_index_query\": \"df.filter(items=[], axis=0)\"\n",
      "      },\n",
      "      \"meta\": {},\n",
      "      \"exception_info\": {\n",
      "        \"raised_exception\": false,\n",
      "        \"exception_traceback\": null,\n",
      "        \"exception_message\": null\n",
      "      }\n",
      "    },\n",
      "    {\n",
      "      \"success\": true,\n",
      "      \"expectation_config\": {\n",
      "        \"type\": \"expect_column_values_to_not_be_null\",\n",
      "        \"kwargs\": {\n",
      "          \"batch_id\": \"sample_peaks_300-Peak_entity_asset\",\n",
      "          \"column\": \"id\"\n",
      "        },\n",
      "        \"meta\": {},\n",
      "        \"id\": \"6c2774b6-1ebd-4d2b-ae8c-556e9e2c8d73\"\n",
      "      },\n",
      "      \"result\": {\n",
      "        \"element_count\": 300,\n",
      "        \"unexpected_count\": 0,\n",
      "        \"unexpected_percent\": 0.0,\n",
      "        \"partial_unexpected_list\": [],\n",
      "        \"partial_unexpected_counts\": [],\n",
      "        \"partial_unexpected_index_list\": [],\n",
      "        \"unexpected_list\": [],\n",
      "        \"unexpected_index_list\": [],\n",
      "        \"unexpected_index_query\": \"df.filter(items=[], axis=0)\"\n",
      "      },\n",
      "      \"meta\": {},\n",
      "      \"exception_info\": {\n",
      "        \"raised_exception\": false,\n",
      "        \"exception_traceback\": null,\n",
      "        \"exception_message\": null\n",
      "      }\n",
      "    },\n",
      "    {\n",
      "      \"success\": true,\n",
      "      \"expectation_config\": {\n",
      "        \"type\": \"expect_column_distinct_values_to_be_in_set\",\n",
      "        \"kwargs\": {\n",
      "          \"batch_id\": \"sample_peaks_300-Peak_entity_asset\",\n",
      "          \"column\": \"name\",\n",
      "          \"value_set\": [\n",
      "            \"Dhaulagiri\",\n",
      "            \"Everest\",\n",
      "            \"Annapurna\",\n",
      "            \"Gasherbrum\",\n",
      "            \"K2\",\n",
      "            \"Lhotse\",\n",
      "            \"Makalu\",\n",
      "            \"Manaslu\",\n",
      "            \"Nanga Parbat\",\n",
      "            \"Shishapangma\"\n",
      "          ]\n",
      "        },\n",
      "        \"meta\": {},\n",
      "        \"id\": \"82669ffe-b6ab-4c19-b8da-8a7511d358b1\"\n",
      "      },\n",
      "      \"result\": {\n",
      "        \"observed_value\": [\n",
      "          \"Annapurna\",\n",
      "          \"Dhaulagiri\",\n",
      "          \"Everest\",\n",
      "          \"Gasherbrum\",\n",
      "          \"K2\",\n",
      "          \"Lhotse\",\n",
      "          \"Makalu\",\n",
      "          \"Manaslu\",\n",
      "          \"Nanga Parbat\",\n",
      "          \"Shishapangma\"\n",
      "        ],\n",
      "        \"details\": {\n",
      "          \"value_counts\": [\n",
      "            {\n",
      "              \"value\": \"Annapurna\",\n",
      "              \"count\": 29\n",
      "            },\n",
      "            {\n",
      "              \"value\": \"Dhaulagiri\",\n",
      "              \"count\": 26\n",
      "            },\n",
      "            {\n",
      "              \"value\": \"Everest\",\n",
      "              \"count\": 29\n",
      "            },\n",
      "            {\n",
      "              \"value\": \"Gasherbrum\",\n",
      "              \"count\": 18\n",
      "            },\n",
      "            {\n",
      "              \"value\": \"K2\",\n",
      "              \"count\": 38\n",
      "            },\n",
      "            {\n",
      "              \"value\": \"Lhotse\",\n",
      "              \"count\": 40\n",
      "            },\n",
      "            {\n",
      "              \"value\": \"Makalu\",\n",
      "              \"count\": 26\n",
      "            },\n",
      "            {\n",
      "              \"value\": \"Manaslu\",\n",
      "              \"count\": 28\n",
      "            },\n",
      "            {\n",
      "              \"value\": \"Nanga Parbat\",\n",
      "              \"count\": 40\n",
      "            },\n",
      "            {\n",
      "              \"value\": \"Shishapangma\",\n",
      "              \"count\": 22\n",
      "            }\n",
      "          ]\n",
      "        }\n",
      "      },\n",
      "      \"meta\": {},\n",
      "      \"exception_info\": {\n",
      "        \"raised_exception\": false,\n",
      "        \"exception_traceback\": null,\n",
      "        \"exception_message\": null\n",
      "      }\n",
      "    },\n",
      "    {\n",
      "      \"success\": false,\n",
      "      \"expectation_config\": {\n",
      "        \"type\": \"expect_column_values_to_not_be_null\",\n",
      "        \"kwargs\": {\n",
      "          \"batch_id\": \"sample_peaks_300-Peak_entity_asset\",\n",
      "          \"column\": \"name\"\n",
      "        },\n",
      "        \"meta\": {},\n",
      "        \"id\": \"ebe80876-2598-43ce-8351-531a50fffe31\"\n",
      "      },\n",
      "      \"result\": {\n",
      "        \"element_count\": 300,\n",
      "        \"unexpected_count\": 4,\n",
      "        \"unexpected_percent\": 1.3333333333333335,\n",
      "        \"partial_unexpected_list\": [\n",
      "          null,\n",
      "          null,\n",
      "          null,\n",
      "          null\n",
      "        ],\n",
      "        \"partial_unexpected_counts\": [\n",
      "          {\n",
      "            \"value\": null,\n",
      "            \"count\": 4\n",
      "          }\n",
      "        ],\n",
      "        \"partial_unexpected_index_list\": [\n",
      "          93,\n",
      "          144,\n",
      "          154,\n",
      "          167\n",
      "        ],\n",
      "        \"unexpected_list\": [\n",
      "          null,\n",
      "          null,\n",
      "          null,\n",
      "          null\n",
      "        ],\n",
      "        \"unexpected_index_list\": [\n",
      "          93,\n",
      "          144,\n",
      "          154,\n",
      "          167\n",
      "        ],\n",
      "        \"unexpected_index_query\": \"df.filter(items=[93, 144, 154, 167], axis=0)\"\n",
      "      },\n",
      "      \"meta\": {},\n",
      "      \"exception_info\": {\n",
      "        \"raised_exception\": false,\n",
      "        \"exception_traceback\": null,\n",
      "        \"exception_message\": null\n",
      "      }\n",
      "    },\n",
      "    {\n",
      "      \"success\": true,\n",
      "      \"expectation_config\": {\n",
      "        \"type\": \"expect_column_values_to_be_between\",\n",
      "        \"kwargs\": {\n",
      "          \"batch_id\": \"sample_peaks_300-Peak_entity_asset\",\n",
      "          \"column\": \"height\",\n",
      "          \"min_value\": 7000.0,\n",
      "          \"max_value\": 10000.0\n",
      "        },\n",
      "        \"meta\": {},\n",
      "        \"id\": \"72262383-152d-4021-b914-34012fc393d7\"\n",
      "      },\n",
      "      \"result\": {\n",
      "        \"element_count\": 300,\n",
      "        \"unexpected_count\": 0,\n",
      "        \"unexpected_percent\": 0.0,\n",
      "        \"partial_unexpected_list\": [],\n",
      "        \"missing_count\": 0,\n",
      "        \"missing_percent\": 0.0,\n",
      "        \"unexpected_percent_total\": 0.0,\n",
      "        \"unexpected_percent_nonmissing\": 0.0,\n",
      "        \"partial_unexpected_counts\": [],\n",
      "        \"partial_unexpected_index_list\": [],\n",
      "        \"unexpected_list\": [],\n",
      "        \"unexpected_index_list\": [],\n",
      "        \"unexpected_index_query\": \"df.filter(items=[], axis=0)\"\n",
      "      },\n",
      "      \"meta\": {},\n",
      "      \"exception_info\": {\n",
      "        \"raised_exception\": false,\n",
      "        \"exception_traceback\": null,\n",
      "        \"exception_message\": null\n",
      "      }\n",
      "    },\n",
      "    {\n",
      "      \"success\": true,\n",
      "      \"expectation_config\": {\n",
      "        \"type\": \"expect_column_values_to_not_be_null\",\n",
      "        \"kwargs\": {\n",
      "          \"batch_id\": \"sample_peaks_300-Peak_entity_asset\",\n",
      "          \"column\": \"height\"\n",
      "        },\n",
      "        \"meta\": {},\n",
      "        \"id\": \"5afe0a87-3c2f-4ba8-8b3c-df0d8846ba4c\"\n",
      "      },\n",
      "      \"result\": {\n",
      "        \"element_count\": 300,\n",
      "        \"unexpected_count\": 0,\n",
      "        \"unexpected_percent\": 0.0,\n",
      "        \"partial_unexpected_list\": [],\n",
      "        \"partial_unexpected_counts\": [],\n",
      "        \"partial_unexpected_index_list\": [],\n",
      "        \"unexpected_list\": [],\n",
      "        \"unexpected_index_list\": [],\n",
      "        \"unexpected_index_query\": \"df.filter(items=[], axis=0)\"\n",
      "      },\n",
      "      \"meta\": {},\n",
      "      \"exception_info\": {\n",
      "        \"raised_exception\": false,\n",
      "        \"exception_traceback\": null,\n",
      "        \"exception_message\": null\n",
      "      }\n",
      "    },\n",
      "    {\n",
      "      \"success\": true,\n",
      "      \"expectation_config\": {\n",
      "        \"type\": \"expect_column_distinct_values_to_be_in_set\",\n",
      "        \"kwargs\": {\n",
      "          \"batch_id\": \"sample_peaks_300-Peak_entity_asset\",\n",
      "          \"column\": \"country\",\n",
      "          \"value_set\": [\n",
      "            \"Pakistan\",\n",
      "            \"India/Nepal\",\n",
      "            \"Nepal\",\n",
      "            \"India\",\n",
      "            \"Pakistan\",\n",
      "            \"China/Nepal\",\n",
      "            \"China\"\n",
      "          ]\n",
      "        },\n",
      "        \"meta\": {},\n",
      "        \"id\": \"5e3c49c7-b25f-4e54-be39-5f08638d8018\"\n",
      "      },\n",
      "      \"result\": {\n",
      "        \"observed_value\": [\n",
      "          \"China\",\n",
      "          \"China/Nepal\",\n",
      "          \"India\",\n",
      "          \"India/Nepal\",\n",
      "          \"Nepal\",\n",
      "          \"Pakistan\"\n",
      "        ],\n",
      "        \"details\": {\n",
      "          \"value_counts\": [\n",
      "            {\n",
      "              \"value\": \"China\",\n",
      "              \"count\": 65\n",
      "            },\n",
      "            {\n",
      "              \"value\": \"China/Nepal\",\n",
      "              \"count\": 50\n",
      "            },\n",
      "            {\n",
      "              \"value\": \"India\",\n",
      "              \"count\": 51\n",
      "            },\n",
      "            {\n",
      "              \"value\": \"India/Nepal\",\n",
      "              \"count\": 47\n",
      "            },\n",
      "            {\n",
      "              \"value\": \"Nepal\",\n",
      "              \"count\": 45\n",
      "            },\n",
      "            {\n",
      "              \"value\": \"Pakistan\",\n",
      "              \"count\": 42\n",
      "            }\n",
      "          ]\n",
      "        }\n",
      "      },\n",
      "      \"meta\": {},\n",
      "      \"exception_info\": {\n",
      "        \"raised_exception\": false,\n",
      "        \"exception_traceback\": null,\n",
      "        \"exception_message\": null\n",
      "      }\n",
      "    },\n",
      "    {\n",
      "      \"success\": true,\n",
      "      \"expectation_config\": {\n",
      "        \"type\": \"expect_column_values_to_not_be_null\",\n",
      "        \"kwargs\": {\n",
      "          \"batch_id\": \"sample_peaks_300-Peak_entity_asset\",\n",
      "          \"column\": \"country\"\n",
      "        },\n",
      "        \"meta\": {},\n",
      "        \"id\": \"e9a31c38-7b9f-4eeb-9e7d-c7df68ad90dd\"\n",
      "      },\n",
      "      \"result\": {\n",
      "        \"element_count\": 300,\n",
      "        \"unexpected_count\": 0,\n",
      "        \"unexpected_percent\": 0.0,\n",
      "        \"partial_unexpected_list\": [],\n",
      "        \"partial_unexpected_counts\": [],\n",
      "        \"partial_unexpected_index_list\": [],\n",
      "        \"unexpected_list\": [],\n",
      "        \"unexpected_index_list\": [],\n",
      "        \"unexpected_index_query\": \"df.filter(items=[], axis=0)\"\n",
      "      },\n",
      "      \"meta\": {},\n",
      "      \"exception_info\": {\n",
      "        \"raised_exception\": false,\n",
      "        \"exception_traceback\": null,\n",
      "        \"exception_message\": null\n",
      "      }\n",
      "    }\n",
      "  ],\n",
      "  \"suite_name\": \"temperature_data_suite\",\n",
      "  \"suite_parameters\": {},\n",
      "  \"statistics\": {\n",
      "    \"evaluated_expectations\": 8,\n",
      "    \"successful_expectations\": 7,\n",
      "    \"unsuccessful_expectations\": 1,\n",
      "    \"success_percent\": 87.5\n",
      "  },\n",
      "  \"meta\": {\n",
      "    \"great_expectations_version\": \"1.5.1\",\n",
      "    \"batch_spec\": {\n",
      "      \"batch_data\": \"PandasDataFrame\"\n",
      "    },\n",
      "    \"batch_markers\": {\n",
      "      \"ge_load_time\": \"20250618T064910.415943Z\",\n",
      "      \"pandas_data_fingerprint\": \"e84f49ce0ebd301bdddd841b3952f1d4\"\n",
      "    },\n",
      "    \"active_batch_definition\": {\n",
      "      \"datasource_name\": \"sample_peaks_300\",\n",
      "      \"data_connector_name\": \"fluent\",\n",
      "      \"data_asset_name\": \"Peak_entity_asset\",\n",
      "      \"batch_identifiers\": {\n",
      "        \"dataframe\": \"<DATAFRAME>\"\n",
      "      }\n",
      "    },\n",
      "    \"validation_id\": \"376198f2-168d-41c8-bd90-8569beb75069\",\n",
      "    \"checkpoint_id\": \"3144a114-57e4-41ab-9348-0799c8bb8d82\",\n",
      "    \"run_id\": {\n",
      "      \"run_name\": null,\n",
      "      \"run_time\": \"2025-06-18T12:49:10.412346+06:00\"\n",
      "    },\n",
      "    \"validation_time\": \"2025-06-18T06:49:10.412346+00:00\",\n",
      "    \"batch_parameters\": {\n",
      "      \"dataframe\": \"<DATAFRAME>\"\n",
      "    }\n",
      "  },\n",
      "  \"id\": null\n",
      "}} checkpoint_config=Checkpoint(name='Peak_run_checkpoint', validation_definitions=[ValidationDefinition(name='Peak_data_validation', data=BatchDefinition(id=UUID('aaad6bff-7c21-4fd7-b2aa-104fb4b9a3a8'), name='full_batch', partitioner=None), suite={\n",
      "  \"name\": \"temperature_data_suite\",\n",
      "  \"id\": \"972b2b40-3b00-49ee-b31a-3abd886f1a90\",\n",
      "  \"expectations\": [\n",
      "    {\n",
      "      \"type\": \"expect_column_values_to_be_unique\",\n",
      "      \"kwargs\": {\n",
      "        \"column\": \"id\"\n",
      "      },\n",
      "      \"meta\": {},\n",
      "      \"id\": \"6231e687-8674-4a06-bb2d-b2fb06487c1e\"\n",
      "    },\n",
      "    {\n",
      "      \"type\": \"expect_column_values_to_not_be_null\",\n",
      "      \"kwargs\": {\n",
      "        \"column\": \"id\"\n",
      "      },\n",
      "      \"meta\": {},\n",
      "      \"id\": \"6c2774b6-1ebd-4d2b-ae8c-556e9e2c8d73\"\n",
      "    },\n",
      "    {\n",
      "      \"type\": \"expect_column_distinct_values_to_be_in_set\",\n",
      "      \"kwargs\": {\n",
      "        \"column\": \"name\",\n",
      "        \"value_set\": [\n",
      "          \"Dhaulagiri\",\n",
      "          \"Everest\",\n",
      "          \"Annapurna\",\n",
      "          \"Gasherbrum\",\n",
      "          \"K2\",\n",
      "          \"Lhotse\",\n",
      "          \"Makalu\",\n",
      "          \"Manaslu\",\n",
      "          \"Nanga Parbat\",\n",
      "          \"Shishapangma\"\n",
      "        ]\n",
      "      },\n",
      "      \"meta\": {},\n",
      "      \"id\": \"82669ffe-b6ab-4c19-b8da-8a7511d358b1\"\n",
      "    },\n",
      "    {\n",
      "      \"type\": \"expect_column_values_to_not_be_null\",\n",
      "      \"kwargs\": {\n",
      "        \"column\": \"name\"\n",
      "      },\n",
      "      \"meta\": {},\n",
      "      \"id\": \"ebe80876-2598-43ce-8351-531a50fffe31\"\n",
      "    },\n",
      "    {\n",
      "      \"type\": \"expect_column_values_to_be_between\",\n",
      "      \"kwargs\": {\n",
      "        \"column\": \"height\",\n",
      "        \"min_value\": 7000.0,\n",
      "        \"max_value\": 10000.0\n",
      "      },\n",
      "      \"meta\": {},\n",
      "      \"id\": \"72262383-152d-4021-b914-34012fc393d7\"\n",
      "    },\n",
      "    {\n",
      "      \"type\": \"expect_column_values_to_not_be_null\",\n",
      "      \"kwargs\": {\n",
      "        \"column\": \"height\"\n",
      "      },\n",
      "      \"meta\": {},\n",
      "      \"id\": \"5afe0a87-3c2f-4ba8-8b3c-df0d8846ba4c\"\n",
      "    },\n",
      "    {\n",
      "      \"type\": \"expect_column_distinct_values_to_be_in_set\",\n",
      "      \"kwargs\": {\n",
      "        \"column\": \"country\",\n",
      "        \"value_set\": [\n",
      "          \"Pakistan\",\n",
      "          \"India/Nepal\",\n",
      "          \"Nepal\",\n",
      "          \"India\",\n",
      "          \"Pakistan\",\n",
      "          \"China/Nepal\",\n",
      "          \"China\"\n",
      "        ]\n",
      "      },\n",
      "      \"meta\": {},\n",
      "      \"id\": \"5e3c49c7-b25f-4e54-be39-5f08638d8018\"\n",
      "    },\n",
      "    {\n",
      "      \"type\": \"expect_column_values_to_not_be_null\",\n",
      "      \"kwargs\": {\n",
      "        \"column\": \"country\"\n",
      "      },\n",
      "      \"meta\": {},\n",
      "      \"id\": \"e9a31c38-7b9f-4eeb-9e7d-c7df68ad90dd\"\n",
      "    }\n",
      "  ],\n",
      "  \"meta\": {\n",
      "    \"great_expectations_version\": \"1.5.1\"\n",
      "  },\n",
      "  \"notes\": null\n",
      "}, id='376198f2-168d-41c8-bd90-8569beb75069')], actions=[], result_format=<ResultFormat.COMPLETE: 'COMPLETE'>, id='3144a114-57e4-41ab-9348-0799c8bb8d82') success=False\n"
     ]
    }
   ],
   "source": [
    "print(validation_results)"
   ]
  }
 ],
 "metadata": {
  "kernelspec": {
   "display_name": "Python 3 (ipykernel)",
   "language": "python",
   "name": "python3"
  },
  "language_info": {
   "codemirror_mode": {
    "name": "ipython",
    "version": 3
   },
   "file_extension": ".py",
   "mimetype": "text/x-python",
   "name": "python",
   "nbconvert_exporter": "python",
   "pygments_lexer": "ipython3",
   "version": "3.13.3"
  },
  "widgets": {
   "application/vnd.jupyter.widget-state+json": {
    "state": {},
    "version_major": 2,
    "version_minor": 0
   }
  }
 },
 "nbformat": 4,
 "nbformat_minor": 5
}
