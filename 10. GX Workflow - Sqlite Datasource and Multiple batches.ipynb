{
 "cells": [
  {
   "cell_type": "markdown",
   "id": "f07b46c9",
   "metadata": {},
   "source": [
    "### GX Core Workflow - Using Sqlite Datasource\n",
    "\n",
    "- Import Required Libraries\n",
    "- Create GX Context (Ephemeral)\n",
    "- Create DataSource (Sqlite DB)\n",
    "- Create Data Asset (Sqlite Table)\n",
    "- Create Batch Definition \n",
    "- Create Expectations\n",
    "- Create Expectations Suite and Add expectations\n",
    "- Create Validation Definition (Expectation Suite, Batch Definition)\n",
    "- Create Checkpoint (Validation Definition)\n",
    "- Define Runtime Expectation parameters\n",
    "- Run Checkpoint(Expectations parameters)\n",
    "- Print Result"
   ]
  },
  {
   "cell_type": "markdown",
   "id": "dbc03712",
   "metadata": {},
   "source": [
    "### Import Libraries"
   ]
  },
  {
   "cell_type": "code",
   "id": "f191bf95",
   "metadata": {
    "ExecuteTime": {
     "end_time": "2025-06-23T10:26:59.431544Z",
     "start_time": "2025-06-23T10:26:54.520024Z"
    }
   },
   "source": [
    "import great_expectations as gx"
   ],
   "outputs": [],
   "execution_count": 1
  },
  {
   "cell_type": "markdown",
   "id": "359c3938",
   "metadata": {},
   "source": [
    "### Creating GX Context"
   ]
  },
  {
   "cell_type": "code",
   "id": "227df62f",
   "metadata": {
    "ExecuteTime": {
     "end_time": "2025-06-23T10:26:59.883069Z",
     "start_time": "2025-06-23T10:26:59.842632Z"
    }
   },
   "source": [
    "context = gx.get_context(mode=\"ephemeral\")\n"
   ],
   "outputs": [],
   "execution_count": 2
  },
  {
   "cell_type": "markdown",
   "id": "67909cb4",
   "metadata": {},
   "source": [
    "### Creating Datasource "
   ]
  },
  {
   "cell_type": "code",
   "id": "e2189d7d",
   "metadata": {
    "ExecuteTime": {
     "end_time": "2025-06-23T10:26:59.934606Z",
     "start_time": "2025-06-23T10:26:59.917356Z"
    }
   },
   "source": [
    "datasource_name = \"sqlite_datasource\"\n",
    "data_source = context.data_sources.add_sqlite(\n",
    "    name=datasource_name,\n",
    "    connection_string=\"sqlite:///temperature.db\"\n",
    ")"
   ],
   "outputs": [],
   "execution_count": 3
  },
  {
   "cell_type": "markdown",
   "id": "a92b7371",
   "metadata": {},
   "source": [
    "### Creating Data Asset"
   ]
  },
  {
   "cell_type": "code",
   "id": "9e097d1d",
   "metadata": {
    "ExecuteTime": {
     "end_time": "2025-06-23T10:26:59.967674Z",
     "start_time": "2025-06-23T10:26:59.952052Z"
    }
   },
   "source": [
    "data_asset_name = 'temperature_reading'\n",
    "data_asset = data_source.add_table_asset(name = data_asset_name, table_name ='temperature_reading')"
   ],
   "outputs": [],
   "execution_count": 4
  },
  {
   "cell_type": "markdown",
   "id": "c3d39216",
   "metadata": {},
   "source": [
    "### Creating Batch Definition"
   ]
  },
  {
   "cell_type": "code",
   "id": "8b1a1888",
   "metadata": {
    "ExecuteTime": {
     "end_time": "2025-06-23T10:26:59.996563Z",
     "start_time": "2025-06-23T10:26:59.985891Z"
    }
   },
   "source": [
    "batch_definition_name ='full_batch'\n",
    "batch_definition = data_asset.add_batch_definition_whole_table(batch_definition_name)"
   ],
   "outputs": [],
   "execution_count": 5
  },
  {
   "cell_type": "markdown",
   "id": "9fe4b9dd",
   "metadata": {},
   "source": [
    "### Creating Expectations"
   ]
  },
  {
   "cell_type": "code",
   "id": "dfc0359e",
   "metadata": {
    "ExecuteTime": {
     "end_time": "2025-06-23T10:27:00.021577Z",
     "start_time": "2025-06-23T10:27:00.016392Z"
    }
   },
   "source": [
    "expectation_temp = gx.expectations.ExpectColumnValuesToBeBetween(column=\"temperature\", \n",
    "                                                            max_value={\"$PARAMETER\": \"temp_max_value\"},\n",
    "                                                            min_value={\"$PARAMETER\": \"temp_min_value\"}, catch_exceptions=True)"
   ],
   "outputs": [],
   "execution_count": 6
  },
  {
   "cell_type": "code",
   "id": "5b90c4cf",
   "metadata": {
    "ExecuteTime": {
     "end_time": "2025-06-23T10:27:00.046656Z",
     "start_time": "2025-06-23T10:27:00.042378Z"
    }
   },
   "source": [
    "expectation_city = gx.expectations.ExpectColumnDistinctValuesToBeInSet(column=\"city\", \n",
    "                                                            value_set={\"$PARAMETER\": \"city_list\"}, catch_exceptions=True)\n"
   ],
   "outputs": [],
   "execution_count": 7
  },
  {
   "cell_type": "markdown",
   "id": "918ccff5",
   "metadata": {},
   "source": [
    "### Creating Expectation Suite and Adding expectations"
   ]
  },
  {
   "cell_type": "code",
   "id": "a662a81d",
   "metadata": {
    "ExecuteTime": {
     "end_time": "2025-06-23T10:27:00.094393Z",
     "start_time": "2025-06-23T10:27:00.065663Z"
    }
   },
   "source": [
    "expectation_suite_name = \"temperature_data_suite\"\n",
    "expectation_suite_ref = gx.ExpectationSuite(name=expectation_suite_name)\n",
    "expectation_suite = context.suites.add(expectation_suite_ref)\n"
   ],
   "outputs": [],
   "execution_count": 8
  },
  {
   "cell_type": "code",
   "id": "24627667",
   "metadata": {
    "ExecuteTime": {
     "end_time": "2025-06-23T10:27:00.181871Z",
     "start_time": "2025-06-23T10:27:00.123325Z"
    }
   },
   "source": [
    "#Adding Expectation to ExpectationSuite    \n",
    "expectation_suite.add_expectation(expectation_temp)\n",
    "expectation_suite.add_expectation(expectation_city)\n"
   ],
   "outputs": [
    {
     "data": {
      "text/plain": [
       "ExpectColumnDistinctValuesToBeInSet(id='f5db1c4a-00ca-457d-8858-de3212fb5472', meta=None, notes=None, result_format=<ResultFormat.BASIC: 'BASIC'>, description=None, catch_exceptions=True, rendered_content=None, windows=None, batch_id=None, column='city', row_condition=None, condition_parser=None, value_set={'$PARAMETER': 'city_list'})"
      ]
     },
     "execution_count": 9,
     "metadata": {},
     "output_type": "execute_result"
    }
   ],
   "execution_count": 9
  },
  {
   "cell_type": "code",
   "id": "4ff8186e",
   "metadata": {
    "ExecuteTime": {
     "end_time": "2025-06-23T10:27:00.206120Z",
     "start_time": "2025-06-23T10:27:00.201632Z"
    }
   },
   "source": [
    "\n"
   ],
   "outputs": [],
   "execution_count": 9
  },
  {
   "cell_type": "code",
   "id": "e4380277",
   "metadata": {
    "ExecuteTime": {
     "end_time": "2025-06-23T10:27:00.229342Z",
     "start_time": "2025-06-23T10:27:00.225356Z"
    }
   },
   "source": [],
   "outputs": [],
   "execution_count": null
  },
  {
   "cell_type": "markdown",
   "id": "c0008223",
   "metadata": {},
   "source": [
    "### Creating Validation Defintions"
   ]
  },
  {
   "cell_type": "code",
   "id": "d4f121e4",
   "metadata": {
    "ExecuteTime": {
     "end_time": "2025-06-23T10:27:00.254448Z",
     "start_time": "2025-06-23T10:27:00.249259Z"
    }
   },
   "source": [
    "validation_def_name = \"temperature_data_validation\"\n",
    "validation_definition_ref = gx.ValidationDefinition( data=batch_definition,\n",
    "                                             suite=expectation_suite,\n",
    "                                             name=validation_def_name)\n"
   ],
   "outputs": [],
   "execution_count": 10
  },
  {
   "cell_type": "code",
   "id": "83dbf20a",
   "metadata": {
    "ExecuteTime": {
     "end_time": "2025-06-23T10:27:00.306708Z",
     "start_time": "2025-06-23T10:27:00.276391Z"
    }
   },
   "source": [
    "validation_definition = context.validation_definitions.add(validation_definition_ref)"
   ],
   "outputs": [],
   "execution_count": 11
  },
  {
   "cell_type": "markdown",
   "id": "88dfaab8",
   "metadata": {},
   "source": [
    "### Creating Checkpoint "
   ]
  },
  {
   "cell_type": "code",
   "id": "c3fb5103",
   "metadata": {
    "ExecuteTime": {
     "end_time": "2025-06-23T10:27:00.331546Z",
     "start_time": "2025-06-23T10:27:00.327013Z"
    }
   },
   "source": [
    "checkpoint_name = \"temperature_run_checkpoint\"\n",
    "checkpoint_to_add = gx.Checkpoint(name=checkpoint_name,                                 \n",
    "                                  validation_definitions=[validation_definition],\n",
    "                                  actions=[],\n",
    "                                  result_format=\"BASIC\"\n",
    ")\n"
   ],
   "outputs": [],
   "execution_count": 12
  },
  {
   "cell_type": "code",
   "id": "ae83611c",
   "metadata": {
    "ExecuteTime": {
     "end_time": "2025-06-23T10:27:00.382238Z",
     "start_time": "2025-06-23T10:27:00.353156Z"
    }
   },
   "source": [
    "checkpoint = context.checkpoints.add(checkpoint_to_add)\n"
   ],
   "outputs": [],
   "execution_count": 13
  },
  {
   "cell_type": "markdown",
   "id": "38ce33da",
   "metadata": {},
   "source": [
    "### Creating Runtime Parameter Object"
   ]
  },
  {
   "cell_type": "code",
   "id": "84e2eed1",
   "metadata": {
    "ExecuteTime": {
     "end_time": "2025-06-23T10:27:00.409027Z",
     "start_time": "2025-06-23T10:27:00.404870Z"
    }
   },
   "source": [
    "runtime_parameters = {\n",
    "    \"temp_min_value\": 5,\n",
    "    \"temp_max_value\":50,\n",
    "    \"city_list\": [\"Delhi\", \"Mumbai\"],\n",
    "}\n"
   ],
   "outputs": [],
   "execution_count": 14
  },
  {
   "cell_type": "markdown",
   "id": "179d78fa",
   "metadata": {},
   "source": [
    "### Running Checkpoint "
   ]
  },
  {
   "cell_type": "code",
   "id": "3ccde491",
   "metadata": {
    "ExecuteTime": {
     "end_time": "2025-06-23T10:27:00.557890Z",
     "start_time": "2025-06-23T10:27:00.431368Z"
    }
   },
   "source": [
    "validation_results = checkpoint.run(expectation_parameters =runtime_parameters)\n"
   ],
   "outputs": [
    {
     "data": {
      "text/plain": [
       "Calculating Metrics:   0%|          | 0/12 [00:00<?, ?it/s]"
      ],
      "application/vnd.jupyter.widget-view+json": {
       "version_major": 2,
       "version_minor": 0,
       "model_id": "454ab42d40e04c948992fae81de301d5"
      }
     },
     "metadata": {},
     "output_type": "display_data"
    }
   ],
   "execution_count": 15
  },
  {
   "cell_type": "markdown",
   "id": "cca07955",
   "metadata": {},
   "source": [
    "### Printing Result"
   ]
  },
  {
   "cell_type": "code",
   "id": "efc3f444",
   "metadata": {
    "ExecuteTime": {
     "end_time": "2025-06-23T10:27:00.590857Z",
     "start_time": "2025-06-23T10:27:00.580981Z"
    }
   },
   "source": [
    "print(validation_results)"
   ],
   "outputs": [
    {
     "name": "stdout",
     "output_type": "stream",
     "text": [
      "run_id={\"run_name\": null, \"run_time\": \"2025-06-23T16:27:00.439557+06:00\"} run_results={ValidationResultIdentifier::temperature_data_suite/__none__/20250623T102700.439557Z/sqlite_datasource-temperature_reading: {\n",
      "  \"success\": true,\n",
      "  \"results\": [\n",
      "    {\n",
      "      \"success\": true,\n",
      "      \"expectation_config\": {\n",
      "        \"type\": \"expect_column_values_to_be_between\",\n",
      "        \"kwargs\": {\n",
      "          \"batch_id\": \"sqlite_datasource-temperature_reading\",\n",
      "          \"column\": \"temperature\",\n",
      "          \"min_value\": 5.0,\n",
      "          \"max_value\": 50.0\n",
      "        },\n",
      "        \"meta\": {},\n",
      "        \"id\": \"2cc0a62f-c4fe-4b59-a3f9-6f2b2f478828\"\n",
      "      },\n",
      "      \"result\": {\n",
      "        \"element_count\": 62,\n",
      "        \"unexpected_count\": 0,\n",
      "        \"unexpected_percent\": 0.0,\n",
      "        \"partial_unexpected_list\": [],\n",
      "        \"missing_count\": 0,\n",
      "        \"missing_percent\": 0.0,\n",
      "        \"unexpected_percent_total\": 0.0,\n",
      "        \"unexpected_percent_nonmissing\": 0.0\n",
      "      },\n",
      "      \"meta\": {},\n",
      "      \"exception_info\": {\n",
      "        \"raised_exception\": false,\n",
      "        \"exception_traceback\": null,\n",
      "        \"exception_message\": null\n",
      "      }\n",
      "    },\n",
      "    {\n",
      "      \"success\": true,\n",
      "      \"expectation_config\": {\n",
      "        \"type\": \"expect_column_distinct_values_to_be_in_set\",\n",
      "        \"kwargs\": {\n",
      "          \"catch_exceptions\": true,\n",
      "          \"batch_id\": \"sqlite_datasource-temperature_reading\",\n",
      "          \"column\": \"city\",\n",
      "          \"value_set\": [\n",
      "            \"Delhi\",\n",
      "            \"Mumbai\"\n",
      "          ]\n",
      "        },\n",
      "        \"meta\": {},\n",
      "        \"id\": \"f5db1c4a-00ca-457d-8858-de3212fb5472\"\n",
      "      },\n",
      "      \"result\": {\n",
      "        \"observed_value\": [\n",
      "          \"Delhi\",\n",
      "          \"Mumbai\"\n",
      "        ],\n",
      "        \"details\": {\n",
      "          \"value_counts\": [\n",
      "            {\n",
      "              \"value\": \"Delhi\",\n",
      "              \"count\": 31\n",
      "            },\n",
      "            {\n",
      "              \"value\": \"Mumbai\",\n",
      "              \"count\": 31\n",
      "            }\n",
      "          ]\n",
      "        }\n",
      "      },\n",
      "      \"meta\": {},\n",
      "      \"exception_info\": {\n",
      "        \"raised_exception\": false,\n",
      "        \"exception_traceback\": null,\n",
      "        \"exception_message\": null\n",
      "      }\n",
      "    }\n",
      "  ],\n",
      "  \"suite_name\": \"temperature_data_suite\",\n",
      "  \"suite_parameters\": {},\n",
      "  \"statistics\": {\n",
      "    \"evaluated_expectations\": 2,\n",
      "    \"successful_expectations\": 2,\n",
      "    \"unsuccessful_expectations\": 0,\n",
      "    \"success_percent\": 100.0\n",
      "  },\n",
      "  \"meta\": {\n",
      "    \"great_expectations_version\": \"1.5.1\",\n",
      "    \"batch_spec\": {\n",
      "      \"type\": \"table\",\n",
      "      \"data_asset_name\": \"temperature_reading\",\n",
      "      \"table_name\": \"temperature_reading\",\n",
      "      \"schema_name\": null,\n",
      "      \"batch_identifiers\": {}\n",
      "    },\n",
      "    \"batch_markers\": {\n",
      "      \"ge_load_time\": \"20250623T102700.443728Z\"\n",
      "    },\n",
      "    \"active_batch_definition\": {\n",
      "      \"datasource_name\": \"sqlite_datasource\",\n",
      "      \"data_connector_name\": \"fluent\",\n",
      "      \"data_asset_name\": \"temperature_reading\",\n",
      "      \"batch_identifiers\": {}\n",
      "    },\n",
      "    \"validation_id\": \"2a96ca8f-cd07-40ab-a34d-c91f64b6a32b\",\n",
      "    \"checkpoint_id\": \"049db5ea-68be-473f-ac31-4c57fccc65f3\",\n",
      "    \"run_id\": {\n",
      "      \"run_name\": null,\n",
      "      \"run_time\": \"2025-06-23T16:27:00.439557+06:00\"\n",
      "    },\n",
      "    \"validation_time\": \"2025-06-23T10:27:00.439557+00:00\",\n",
      "    \"batch_parameters\": null\n",
      "  },\n",
      "  \"id\": null\n",
      "}} checkpoint_config=Checkpoint(name='temperature_run_checkpoint', validation_definitions=[ValidationDefinition(name='temperature_data_validation', data=BatchDefinition(id=UUID('b040dbde-70ef-4849-a9b8-858566d24b12'), name='full_batch', partitioner=None), suite={\n",
      "  \"name\": \"temperature_data_suite\",\n",
      "  \"id\": \"e701a6d2-748b-49b3-a015-95575fb14cfe\",\n",
      "  \"expectations\": [\n",
      "    {\n",
      "      \"type\": \"expect_column_values_to_be_between\",\n",
      "      \"kwargs\": {\n",
      "        \"column\": \"temperature\",\n",
      "        \"min_value\": {\n",
      "          \"$PARAMETER\": \"temp_min_value\"\n",
      "        },\n",
      "        \"max_value\": {\n",
      "          \"$PARAMETER\": \"temp_max_value\"\n",
      "        }\n",
      "      },\n",
      "      \"meta\": {},\n",
      "      \"id\": \"2cc0a62f-c4fe-4b59-a3f9-6f2b2f478828\"\n",
      "    },\n",
      "    {\n",
      "      \"type\": \"expect_column_distinct_values_to_be_in_set\",\n",
      "      \"kwargs\": {\n",
      "        \"catch_exceptions\": true,\n",
      "        \"column\": \"city\",\n",
      "        \"value_set\": {\n",
      "          \"$PARAMETER\": \"city_list\"\n",
      "        }\n",
      "      },\n",
      "      \"meta\": {},\n",
      "      \"id\": \"f5db1c4a-00ca-457d-8858-de3212fb5472\"\n",
      "    }\n",
      "  ],\n",
      "  \"meta\": {\n",
      "    \"great_expectations_version\": \"1.5.1\"\n",
      "  },\n",
      "  \"notes\": null\n",
      "}, id='2a96ca8f-cd07-40ab-a34d-c91f64b6a32b')], actions=[], result_format=<ResultFormat.BASIC: 'BASIC'>, id='049db5ea-68be-473f-ac31-4c57fccc65f3') success=True\n"
     ]
    }
   ],
   "execution_count": 16
  },
  {
   "cell_type": "code",
   "id": "762db163",
   "metadata": {
    "ExecuteTime": {
     "end_time": "2025-06-23T10:27:00.627102Z",
     "start_time": "2025-06-23T10:27:00.624151Z"
    }
   },
   "source": [],
   "outputs": [],
   "execution_count": null
  },
  {
   "cell_type": "code",
   "id": "7396e14f",
   "metadata": {
    "ExecuteTime": {
     "end_time": "2025-06-23T10:27:00.665142Z",
     "start_time": "2025-06-23T10:27:00.662167Z"
    }
   },
   "source": [],
   "outputs": [],
   "execution_count": null
  },
  {
   "cell_type": "code",
   "id": "52848669",
   "metadata": {
    "ExecuteTime": {
     "end_time": "2025-06-23T10:27:00.691156Z",
     "start_time": "2025-06-23T10:27:00.687868Z"
    }
   },
   "source": [],
   "outputs": [],
   "execution_count": null
  },
  {
   "cell_type": "code",
   "id": "c8930c43",
   "metadata": {
    "ExecuteTime": {
     "end_time": "2025-06-23T10:27:00.717281Z",
     "start_time": "2025-06-23T10:27:00.714873Z"
    }
   },
   "source": [],
   "outputs": [],
   "execution_count": null
  },
  {
   "cell_type": "code",
   "id": "47791cfe",
   "metadata": {
    "ExecuteTime": {
     "end_time": "2025-06-23T10:27:00.728823Z",
     "start_time": "2025-06-23T10:27:00.725697Z"
    }
   },
   "source": [],
   "outputs": [],
   "execution_count": null
  },
  {
   "cell_type": "code",
   "id": "ab0e93b0",
   "metadata": {
    "ExecuteTime": {
     "end_time": "2025-06-23T10:27:00.768913Z",
     "start_time": "2025-06-23T10:27:00.765519Z"
    }
   },
   "source": [],
   "outputs": [],
   "execution_count": null
  }
 ],
 "metadata": {
  "kernelspec": {
   "display_name": "Python 3",
   "language": "python",
   "name": "python3"
  },
  "language_info": {
   "codemirror_mode": {
    "name": "ipython",
    "version": 3
   },
   "file_extension": ".py",
   "mimetype": "text/x-python",
   "name": "python",
   "nbconvert_exporter": "python",
   "pygments_lexer": "ipython3",
   "version": "3.8.8"
  }
 },
 "nbformat": 4,
 "nbformat_minor": 5
}
