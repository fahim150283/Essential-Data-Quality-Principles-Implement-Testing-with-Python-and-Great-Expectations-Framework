{
 "cells": [
  {
   "cell_type": "markdown",
   "id": "f07b46c9",
   "metadata": {},
   "source": [
    "### GX Core Workflow - Using multiple data sources (Sqlite & Pandas)\n",
    "\n",
    "- Import Required Libraries\n",
    "- Create GX Context (Ephemeral)\n",
    "- Create DataSource (Sqlite DB)\n",
    "- Create Data Asset (Sqlite Table)\n",
    "- Create Batch Definition (Sqlite)\n",
    "- Create DataSource (Pandas)\n",
    "- Create Data Asset (Pandas)\n",
    "- Create Batch Definition (Pandas)\n",
    "- Create Expectations \n",
    "- Create Expectations Suite and Add expectations\n",
    "- Create Validation Definition (Expectation Suite, Batch Definition) - Sqlite\n",
    "- Create Validation Definition (Expectation Suite, Batch Definition) - Pandas\n",
    "- Create Checkpoint Sqlite (Validation Definitions)\n",
    "- Create Checkpoint Pandas (Validation Definitions)\n",
    "- Define Run Checkpoint (Sqlite)\n",
    "- Define Batch Parameters (Pandas)\n",
    "- Run Checkpoint(Pandas)\n",
    "- Print Result"
   ]
  },
  {
   "cell_type": "markdown",
   "id": "dbc03712",
   "metadata": {},
   "source": [
    "### Import Libraries"
   ]
  },
  {
   "cell_type": "code",
   "id": "f191bf95",
   "metadata": {
    "ExecuteTime": {
     "end_time": "2025-06-23T11:38:56.369716Z",
     "start_time": "2025-06-23T11:38:53.519837Z"
    }
   },
   "source": [
    "import great_expectations as gx\n",
    "import pandas as pd\n"
   ],
   "outputs": [],
   "execution_count": 1
  },
  {
   "cell_type": "markdown",
   "id": "359c3938",
   "metadata": {},
   "source": [
    "### Creating GX Context"
   ]
  },
  {
   "cell_type": "code",
   "id": "227df62f",
   "metadata": {
    "ExecuteTime": {
     "end_time": "2025-06-23T11:38:56.510560Z",
     "start_time": "2025-06-23T11:38:56.461906Z"
    }
   },
   "source": [
    "context = gx.get_context(mode=\"ephemeral\")\n"
   ],
   "outputs": [],
   "execution_count": 2
  },
  {
   "cell_type": "markdown",
   "id": "67909cb4",
   "metadata": {},
   "source": [
    "### Creating Datasource  (Sqlite)"
   ]
  },
  {
   "cell_type": "code",
   "id": "e2189d7d",
   "metadata": {
    "ExecuteTime": {
     "end_time": "2025-06-23T11:38:56.561518Z",
     "start_time": "2025-06-23T11:38:56.548051Z"
    }
   },
   "source": [
    "datasource_name_sqlite = \"sqlite_datasource\"\n",
    "data_source_sqlite = context.data_sources.add_sqlite(\n",
    "    name=datasource_name_sqlite,\n",
    "    connection_string=\"sqlite:///temperature.db\"\n",
    ")\n"
   ],
   "outputs": [],
   "execution_count": 3
  },
  {
   "cell_type": "markdown",
   "id": "a92b7371",
   "metadata": {},
   "source": [
    "### Creating Data Asset (Sqlite)"
   ]
  },
  {
   "cell_type": "code",
   "id": "9e097d1d",
   "metadata": {
    "ExecuteTime": {
     "end_time": "2025-06-23T11:38:56.589791Z",
     "start_time": "2025-06-23T11:38:56.577704Z"
    }
   },
   "source": [
    "data_asset_name_sqlite = 'temperature_reading'\n",
    "data_asset_sqlite = data_source_sqlite.add_table_asset(name = data_asset_name_sqlite, table_name ='temperature_reading')\n"
   ],
   "outputs": [],
   "execution_count": 4
  },
  {
   "cell_type": "markdown",
   "id": "c3d39216",
   "metadata": {},
   "source": [
    "### Creating Batch Definition (Sqlite)"
   ]
  },
  {
   "cell_type": "code",
   "id": "8b1a1888",
   "metadata": {
    "ExecuteTime": {
     "end_time": "2025-06-23T11:38:56.614221Z",
     "start_time": "2025-06-23T11:38:56.604152Z"
    }
   },
   "source": [
    "batch_definition_sqlite = data_asset_sqlite.add_batch_definition(\"full_table\")\n"
   ],
   "outputs": [],
   "execution_count": 5
  },
  {
   "cell_type": "markdown",
   "id": "f88a95da",
   "metadata": {},
   "source": [
    "### Creating Datasource (Pandas)"
   ]
  },
  {
   "cell_type": "code",
   "id": "40173bf0",
   "metadata": {
    "ExecuteTime": {
     "end_time": "2025-06-23T11:38:56.639565Z",
     "start_time": "2025-06-23T11:38:56.631592Z"
    }
   },
   "source": [
    "data_source_name_pandas ='temperature_data'\n",
    "data_source_pandas = context.data_sources.add_pandas(name=data_source_name_pandas)\n"
   ],
   "outputs": [],
   "execution_count": 6
  },
  {
   "cell_type": "markdown",
   "id": "b7e8aa62",
   "metadata": {},
   "source": [
    "### Creating Data Asset (Pandas)"
   ]
  },
  {
   "cell_type": "code",
   "id": "9081227f",
   "metadata": {
    "ExecuteTime": {
     "end_time": "2025-06-23T11:38:56.664586Z",
     "start_time": "2025-06-23T11:38:56.655719Z"
    }
   },
   "source": [
    "data_asset_name_pandas = 'temperature_entity_asset'\n",
    "data_asset_pandas = data_source_pandas.add_dataframe_asset(name = data_asset_name_pandas)\n"
   ],
   "outputs": [],
   "execution_count": 7
  },
  {
   "cell_type": "markdown",
   "id": "d609da11",
   "metadata": {},
   "source": [
    "### Creating Batch Definition (Pandas)"
   ]
  },
  {
   "cell_type": "code",
   "id": "27f588f9",
   "metadata": {
    "ExecuteTime": {
     "end_time": "2025-06-23T11:38:56.690028Z",
     "start_time": "2025-06-23T11:38:56.679916Z"
    }
   },
   "source": [
    "batch_definition_name_pandas ='full_batch'\n",
    "batch_definition_pandas = data_asset_pandas.add_batch_definition_whole_dataframe(batch_definition_name_pandas)\n"
   ],
   "outputs": [],
   "execution_count": 8
  },
  {
   "cell_type": "markdown",
   "id": "9fe4b9dd",
   "metadata": {},
   "source": [
    "### Creating Expectations"
   ]
  },
  {
   "cell_type": "code",
   "id": "dfc0359e",
   "metadata": {
    "ExecuteTime": {
     "end_time": "2025-06-23T11:38:56.712626Z",
     "start_time": "2025-06-23T11:38:56.707755Z"
    }
   },
   "source": [
    "expectation_temp = gx.expectations.ExpectColumnValuesToBeBetween(column=\"temperature\", \n",
    "                                                            max_value=45, min_value=5)\n"
   ],
   "outputs": [],
   "execution_count": 9
  },
  {
   "cell_type": "code",
   "id": "5b90c4cf",
   "metadata": {
    "ExecuteTime": {
     "end_time": "2025-06-23T11:38:56.738733Z",
     "start_time": "2025-06-23T11:38:56.733750Z"
    }
   },
   "source": [
    "expectation_city = gx.expectations.ExpectColumnDistinctValuesToBeInSet(column=\"city\", \n",
    "                                                            value_set=[\"Mumbai\", \"Delhi\"])\n"
   ],
   "outputs": [],
   "execution_count": 10
  },
  {
   "cell_type": "markdown",
   "id": "918ccff5",
   "metadata": {},
   "source": [
    "### Creating Expectation Suite and Adding expectations"
   ]
  },
  {
   "cell_type": "code",
   "id": "a662a81d",
   "metadata": {
    "ExecuteTime": {
     "end_time": "2025-06-23T11:38:56.788611Z",
     "start_time": "2025-06-23T11:38:56.758036Z"
    }
   },
   "source": [
    "expectation_suite_name = \"temperature_data_suite\"\n",
    "expectation_suite_ref = gx.ExpectationSuite(name=expectation_suite_name)\n",
    "expectation_suite = context.suites.add(expectation_suite_ref)\n"
   ],
   "outputs": [],
   "execution_count": 11
  },
  {
   "cell_type": "code",
   "id": "24627667",
   "metadata": {
    "ExecuteTime": {
     "end_time": "2025-06-23T11:38:56.868063Z",
     "start_time": "2025-06-23T11:38:56.808237Z"
    }
   },
   "source": [
    "expectation_suite.add_expectation(expectation_temp)\n",
    "expectation_suite.add_expectation(expectation_city)\n"
   ],
   "outputs": [
    {
     "data": {
      "text/plain": [
       "ExpectColumnDistinctValuesToBeInSet(id='f2749a07-1ea0-4dcf-9c53-6545672700d1', meta=None, notes=None, result_format=<ResultFormat.BASIC: 'BASIC'>, description=None, catch_exceptions=False, rendered_content=None, windows=None, batch_id=None, column='city', row_condition=None, condition_parser=None, value_set=['Mumbai', 'Delhi'])"
      ]
     },
     "execution_count": 12,
     "metadata": {},
     "output_type": "execute_result"
    }
   ],
   "execution_count": 12
  },
  {
   "cell_type": "markdown",
   "id": "c0008223",
   "metadata": {},
   "source": [
    "### Creating Validation Defintions (Sqlite)"
   ]
  },
  {
   "cell_type": "code",
   "id": "d4f121e4",
   "metadata": {
    "ExecuteTime": {
     "end_time": "2025-06-23T11:38:56.898965Z",
     "start_time": "2025-06-23T11:38:56.892835Z"
    }
   },
   "source": [
    "validation_def_name_sqlite = \"temperature_data_validation_sqlite\"\n",
    "validation_definition_ref_sqlite = gx.ValidationDefinition( data=batch_definition_sqlite,\n",
    "                                             suite=expectation_suite,\n",
    "                                             name=validation_def_name_sqlite)\n"
   ],
   "outputs": [],
   "execution_count": 13
  },
  {
   "cell_type": "code",
   "id": "83dbf20a",
   "metadata": {
    "ExecuteTime": {
     "end_time": "2025-06-23T11:38:56.953945Z",
     "start_time": "2025-06-23T11:38:56.920735Z"
    }
   },
   "source": [
    "validation_definition_sqlite = context.validation_definitions.add(validation_definition_ref_sqlite)\n"
   ],
   "outputs": [],
   "execution_count": 14
  },
  {
   "cell_type": "markdown",
   "id": "23e3bb38",
   "metadata": {},
   "source": [
    "### Creating Validation Definition (Pandas)"
   ]
  },
  {
   "cell_type": "code",
   "id": "ebf18bd0",
   "metadata": {
    "ExecuteTime": {
     "end_time": "2025-06-23T11:38:56.980414Z",
     "start_time": "2025-06-23T11:38:56.975418Z"
    }
   },
   "source": [
    "validation_def_name_pandas = \"temperature_data_validation_pandas\"\n",
    "validation_definition_ref_pandas = gx.ValidationDefinition( data=batch_definition_pandas,\n",
    "                                             suite=expectation_suite,\n",
    "                                             name=validation_def_name_pandas)\n"
   ],
   "outputs": [],
   "execution_count": 15
  },
  {
   "cell_type": "code",
   "id": "b155c9ea",
   "metadata": {
    "ExecuteTime": {
     "end_time": "2025-06-23T11:38:57.039562Z",
     "start_time": "2025-06-23T11:38:57.006927Z"
    }
   },
   "source": [
    "validation_definition_pandas = context.validation_definitions.add(validation_definition_ref_pandas)\n"
   ],
   "outputs": [],
   "execution_count": 16
  },
  {
   "cell_type": "markdown",
   "id": "88dfaab8",
   "metadata": {},
   "source": [
    "### Creating Checkpoint (Sqlite)"
   ]
  },
  {
   "cell_type": "code",
   "id": "c3fb5103",
   "metadata": {
    "ExecuteTime": {
     "end_time": "2025-06-23T11:38:57.093964Z",
     "start_time": "2025-06-23T11:38:57.088875Z"
    }
   },
   "source": [
    "checkpoint_name_sqlite = \"temperature_run_checkpoint_sqlite\"\n",
    "checkpoint_to_add_sqlite = gx.Checkpoint(name=checkpoint_name_sqlite,                                 \n",
    "                                  validation_definitions=[validation_definition_sqlite ],\n",
    "                                  actions=[],\n",
    "                                  result_format=\"BASIC\"\n",
    ")\n"
   ],
   "outputs": [],
   "execution_count": 17
  },
  {
   "cell_type": "code",
   "id": "ae83611c",
   "metadata": {
    "ExecuteTime": {
     "end_time": "2025-06-23T11:38:57.145329Z",
     "start_time": "2025-06-23T11:38:57.115713Z"
    }
   },
   "source": [
    "checkpoint_sqlite = context.checkpoints.add(checkpoint_to_add_sqlite)\n"
   ],
   "outputs": [],
   "execution_count": 18
  },
  {
   "cell_type": "markdown",
   "id": "a21c0f32",
   "metadata": {},
   "source": [
    "### Creating Checkpoint(Pandas)"
   ]
  },
  {
   "cell_type": "code",
   "id": "b58256fc",
   "metadata": {
    "ExecuteTime": {
     "end_time": "2025-06-23T11:38:57.173412Z",
     "start_time": "2025-06-23T11:38:57.168030Z"
    }
   },
   "source": [
    "checkpoint_name_pandas= \"temperature_run_checkpoint_pandas\"\n",
    "checkpoint_to_add_pandas = gx.Checkpoint(name=checkpoint_name_pandas,                                 \n",
    "                                  validation_definitions=[validation_definition_pandas ],\n",
    "                                  actions=[],\n",
    "                                  result_format=\"BASIC\"\n",
    ")\n"
   ],
   "outputs": [],
   "execution_count": 19
  },
  {
   "cell_type": "code",
   "id": "913099bf",
   "metadata": {
    "ExecuteTime": {
     "end_time": "2025-06-23T11:38:57.229130Z",
     "start_time": "2025-06-23T11:38:57.198961Z"
    }
   },
   "source": [
    "checkpoint_pandas = context.checkpoints.add(checkpoint_to_add_pandas)\n"
   ],
   "outputs": [],
   "execution_count": 20
  },
  {
   "cell_type": "markdown",
   "id": "179d78fa",
   "metadata": {},
   "source": [
    "### Running Checkpoint (Sqlite)"
   ]
  },
  {
   "cell_type": "code",
   "id": "3ccde491",
   "metadata": {
    "ExecuteTime": {
     "end_time": "2025-06-23T11:38:57.362406Z",
     "start_time": "2025-06-23T11:38:57.252870Z"
    }
   },
   "source": [
    "validation_result_sqlite = checkpoint_sqlite.run()\n"
   ],
   "outputs": [
    {
     "data": {
      "text/plain": [
       "Calculating Metrics:   0%|          | 0/12 [00:00<?, ?it/s]"
      ],
      "application/vnd.jupyter.widget-view+json": {
       "version_major": 2,
       "version_minor": 0,
       "model_id": "dae1cc1c25564733aea4313f73ab5f67"
      }
     },
     "metadata": {},
     "output_type": "display_data"
    }
   ],
   "execution_count": 21
  },
  {
   "cell_type": "markdown",
   "id": "38ce33da",
   "metadata": {},
   "source": [
    "### Creating Batch Parameter for Pandas Checkpoint"
   ]
  },
  {
   "cell_type": "code",
   "id": "84e2eed1",
   "metadata": {
    "ExecuteTime": {
     "end_time": "2025-06-23T11:38:57.396123Z",
     "start_time": "2025-06-23T11:38:57.387670Z"
    }
   },
   "source": [
    "data_df = pd.read_csv('temperature.csv')\n",
    "data_df.columns = ['date','city','temperature']\n",
    "batch_parameters = {\"dataframe\": data_df}\n"
   ],
   "outputs": [],
   "execution_count": 22
  },
  {
   "cell_type": "markdown",
   "id": "8bf9c0bc",
   "metadata": {},
   "source": [
    "### Running Checkpoint (Pandas)"
   ]
  },
  {
   "cell_type": "code",
   "id": "0fcc61cb",
   "metadata": {
    "ExecuteTime": {
     "end_time": "2025-06-23T11:38:57.541286Z",
     "start_time": "2025-06-23T11:38:57.424106Z"
    }
   },
   "source": [
    "validation_result_pandas = checkpoint_pandas.run(batch_parameters = batch_parameters)\n"
   ],
   "outputs": [
    {
     "data": {
      "text/plain": [
       "Calculating Metrics:   0%|          | 0/9 [00:00<?, ?it/s]"
      ],
      "application/vnd.jupyter.widget-view+json": {
       "version_major": 2,
       "version_minor": 0,
       "model_id": "8e90d0be455d44b8bb401fe2dd045c64"
      }
     },
     "metadata": {},
     "output_type": "display_data"
    }
   ],
   "execution_count": 23
  },
  {
   "cell_type": "markdown",
   "id": "cca07955",
   "metadata": {},
   "source": [
    "### Printing Result"
   ]
  },
  {
   "cell_type": "code",
   "id": "efc3f444",
   "metadata": {
    "scrolled": false,
    "ExecuteTime": {
     "end_time": "2025-06-23T11:40:36.206743Z",
     "start_time": "2025-06-23T11:40:36.189504Z"
    }
   },
   "source": [
    "print()\n",
    "print(\"#######################################################################################################\")\n",
    "print('------------------------------Sqlite Validation Result-------------------------------------------------')\n",
    "print(\"#######################################################################################################\")\n",
    "print()\n",
    "print(validation_result_sqlite)\n",
    "print()\n",
    "print(\"#######################################################################################################\")\n",
    "print('------------------------------Pandas Validation Result-------------------------------------------------')\n",
    "print(\"#######################################################################################################\")\n",
    "print()\n",
    "print(validation_result_pandas)\n"
   ],
   "outputs": [
    {
     "name": "stdout",
     "output_type": "stream",
     "text": [
      "\n",
      "#######################################################################################################\n",
      "------------------------------Sqlite Validation Result-------------------------------------------------\n",
      "#######################################################################################################\n",
      "run_id={\"run_name\": null, \"run_time\": \"2025-06-23T17:38:57.260745+06:00\"} run_results={ValidationResultIdentifier::temperature_data_suite/__none__/20250623T113857.260745Z/sqlite_datasource-temperature_reading: {\n",
      "  \"success\": true,\n",
      "  \"results\": [\n",
      "    {\n",
      "      \"success\": true,\n",
      "      \"expectation_config\": {\n",
      "        \"type\": \"expect_column_values_to_be_between\",\n",
      "        \"kwargs\": {\n",
      "          \"batch_id\": \"sqlite_datasource-temperature_reading\",\n",
      "          \"column\": \"temperature\",\n",
      "          \"min_value\": 5.0,\n",
      "          \"max_value\": 45.0\n",
      "        },\n",
      "        \"meta\": {},\n",
      "        \"id\": \"9b8cd462-48d4-44bd-a8b2-e4c78f91b526\"\n",
      "      },\n",
      "      \"result\": {\n",
      "        \"element_count\": 62,\n",
      "        \"unexpected_count\": 0,\n",
      "        \"unexpected_percent\": 0.0,\n",
      "        \"partial_unexpected_list\": [],\n",
      "        \"missing_count\": 0,\n",
      "        \"missing_percent\": 0.0,\n",
      "        \"unexpected_percent_total\": 0.0,\n",
      "        \"unexpected_percent_nonmissing\": 0.0\n",
      "      },\n",
      "      \"meta\": {},\n",
      "      \"exception_info\": {\n",
      "        \"raised_exception\": false,\n",
      "        \"exception_traceback\": null,\n",
      "        \"exception_message\": null\n",
      "      }\n",
      "    },\n",
      "    {\n",
      "      \"success\": true,\n",
      "      \"expectation_config\": {\n",
      "        \"type\": \"expect_column_distinct_values_to_be_in_set\",\n",
      "        \"kwargs\": {\n",
      "          \"batch_id\": \"sqlite_datasource-temperature_reading\",\n",
      "          \"column\": \"city\",\n",
      "          \"value_set\": [\n",
      "            \"Mumbai\",\n",
      "            \"Delhi\"\n",
      "          ]\n",
      "        },\n",
      "        \"meta\": {},\n",
      "        \"id\": \"f2749a07-1ea0-4dcf-9c53-6545672700d1\"\n",
      "      },\n",
      "      \"result\": {\n",
      "        \"observed_value\": [\n",
      "          \"Delhi\",\n",
      "          \"Mumbai\"\n",
      "        ],\n",
      "        \"details\": {\n",
      "          \"value_counts\": [\n",
      "            {\n",
      "              \"value\": \"Delhi\",\n",
      "              \"count\": 31\n",
      "            },\n",
      "            {\n",
      "              \"value\": \"Mumbai\",\n",
      "              \"count\": 31\n",
      "            }\n",
      "          ]\n",
      "        }\n",
      "      },\n",
      "      \"meta\": {},\n",
      "      \"exception_info\": {\n",
      "        \"raised_exception\": false,\n",
      "        \"exception_traceback\": null,\n",
      "        \"exception_message\": null\n",
      "      }\n",
      "    }\n",
      "  ],\n",
      "  \"suite_name\": \"temperature_data_suite\",\n",
      "  \"suite_parameters\": {},\n",
      "  \"statistics\": {\n",
      "    \"evaluated_expectations\": 2,\n",
      "    \"successful_expectations\": 2,\n",
      "    \"unsuccessful_expectations\": 0,\n",
      "    \"success_percent\": 100.0\n",
      "  },\n",
      "  \"meta\": {\n",
      "    \"great_expectations_version\": \"1.5.1\",\n",
      "    \"batch_spec\": {\n",
      "      \"type\": \"table\",\n",
      "      \"data_asset_name\": \"temperature_reading\",\n",
      "      \"table_name\": \"temperature_reading\",\n",
      "      \"schema_name\": null,\n",
      "      \"batch_identifiers\": {}\n",
      "    },\n",
      "    \"batch_markers\": {\n",
      "      \"ge_load_time\": \"20250623T113857.262243Z\"\n",
      "    },\n",
      "    \"active_batch_definition\": {\n",
      "      \"datasource_name\": \"sqlite_datasource\",\n",
      "      \"data_connector_name\": \"fluent\",\n",
      "      \"data_asset_name\": \"temperature_reading\",\n",
      "      \"batch_identifiers\": {}\n",
      "    },\n",
      "    \"validation_id\": \"2e260f0c-3381-450b-93bd-b90d5eb335a4\",\n",
      "    \"checkpoint_id\": \"9bf820e9-ac5b-4096-ad14-5390b8f1cab4\",\n",
      "    \"run_id\": {\n",
      "      \"run_name\": null,\n",
      "      \"run_time\": \"2025-06-23T17:38:57.260745+06:00\"\n",
      "    },\n",
      "    \"validation_time\": \"2025-06-23T11:38:57.260745+00:00\",\n",
      "    \"batch_parameters\": null\n",
      "  },\n",
      "  \"id\": null\n",
      "}} checkpoint_config=Checkpoint(name='temperature_run_checkpoint_sqlite', validation_definitions=[ValidationDefinition(name='temperature_data_validation_sqlite', data=BatchDefinition(id=UUID('1bb423db-1c2b-49c9-9b58-f1b6ddef9fb8'), name='full_table', partitioner=None), suite={\n",
      "  \"name\": \"temperature_data_suite\",\n",
      "  \"id\": \"66f77602-0dfa-4c3b-9ded-e3a513c64f7c\",\n",
      "  \"expectations\": [\n",
      "    {\n",
      "      \"type\": \"expect_column_values_to_be_between\",\n",
      "      \"kwargs\": {\n",
      "        \"column\": \"temperature\",\n",
      "        \"min_value\": 5.0,\n",
      "        \"max_value\": 45.0\n",
      "      },\n",
      "      \"meta\": {},\n",
      "      \"id\": \"9b8cd462-48d4-44bd-a8b2-e4c78f91b526\"\n",
      "    },\n",
      "    {\n",
      "      \"type\": \"expect_column_distinct_values_to_be_in_set\",\n",
      "      \"kwargs\": {\n",
      "        \"column\": \"city\",\n",
      "        \"value_set\": [\n",
      "          \"Mumbai\",\n",
      "          \"Delhi\"\n",
      "        ]\n",
      "      },\n",
      "      \"meta\": {},\n",
      "      \"id\": \"f2749a07-1ea0-4dcf-9c53-6545672700d1\"\n",
      "    }\n",
      "  ],\n",
      "  \"meta\": {\n",
      "    \"great_expectations_version\": \"1.5.1\"\n",
      "  },\n",
      "  \"notes\": null\n",
      "}, id='2e260f0c-3381-450b-93bd-b90d5eb335a4')], actions=[], result_format=<ResultFormat.BASIC: 'BASIC'>, id='9bf820e9-ac5b-4096-ad14-5390b8f1cab4') success=True\n",
      "\n",
      "#######################################################################################################\n",
      "------------------------------Pandas Validation Result-------------------------------------------------\n",
      "#######################################################################################################\n",
      "\n",
      "run_id={\"run_name\": null, \"run_time\": \"2025-06-23T17:38:57.432876+06:00\"} run_results={ValidationResultIdentifier::temperature_data_suite/__none__/20250623T113857.432876Z/temperature_data-temperature_entity_asset: {\n",
      "  \"success\": true,\n",
      "  \"results\": [\n",
      "    {\n",
      "      \"success\": true,\n",
      "      \"expectation_config\": {\n",
      "        \"type\": \"expect_column_values_to_be_between\",\n",
      "        \"kwargs\": {\n",
      "          \"batch_id\": \"temperature_data-temperature_entity_asset\",\n",
      "          \"column\": \"temperature\",\n",
      "          \"min_value\": 5.0,\n",
      "          \"max_value\": 45.0\n",
      "        },\n",
      "        \"meta\": {},\n",
      "        \"id\": \"9b8cd462-48d4-44bd-a8b2-e4c78f91b526\"\n",
      "      },\n",
      "      \"result\": {\n",
      "        \"element_count\": 62,\n",
      "        \"unexpected_count\": 0,\n",
      "        \"unexpected_percent\": 0.0,\n",
      "        \"partial_unexpected_list\": [],\n",
      "        \"missing_count\": 0,\n",
      "        \"missing_percent\": 0.0,\n",
      "        \"unexpected_percent_total\": 0.0,\n",
      "        \"unexpected_percent_nonmissing\": 0.0\n",
      "      },\n",
      "      \"meta\": {},\n",
      "      \"exception_info\": {\n",
      "        \"raised_exception\": false,\n",
      "        \"exception_traceback\": null,\n",
      "        \"exception_message\": null\n",
      "      }\n",
      "    },\n",
      "    {\n",
      "      \"success\": true,\n",
      "      \"expectation_config\": {\n",
      "        \"type\": \"expect_column_distinct_values_to_be_in_set\",\n",
      "        \"kwargs\": {\n",
      "          \"batch_id\": \"temperature_data-temperature_entity_asset\",\n",
      "          \"column\": \"city\",\n",
      "          \"value_set\": [\n",
      "            \"Mumbai\",\n",
      "            \"Delhi\"\n",
      "          ]\n",
      "        },\n",
      "        \"meta\": {},\n",
      "        \"id\": \"f2749a07-1ea0-4dcf-9c53-6545672700d1\"\n",
      "      },\n",
      "      \"result\": {\n",
      "        \"observed_value\": [\n",
      "          \"Delhi\",\n",
      "          \"Mumbai\"\n",
      "        ],\n",
      "        \"details\": {\n",
      "          \"value_counts\": [\n",
      "            {\n",
      "              \"value\": \"Delhi\",\n",
      "              \"count\": 31\n",
      "            },\n",
      "            {\n",
      "              \"value\": \"Mumbai\",\n",
      "              \"count\": 31\n",
      "            }\n",
      "          ]\n",
      "        }\n",
      "      },\n",
      "      \"meta\": {},\n",
      "      \"exception_info\": {\n",
      "        \"raised_exception\": false,\n",
      "        \"exception_traceback\": null,\n",
      "        \"exception_message\": null\n",
      "      }\n",
      "    }\n",
      "  ],\n",
      "  \"suite_name\": \"temperature_data_suite\",\n",
      "  \"suite_parameters\": {},\n",
      "  \"statistics\": {\n",
      "    \"evaluated_expectations\": 2,\n",
      "    \"successful_expectations\": 2,\n",
      "    \"unsuccessful_expectations\": 0,\n",
      "    \"success_percent\": 100.0\n",
      "  },\n",
      "  \"meta\": {\n",
      "    \"great_expectations_version\": \"1.5.1\",\n",
      "    \"batch_spec\": {\n",
      "      \"batch_data\": \"PandasDataFrame\"\n",
      "    },\n",
      "    \"batch_markers\": {\n",
      "      \"ge_load_time\": \"20250623T113857.434870Z\",\n",
      "      \"pandas_data_fingerprint\": \"630c38d4b2ba632bf4cae25fb0a47f6c\"\n",
      "    },\n",
      "    \"active_batch_definition\": {\n",
      "      \"datasource_name\": \"temperature_data\",\n",
      "      \"data_connector_name\": \"fluent\",\n",
      "      \"data_asset_name\": \"temperature_entity_asset\",\n",
      "      \"batch_identifiers\": {\n",
      "        \"dataframe\": \"<DATAFRAME>\"\n",
      "      }\n",
      "    },\n",
      "    \"validation_id\": \"5a67aba3-9e16-4ee7-bd2a-2ab976cfa661\",\n",
      "    \"checkpoint_id\": \"5dcede1e-0811-44a7-989c-a36fb88f1d2b\",\n",
      "    \"run_id\": {\n",
      "      \"run_name\": null,\n",
      "      \"run_time\": \"2025-06-23T17:38:57.432876+06:00\"\n",
      "    },\n",
      "    \"validation_time\": \"2025-06-23T11:38:57.432876+00:00\",\n",
      "    \"batch_parameters\": {\n",
      "      \"dataframe\": \"<DATAFRAME>\"\n",
      "    }\n",
      "  },\n",
      "  \"id\": null\n",
      "}} checkpoint_config=Checkpoint(name='temperature_run_checkpoint_pandas', validation_definitions=[ValidationDefinition(name='temperature_data_validation_pandas', data=BatchDefinition(id=UUID('a6c519e4-113e-40b8-aa61-9bad7c7fcd71'), name='full_batch', partitioner=None), suite={\n",
      "  \"name\": \"temperature_data_suite\",\n",
      "  \"id\": \"66f77602-0dfa-4c3b-9ded-e3a513c64f7c\",\n",
      "  \"expectations\": [\n",
      "    {\n",
      "      \"type\": \"expect_column_values_to_be_between\",\n",
      "      \"kwargs\": {\n",
      "        \"column\": \"temperature\",\n",
      "        \"min_value\": 5.0,\n",
      "        \"max_value\": 45.0\n",
      "      },\n",
      "      \"meta\": {},\n",
      "      \"id\": \"9b8cd462-48d4-44bd-a8b2-e4c78f91b526\"\n",
      "    },\n",
      "    {\n",
      "      \"type\": \"expect_column_distinct_values_to_be_in_set\",\n",
      "      \"kwargs\": {\n",
      "        \"column\": \"city\",\n",
      "        \"value_set\": [\n",
      "          \"Mumbai\",\n",
      "          \"Delhi\"\n",
      "        ]\n",
      "      },\n",
      "      \"meta\": {},\n",
      "      \"id\": \"f2749a07-1ea0-4dcf-9c53-6545672700d1\"\n",
      "    }\n",
      "  ],\n",
      "  \"meta\": {\n",
      "    \"great_expectations_version\": \"1.5.1\"\n",
      "  },\n",
      "  \"notes\": null\n",
      "}, id='5a67aba3-9e16-4ee7-bd2a-2ab976cfa661')], actions=[], result_format=<ResultFormat.BASIC: 'BASIC'>, id='5dcede1e-0811-44a7-989c-a36fb88f1d2b') success=True\n"
     ]
    }
   ],
   "execution_count": 26
  }
 ],
 "metadata": {
  "kernelspec": {
   "display_name": "Python 3",
   "language": "python",
   "name": "python3"
  },
  "language_info": {
   "codemirror_mode": {
    "name": "ipython",
    "version": 3
   },
   "file_extension": ".py",
   "mimetype": "text/x-python",
   "name": "python",
   "nbconvert_exporter": "python",
   "pygments_lexer": "ipython3",
   "version": "3.8.8"
  }
 },
 "nbformat": 4,
 "nbformat_minor": 5
}
